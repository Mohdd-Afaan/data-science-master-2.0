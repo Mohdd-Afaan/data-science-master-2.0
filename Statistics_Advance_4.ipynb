{
  "nbformat": 4,
  "nbformat_minor": 0,
  "metadata": {
    "colab": {
      "provenance": [],
      "authorship_tag": "ABX9TyNdUgfMIC/K97gmwycHRqKg",
      "include_colab_link": true
    },
    "kernelspec": {
      "name": "python3",
      "display_name": "Python 3"
    },
    "language_info": {
      "name": "python"
    },
    "accelerator": "TPU"
  },
  "cells": [
    {
      "cell_type": "markdown",
      "metadata": {
        "id": "view-in-github",
        "colab_type": "text"
      },
      "source": [
        "<a href=\"https://colab.research.google.com/github/Mohdd-Afaan/data-science-master-2.0/blob/main/Statistics_Advance_4.ipynb\" target=\"_parent\"><img src=\"https://colab.research.google.com/assets/colab-badge.svg\" alt=\"Open In Colab\"/></a>"
      ]
    },
    {
      "cell_type": "markdown",
      "source": [
        "Q1: What is the difference between a t-test and a z-test? Provide an example scenario where you would\n",
        "use each type of test."
      ],
      "metadata": {
        "id": "QUy0BqUdn89v"
      }
    },
    {
      "cell_type": "markdown",
      "source": [
        "Ans: The key difference between a t-test and a z-test lies in the circumstances under which they are appropriate, primarily related to the sample size and whether the population standard deviation is known.\n",
        "T-Test:\n",
        "Applicability: Typically used when the sample size is small (usually less than 30) or when the population standard deviation is unknown.\n",
        "Example Scenario: Suppose you have a small sample size (e.g., 20) and want to test if the mean of this sample is significantly different from a known population mean.\n",
        "Z-Test:\n",
        "Applicability: Typically used when the sample size is large (usually greater than 30) and the population standard deviation is known.\n",
        "Example Scenario: Imagine you have a large sample size (e.g., 100) and you know the standard deviation of the entire population. You want to test if the mean of your sample significantly differs from the known population mean."
      ],
      "metadata": {
        "id": "ZeBjJM9HoAxZ"
      }
    },
    {
      "cell_type": "markdown",
      "source": [
        "Q2: Differentiate between one-tailed and two-tailed tests."
      ],
      "metadata": {
        "id": "y6YgGDWho1Ji"
      }
    },
    {
      "cell_type": "markdown",
      "source": [
        "Ans: One-Tailed Test:\n",
        "Definition: In a one-tailed (or one-sided) test, the critical region or rejection region is located entirely in one tail of the distribution (either the left or the right).\n",
        "Objective: Used when the hypothesis specifies the direction of the effect (e.g., greater than, less than).\n",
        "Critical Region: Typically used to test if a parameter is significantly greater than or less than a hypothesized value.\n",
        "Two-Tailed Test:\n",
        "Definition: In a two-tailed (or two-sided) test, the critical region is divided between both tails of the distribution.\n",
        "Objective: Used when the hypothesis does not specify the direction of the effect but only that there is a significant difference.\n",
        "Critical Region: Typically used to test if a parameter is significantly different from a hypothesized value."
      ],
      "metadata": {
        "id": "1IMTZ1cvo1_D"
      }
    },
    {
      "cell_type": "markdown",
      "source": [
        "Q3: Explain the concept of Type 1 and Type 2 errors in hypothesis testing. Provide an example scenario for\n",
        "each type of error."
      ],
      "metadata": {
        "id": "uopMQeJapXqM"
      }
    },
    {
      "cell_type": "markdown",
      "source": [
        "Ans: Definition: Type 1 error occurs when the null hypothesis is incorrectly rejected when it is actually true. In other words, it is a false positive.\n",
        "Example Scenario:\n",
        "Hypotheses:\n",
        "Null Hypothesis (H0): The drug has no effect on patients.\n",
        "Alternative Hypothesis (H1): The drug has a positive effect on patients.\n",
        "Type 1 Error: Concluding that the drug has a positive effect when, in reality, it does not.\n",
        "Definition: Type 2 error occurs when the null hypothesis is not rejected when it is actually false. In other words, it is a false negative.\n",
        "Example Scenario:\n",
        "Hypotheses:\n",
        "Null Hypothesis (H0): The new manufacturing process produces defective items at an acceptable rate.\n",
        "Alternative Hypothesis (H1): The new manufacturing process produces defective items at an unacceptable rate.\n",
        "Type 2 Error: Failing to detect that the new manufacturing process produces defective items at an unacceptable rate."
      ],
      "metadata": {
        "id": "wyQJXFSTpaD8"
      }
    },
    {
      "cell_type": "markdown",
      "source": [
        "Q4: Explain Bayes's theorem with an example."
      ],
      "metadata": {
        "id": "cV5s6L89qHQy"
      }
    },
    {
      "cell_type": "markdown",
      "source": [
        "Ans: Bayes's Theorem is a mathematical formula that describes the probability of an event based on prior knowledge of conditions that might be related to the event.  The formula is expressed as:\n",
        "P(A|B) = P(B|A).P(A) / P(B)\n",
        "Where:\n",
        "P(A|B) is the probability of event A occurring given that event B has occurred (the posterior probability).\n",
        "P(B|A) is the probability of event B occurring given that event A has occurred (the likelihood).\n",
        "P(A) is the prior probability of event A.\n",
        "P(B) is the prior probability of event B.\n",
        "Example:\n",
        "A bag I contains 4 white and 6 black balls while another Bag II contains 4 white and 3 black balls. One ball is drawn at random from one of the bags, and it is found to be black. Find the probability that it was drawn from Bag I.\n",
        "Solution:\n",
        "Let's denote the events as follows:\n",
        "Event A: Drawing a ball from Bag I.\n",
        "Event B: Drawing a black ball.\n",
        "We are asked to find the conditional probability P(A|B), which is the probability of drawing a ball from Bag I given that a black ball was drawn.\n",
        "Using Bayes's Theorem:\n",
        "P(B|A): Probability of drawing a black ball given that the ball is drawn from Bag I. Since Bag I contains 6 black balls out of 10, P(B|A) = 6/10\n",
        "P(A) = P(B) : Probability of drawing a ball from Bag I. Since there are two bags and each is equally likely to be chosen, P(A) = 1/2\n",
        "P(A|B) Probability of drawing a black ball given that the ball is drawn from Bag II. Since Bag II contains 3 black balls out of 7, P(A|B) = 3/7\n",
        "P(B): Probability of drawing a black ball, considering both bags. This is given by the law of total probability: P(B) = P(A).P(B|A) + P(-A).P(B|-A)\n",
        "where -A represents not drawing a ball from Bag I.\n",
        "Therefore,\n",
        "(6/10*1/2) / (6/10*1/2)+(3/7*1/2) = 7/12\n",
        "\n"
      ],
      "metadata": {
        "id": "OvEk1YdpqIT7"
      }
    },
    {
      "cell_type": "markdown",
      "source": [
        "Q5: What is a confidence interval? How to calculate the confidence interval, explain with an example."
      ],
      "metadata": {
        "id": "XwidpL_ZFfz-"
      }
    },
    {
      "cell_type": "markdown",
      "source": [
        "Ans: A confidence interval (CI) is a statistical tool that provides a range of values within which we can be reasonably confident that the true value of a population parameter lies. It is often used to quantify the uncertainty associated with a sample estimate of a population parameter. The confidence level is a measure of the reliability of the interval, and it is often expressed as a percentage.\n",
        "Example: Suppose we want to estimate the average height of a population of adults. We take a random sample of 30 individuals and find that the sample mean is 65 inches, and the sample standard deviation is 3 inches. We want to calculate a 95% confidence interval.\n",
        "To calculate the 95% confidence interval for the population mean height based on the given sample, we can use the t-distribution since the population standard deviation is not known.\n",
        "Since we have a sample size of 30, you have 29 degrees of freedom (df = n - 1).\n",
        "We can use t-tables for this. For df = 29, the critical t-value is approximately 2.045.\n",
        "Calculate the margin of error (ME):\n",
        "ME= t.(s/root n)\n",
        "ME= 2.045*(3/root 30) = 1.1200\n",
        "Calculate the confidence interval:\n",
        "Confidence Interval = mean +- ME = (65 + 1.1200= 66.12 , 65 - 1.1200= 63.88)\n",
        "So, with 95% confidence, we estimate that the true average height of the population is between 63.88 inches and 66.12 inches.\n"
      ],
      "metadata": {
        "id": "ppT7nJwiGHoo"
      }
    },
    {
      "cell_type": "markdown",
      "source": [
        "Q6. Use Bayes' Theorem to calculate the probability of an event occurring given prior knowledge of the\n",
        "event's probability and new evidence. Provide a sample problem and solution."
      ],
      "metadata": {
        "id": "i6an52AILu6Q"
      }
    },
    {
      "cell_type": "markdown",
      "source": [
        "Ans: Bayes' Theorem is a fundamental principle in probability theory that allows us to update the probability of a hypothesis (or event) based on new evidence. The formula for Bayes' Theorem is:\n",
        " P(A|B) = P(B|A).P(A) / P(B) Where: P(A|B) is the probability of event A occurring given that event B has occurred (the posterior probability). P(B|A) is the probability of event B occurring given that event A has occurred (the likelihood). P(A) is the prior probability of event A. P(B) is the prior probability of event B.\n",
        " Example:\n",
        "Suppose a factory produces light bulbs, and two machines, Machine 1 and Machine 2, are used to manufacture them. Machine 1 produces 60% of the bulbs, while Machine 2 produces 40%. The defective rate for bulbs produced by Machine 1 is 5%, and for Machine 2, it is 3%.\n",
        "Now, a randomly selected bulb is found to be defective. What is the probability that it was produced by Machine 1?\n",
        "Solution:\n",
        "Let's define the events:\n",
        "Event A: Bulb is produced by Machine 1.\n",
        "Event B: Bulb is defective.\n",
        "We want to find (A|B), the probability that the bulb is from Machine 1 given that it is defective.\n",
        "P(A): Probability that a bulb is produced by Machine 1 = 0.60\n",
        "P(B|A): Probability that a bulb is defective given it's from Machine 1 = 0.05\n",
        "P(B): Probability that a bulb is defective given it's not from Machine 1 =\n",
        "P(B) =   P(A).P(B|A) + P(-A).P(B|-A) = .60*.05 + .40*.03 = 0.042\n",
        "Now\n",
        "P(A|B) =  0.05 * 0.60 / 0.042 = 0.7142"
      ],
      "metadata": {
        "id": "DYGncKlYMXn6"
      }
    },
    {
      "cell_type": "markdown",
      "source": [
        "Q7. Calculate the 95% confidence interval for a sample of data with a mean of 50 and a standard deviation\n",
        "of 5. Interpret the results."
      ],
      "metadata": {
        "id": "pQYhNGXp9Zro"
      }
    },
    {
      "cell_type": "markdown",
      "source": [
        "Ans: To calculate the 95% confidence interval for a sample with a mean of 50 and a standard deviation of 5  we can use the t-distribution since the population standard deviation is not known. and assumming that sample size is 30.\n",
        "Since we assummed a sample size of 30, you have 29 degrees of freedom (df = n - 1).\n",
        "We can use t-tables for this. For df = 29, the critical t-value is approximately 2.045.\n",
        "Calculate the margin of error (ME): ME= t.(s/root n) ME= 2.045*(5/root 30) = 1.8668\n",
        "Calculate the confidence interval: Confidence Interval = mean +- ME = (50 + 1.8668= 51.8668 , 50 - 1.8668= 48.1332)\n",
        "nterpretation:\n",
        "With 95% confidence, we estimate that the true population mean is between 48.1332 and 51.8668. This means that if we were to take many random samples and calculate 95% confidence intervals for each, we would expect the true population mean to fall within these bounds in approximately 95% of the cases."
      ],
      "metadata": {
        "id": "jPZCDK0C9liI"
      }
    },
    {
      "cell_type": "markdown",
      "source": [
        "Q8. What is the margin of error in a confidence interval? How does sample size affect the margin of error?\n",
        "Provide an example of a scenario where a larger sample size would result in a smaller margin of error."
      ],
      "metadata": {
        "id": "4HzeRuNIAq5A"
      }
    },
    {
      "cell_type": "markdown",
      "source": [
        "Ans: The margin of error (MOE) in a confidence interval represents the range of values above and below the sample estimate within which the true population parameter is likely to lie. It is influenced by the level of confidence chosen and is calculated using the standard error of the sample mean.\n",
        "As Sample Size Increases:\n",
        "When the sample size (n) increases, the denominator of the formula (root n) increases.\n",
        "A larger sample size reduces the standard error of the sample mean.\n",
        "As a result, the margin of error decreases.\n",
        "As Sample Size Decreases:\n",
        "Conversely, when the sample size decreases, the standard error increases, leading to a larger margin of error.\n",
        "Small Sample:\n",
        "Sample Size : 20 students\n",
        "Sample Mean : 65 inches\n",
        "Sample Standard Deviation : 3 inches\n",
        "Confidence Level: 95%\n",
        "Degree of freedom: 20 -1 =19\n",
        "Margin of Error (MOE) = 2.093(3/root 20) = 1.40\n",
        "Large Sample:\n",
        "Sample Size : 101 students\n",
        "Sample Mean : 65 inches\n",
        "Sample Standard Deviation : 3 inches\n",
        "Confidence Level: 95%\n",
        "Degree of freedom: 101 -1 = 100\n",
        "Margin of Error (MOE) = 1.984(3/root 101) = 0.5922\n",
        "\n"
      ],
      "metadata": {
        "id": "yVGOEv7gBOWL"
      }
    },
    {
      "cell_type": "markdown",
      "source": [
        "Q9. Calculate the z-score for a data point with a value of 75, a population mean of 70, and a population\n",
        "standard deviation of 5. Interpret the results."
      ],
      "metadata": {
        "id": "Mmdr1trUFiaz"
      }
    },
    {
      "cell_type": "markdown",
      "source": [
        "Ans: The z-score, also known as the standard score, measures how many standard deviations a particular data point is from the mean of a population. The formula for calculating the z-score is:\n",
        "z = data point - population mean / standard deviation= 75 - 70 / 5= 1= .84134\n",
        "Interpretation :\n",
        "A z-score of 1 indicates that the data point (75) is higher than about 84.13% of the values in the population. In other words, approximately 84.13% of the data falls below a value of 75 in a normal distribution with a mean of 70 and a standard deviation of 5.\n",
        "So, you can say that the data point of 75 is above the average and is in the upper 84.13% of the population, considering the given mean and standard deviation."
      ],
      "metadata": {
        "id": "V3AQGoehFgzM"
      }
    },
    {
      "cell_type": "markdown",
      "source": [
        "Q10. In a study of the effectiveness of a new weight loss drug, a sample of 50 participants lost an average\n",
        "of 6 pounds with a standard deviation of 2.5 pounds. Conduct a hypothesis test to determine if the drug is\n",
        "significantly effective at a 95% confidence level using a t-test."
      ],
      "metadata": {
        "id": "meAoLmavGhAa"
      }
    },
    {
      "cell_type": "code",
      "execution_count": 2,
      "metadata": {
        "id": "TNjBCATjn0tC"
      },
      "outputs": [],
      "source": [
        "import scipy.stats as stats"
      ]
    },
    {
      "cell_type": "code",
      "source": [
        "stats.t.ppf(1-0.05/2,49)"
      ],
      "metadata": {
        "colab": {
          "base_uri": "https://localhost:8080/"
        },
        "id": "L2j-s-3rNGc5",
        "outputId": "03d11fa4-de49-462c-8e37-3ab38081d1a2"
      },
      "execution_count": 3,
      "outputs": [
        {
          "output_type": "execute_result",
          "data": {
            "text/plain": [
              "2.009575234489209"
            ]
          },
          "metadata": {},
          "execution_count": 3
        }
      ]
    },
    {
      "cell_type": "markdown",
      "source": [
        "Ans: H0 = popilation mean = 0 (there is no effect)\n",
        "    H1 = population mean != 0 (there is an effect of medication)\n",
        "    sample_mean = 6\n",
        "    significance_level = 0.05\n",
        "    smaple_size = 50\n",
        "    degree of freedom = 50 - 1 = 49reject H0.\n",
        "    Calculate the t-statistic:\n",
        "    t = 6 - 0 / (2.5/root 50) = 16.970725\n",
        "    critical_value = 2.0095\n",
        "    Conclusion:\n",
        "    Since, 16.970 > 2.0095 we reject H0\n"
      ],
      "metadata": {
        "id": "QVgFC9xcOeXE"
      }
    },
    {
      "cell_type": "markdown",
      "source": [
        "Q11. In a survey of 500 people, 65% reported being satisfied with their current job. Calculate the 95%\n",
        "confidence interval for the true proportion of people who are satisfied with their job."
      ],
      "metadata": {
        "id": "4QccAJKET7GZ"
      }
    },
    {
      "cell_type": "code",
      "source": [
        "import math"
      ],
      "metadata": {
        "id": "-_pViTM9Ns0X"
      },
      "execution_count": 4,
      "outputs": []
    },
    {
      "cell_type": "code",
      "source": [
        "#margin of error\n",
        "math.sqrt(.65*(1-.65)/500)"
      ],
      "metadata": {
        "colab": {
          "base_uri": "https://localhost:8080/"
        },
        "id": "JatlYmSHXmQf",
        "outputId": "7259ce83-77cb-4d5d-f4c2-bed92c13253b"
      },
      "execution_count": 7,
      "outputs": [
        {
          "output_type": "execute_result",
          "data": {
            "text/plain": [
              "0.02133072900770154"
            ]
          },
          "metadata": {},
          "execution_count": 7
        }
      ]
    },
    {
      "cell_type": "code",
      "source": [
        "#z-value\n",
        "stats.norm.ppf((1 + 0.95) / 2)"
      ],
      "metadata": {
        "colab": {
          "base_uri": "https://localhost:8080/"
        },
        "id": "DbhXQMMxXzwa",
        "outputId": "0173abdf-eb8b-4fd2-de65-64d845f2f381"
      },
      "execution_count": 21,
      "outputs": [
        {
          "output_type": "execute_result",
          "data": {
            "text/plain": [
              "1.959963984540054"
            ]
          },
          "metadata": {},
          "execution_count": 21
        }
      ]
    },
    {
      "cell_type": "markdown",
      "source": [
        "Ans: To calculate the 95% confidence interval for the true proportion of people satisfied with their job, we can use the following formula:\n",
        "Confidence Interval = p +- z root p(1-p)/n\n",
        "Where:\n",
        "p : is the sample proportion (65% or 0.65 in decimal form),\n",
        "z : is the critical z-value for a 95% confidence interval,\n",
        "n : sample size 500\n",
        "For a 95% confidence interval, the critical z-value is approximately 1.96\n",
        "Confidence Interval= 0.65 + 1.96 * 0.021 = 0.654116 , 0.65 - 1.96 * 0.021 = 0.645884\n",
        "Therefore, with 95% confidence, we estimate that the true proportion of people satisfied with their job is between 65.4116% and 64.5884%."
      ],
      "metadata": {
        "id": "4457cRZaT-PJ"
      }
    },
    {
      "cell_type": "markdown",
      "source": [
        "Q12. A researcher is testing the effectiveness of two different teaching methods on student performance.\n",
        "Sample A has a mean score of 85 with a standard deviation of 6, while sample B has a mean score of 82\n",
        "with a standard deviation of 5. Conduct a hypothesis test to determine if the two teaching methods have a\n",
        "significant difference in student performance using a t-test with a significance level of 0.01."
      ],
      "metadata": {
        "id": "fcIgPKT_dfbW"
      }
    },
    {
      "cell_type": "markdown",
      "source": [
        "Ans: Formulate Hypotheses:\n",
        "Null Hypothesis: No significant difference in mean scores between the two teaching methods\n",
        "Alternative Hypothesis: There is a significant difference in mean scores between the two teaching methods\n",
        "Significance level = 0.01\n",
        "Calculate the Test Statistic:"
      ],
      "metadata": {
        "id": "d5FQuJJUe1PA"
      }
    },
    {
      "cell_type": "code",
      "source": [
        "t_stat, p_value = stats.ttest_ind(a=[85,6],b=[82,5])\n",
        "print(f\"t_stat:{t_stat},p_value:{p_value}\")\n",
        "alpha = 0.01\n",
        "if p_value < alpha:\n",
        "    print(\"Reject the null hypothesis. There is a significant difference.\")\n",
        "else:\n",
        "    print(\"Fail to reject the null hypothesis. There is no significant difference.\")"
      ],
      "metadata": {
        "colab": {
          "base_uri": "https://localhost:8080/"
        },
        "id": "ZxzrMvoCaZaz",
        "outputId": "65bd9492-f377-4800-c033-247b938380b5"
      },
      "execution_count": 16,
      "outputs": [
        {
          "output_type": "stream",
          "name": "stdout",
          "text": [
            "t_stat:0.036258906479596675,p_value:0.9743695041223197\n",
            "Fail to reject the null hypothesis. There is no significant difference.\n"
          ]
        }
      ]
    },
    {
      "cell_type": "markdown",
      "source": [
        "Q13. A population has a mean of 60 and a standard deviation of 8. A sample of 50 observations has a mean\n",
        "of 65. Calculate the 90% confidence interval for the true population mean."
      ],
      "metadata": {
        "id": "Mj2Q9ooefQBr"
      }
    },
    {
      "cell_type": "code",
      "source": [
        "stats.norm.ppf((1+0.90)/2).round(3)"
      ],
      "metadata": {
        "colab": {
          "base_uri": "https://localhost:8080/"
        },
        "id": "SIc0ztBmcu2S",
        "outputId": "90d5b794-4521-46ba-b03e-becadba7d7bb"
      },
      "execution_count": 28,
      "outputs": [
        {
          "output_type": "execute_result",
          "data": {
            "text/plain": [
              "1.645"
            ]
          },
          "metadata": {},
          "execution_count": 28
        }
      ]
    },
    {
      "cell_type": "code",
      "source": [
        "8/math.sqrt(50)"
      ],
      "metadata": {
        "colab": {
          "base_uri": "https://localhost:8080/"
        },
        "id": "EWfbaA33x5Pu",
        "outputId": "75aeb480-a589-464d-ddf2-938a4961d488"
      },
      "execution_count": 33,
      "outputs": [
        {
          "output_type": "execute_result",
          "data": {
            "text/plain": [
              "1.131370849898476"
            ]
          },
          "metadata": {},
          "execution_count": 33
        }
      ]
    },
    {
      "cell_type": "markdown",
      "source": [
        "Ans:  To calculate the 90% confidence interval we can use the following formula:\n",
        "Confidence Interval = sample mean +- z * standard_deviation /root n\n",
        "Confidence Interval = 65 + 1.645 * 1.131 = 66.860 , 65 - 1.645 * 1.131 = 63.139\n",
        "Therefore, with 90% confidence, we estimate that the true proportion of people satisfied with their job is between 66.86 and 63.139."
      ],
      "metadata": {
        "id": "BnyvGsASxbRT"
      }
    },
    {
      "cell_type": "markdown",
      "source": [
        "Q14. In a study of the effects of caffeine on reaction time, a sample of 30 participants had an average\n",
        "reaction time of 0.25 seconds with a standard deviation of 0.05 seconds. Conduct a hypothesis test to\n",
        "determine if the caffeine has a significant effect on reaction time at a 90% confidence level using a t-test."
      ],
      "metadata": {
        "id": "AD2XDjyO55bD"
      }
    },
    {
      "cell_type": "code",
      "source": [
        "stats.t.ppf((1+0.90)/2,df=29).round(3)\n"
      ],
      "metadata": {
        "colab": {
          "base_uri": "https://localhost:8080/"
        },
        "id": "APaj-3MXh9Jy",
        "outputId": "87f8b6ae-3d83-4b04-c381-7bb784fea83f"
      },
      "execution_count": 55,
      "outputs": [
        {
          "output_type": "execute_result",
          "data": {
            "text/plain": [
              "1.699"
            ]
          },
          "metadata": {},
          "execution_count": 55
        }
      ]
    },
    {
      "cell_type": "code",
      "source": [
        "from scipy.stats import t\n",
        "\n",
        "# Given values\n",
        "sample_mean = 0.25\n",
        "sample_std_dev = 0.05\n",
        "sample_size = 30\n",
        "hypothesized_mean = 0\n",
        "\n",
        "# Calculate the t-statistic\n",
        "t_stat = (sample_mean - hypothesized_mean) / (sample_std_dev / (sample_size**0.5))\n",
        "\n",
        "# Find critical t-values for a two-tailed test with 29 degrees of freedom (30 - 1) and alpha = 0.10\n",
        "t_critical_left = t.ppf(0.05, df=29)\n",
        "t_critical_right = -t_critical_left\n",
        "print(t_critical_left)\n",
        "# Compare the t-statistic with critical values\n",
        "if t_stat < t_critical_left or t_stat > t_critical_right:\n",
        "    print(\"Reject the null hypothesis. There is a significant effect of caffeine on reaction time.\")\n",
        "else:\n",
        "    print(\"Fail to reject the null hypothesis. There is no significant effect of caffeine on reaction time.\")\n"
      ],
      "metadata": {
        "colab": {
          "base_uri": "https://localhost:8080/"
        },
        "id": "qHTaerHE9ZYZ",
        "outputId": "b13efc92-0e4e-4147-d55f-2ce540cadac0"
      },
      "execution_count": 54,
      "outputs": [
        {
          "output_type": "stream",
          "name": "stdout",
          "text": [
            "-1.6991270265334977\n",
            "Reject the null hypothesis. There is a significant effect of caffeine on reaction time.\n"
          ]
        }
      ]
    },
    {
      "cell_type": "markdown",
      "source": [
        "Ans: H0 = hypothizes mean = 0 (There is significant effect of caffine on reaction time)\n",
        "H1 = hypothizes mean != 0 (There is no effect of caffine on reaction time)\n",
        "sample_size = 30\n",
        "sample_mean = 0.25\n",
        "sample_std = 0.05\n",
        "C.I = .90\n",
        "significance_value = .10\n",
        "calculate t-stats\n",
        "0.25/ (0.05/ root 30) = 27.386\n",
        "critical_t\n",
        "+-1.699\n",
        "decision_rule if t-stats < or > +- critical_t Then reject the null hypothesis. There is a significant effect of caffeine on reaction time else fail to reject the null hypothesis. There is no significant effect of caffeine on reaction time.\n",
        "since 27.386 > 1.966 we reject the null hypothesis. There is a significant effect of caffeine on reaction time"
      ],
      "metadata": {
        "id": "vEJSoN7159BP"
      }
    },
    {
      "cell_type": "code",
      "source": [],
      "metadata": {
        "id": "lhv-deie_GUq"
      },
      "execution_count": null,
      "outputs": []
    },
    {
      "cell_type": "code",
      "source": [],
      "metadata": {
        "id": "i0uK500l_G6Q"
      },
      "execution_count": null,
      "outputs": []
    }
  ]
}