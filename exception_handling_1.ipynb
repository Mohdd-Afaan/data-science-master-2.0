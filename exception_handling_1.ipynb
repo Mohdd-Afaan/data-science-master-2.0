{
  "nbformat": 4,
  "nbformat_minor": 0,
  "metadata": {
    "colab": {
      "provenance": [],
      "authorship_tag": "ABX9TyMZ09SnA5NlYaqLnAAA9ldN",
      "include_colab_link": true
    },
    "kernelspec": {
      "name": "python3",
      "display_name": "Python 3"
    },
    "language_info": {
      "name": "python"
    },
    "accelerator": "TPU"
  },
  "cells": [
    {
      "cell_type": "markdown",
      "metadata": {
        "id": "view-in-github",
        "colab_type": "text"
      },
      "source": [
        "<a href=\"https://colab.research.google.com/github/Mohdd-Afaan/data-science-master-2.0/blob/main/exception_handling_1.ipynb\" target=\"_parent\"><img src=\"https://colab.research.google.com/assets/colab-badge.svg\" alt=\"Open In Colab\"/></a>"
      ]
    },
    {
      "cell_type": "markdown",
      "source": [
        "Q1. What is in Exception in python? Write the difference between Exceptions and syntax errors?"
      ],
      "metadata": {
        "id": "hP16VIr58tLR"
      }
    },
    {
      "cell_type": "markdown",
      "source": [
        "Ans: When an error happens during runtime after passing the syntax test its called exceprtion. The difference b/w exception and syntax error is that syntax error can happen during compile time and runtime but the exception occurs during runtime."
      ],
      "metadata": {
        "id": "jtrv2Gdy92qe"
      }
    },
    {
      "cell_type": "code",
      "execution_count": null,
      "metadata": {
        "colab": {
          "base_uri": "https://localhost:8080/",
          "height": 140
        },
        "id": "Nv5UEVE98WPL",
        "outputId": "68fad9ab-3ac4-4d44-af2c-f9abf40ee61e"
      },
      "outputs": [
        {
          "output_type": "error",
          "ename": "SyntaxError",
          "evalue": "ignored",
          "traceback": [
            "\u001b[0;36m  File \u001b[0;32m\"<ipython-input-2-48a7b437a7e0>\"\u001b[0;36m, line \u001b[0;32m2\u001b[0m\n\u001b[0;31m    for i in list(range(5))\u001b[0m\n\u001b[0m                           ^\u001b[0m\n\u001b[0;31mSyntaxError\u001b[0m\u001b[0;31m:\u001b[0m expected ':'\n"
          ]
        }
      ],
      "source": [
        "# syntax error\n",
        "for i in list(range(5))\n",
        "  print(i)"
      ]
    },
    {
      "cell_type": "code",
      "source": [
        "# Exception\n",
        "import csv\n",
        "with open(\"test1.csv\",\"r\")as f:\n",
        "  read = csv.reader(f)\n",
        "  for i in f :\n",
        "    print(i)"
      ],
      "metadata": {
        "colab": {
          "base_uri": "https://localhost:8080/",
          "height": 245
        },
        "id": "CtFwAkYj-9QQ",
        "outputId": "0d9ff48a-0d63-4e84-e974-7da762954919"
      },
      "execution_count": null,
      "outputs": [
        {
          "output_type": "error",
          "ename": "FileNotFoundError",
          "evalue": "ignored",
          "traceback": [
            "\u001b[0;31m---------------------------------------------------------------------------\u001b[0m",
            "\u001b[0;31mFileNotFoundError\u001b[0m                         Traceback (most recent call last)",
            "\u001b[0;32m<ipython-input-3-37f523879fa6>\u001b[0m in \u001b[0;36m<cell line: 2>\u001b[0;34m()\u001b[0m\n\u001b[1;32m      1\u001b[0m \u001b[0;32mimport\u001b[0m \u001b[0mcsv\u001b[0m\u001b[0;34m\u001b[0m\u001b[0;34m\u001b[0m\u001b[0m\n\u001b[0;32m----> 2\u001b[0;31m \u001b[0;32mwith\u001b[0m \u001b[0mopen\u001b[0m\u001b[0;34m(\u001b[0m\u001b[0;34m\"test1.csv\"\u001b[0m\u001b[0;34m,\u001b[0m\u001b[0;34m\"r\"\u001b[0m\u001b[0;34m)\u001b[0m\u001b[0;32mas\u001b[0m \u001b[0mf\u001b[0m\u001b[0;34m:\u001b[0m\u001b[0;34m\u001b[0m\u001b[0;34m\u001b[0m\u001b[0m\n\u001b[0m\u001b[1;32m      3\u001b[0m   \u001b[0mread\u001b[0m \u001b[0;34m=\u001b[0m \u001b[0mcsv\u001b[0m\u001b[0;34m.\u001b[0m\u001b[0mreader\u001b[0m\u001b[0;34m(\u001b[0m\u001b[0mf\u001b[0m\u001b[0;34m)\u001b[0m\u001b[0;34m\u001b[0m\u001b[0;34m\u001b[0m\u001b[0m\n\u001b[1;32m      4\u001b[0m   \u001b[0;32mfor\u001b[0m \u001b[0mi\u001b[0m \u001b[0;32min\u001b[0m \u001b[0mf\u001b[0m \u001b[0;34m:\u001b[0m\u001b[0;34m\u001b[0m\u001b[0;34m\u001b[0m\u001b[0m\n\u001b[1;32m      5\u001b[0m     \u001b[0mprint\u001b[0m\u001b[0;34m(\u001b[0m\u001b[0mi\u001b[0m\u001b[0;34m)\u001b[0m\u001b[0;34m\u001b[0m\u001b[0;34m\u001b[0m\u001b[0m\n",
            "\u001b[0;31mFileNotFoundError\u001b[0m: [Errno 2] No such file or directory: 'test1.csv'"
          ]
        }
      ]
    },
    {
      "cell_type": "markdown",
      "source": [
        "Q2. What happens when an exception is not handled? Explain with an example"
      ],
      "metadata": {
        "id": "pmQzrNG3Apxp"
      }
    },
    {
      "cell_type": "markdown",
      "source": [
        "Ans: When an exception is not handled the code will crash and print an exception error on console"
      ],
      "metadata": {
        "id": "i_DNCcfjBBQL"
      }
    },
    {
      "cell_type": "code",
      "source": [
        "with open(\"todo.txt\",\"r\") as f:\n",
        "    writee = f.write(\"hi\")\n",
        "    f.close()"
      ],
      "metadata": {
        "colab": {
          "base_uri": "https://localhost:8080/",
          "height": 210
        },
        "id": "-GHw7VeIA7vQ",
        "outputId": "0a886fef-4804-4487-97df-c31587009195"
      },
      "execution_count": null,
      "outputs": [
        {
          "output_type": "error",
          "ename": "FileNotFoundError",
          "evalue": "ignored",
          "traceback": [
            "\u001b[0;31m---------------------------------------------------------------------------\u001b[0m",
            "\u001b[0;31mFileNotFoundError\u001b[0m                         Traceback (most recent call last)",
            "\u001b[0;32m<ipython-input-4-bbac1f4c4de4>\u001b[0m in \u001b[0;36m<cell line: 1>\u001b[0;34m()\u001b[0m\n\u001b[0;32m----> 1\u001b[0;31m \u001b[0;32mwith\u001b[0m \u001b[0mopen\u001b[0m\u001b[0;34m(\u001b[0m\u001b[0;34m\"todo.txt\"\u001b[0m\u001b[0;34m,\u001b[0m\u001b[0;34m\"r\"\u001b[0m\u001b[0;34m)\u001b[0m \u001b[0;32mas\u001b[0m \u001b[0mf\u001b[0m\u001b[0;34m:\u001b[0m\u001b[0;34m\u001b[0m\u001b[0;34m\u001b[0m\u001b[0m\n\u001b[0m\u001b[1;32m      2\u001b[0m     \u001b[0mwritee\u001b[0m \u001b[0;34m=\u001b[0m \u001b[0mf\u001b[0m\u001b[0;34m.\u001b[0m\u001b[0mwrite\u001b[0m\u001b[0;34m(\u001b[0m\u001b[0;34m\"hi\"\u001b[0m\u001b[0;34m)\u001b[0m\u001b[0;34m\u001b[0m\u001b[0;34m\u001b[0m\u001b[0m\n\u001b[1;32m      3\u001b[0m     \u001b[0mf\u001b[0m\u001b[0;34m.\u001b[0m\u001b[0mclose\u001b[0m\u001b[0;34m(\u001b[0m\u001b[0;34m)\u001b[0m\u001b[0;34m\u001b[0m\u001b[0;34m\u001b[0m\u001b[0m\n",
            "\u001b[0;31mFileNotFoundError\u001b[0m: [Errno 2] No such file or directory: 'todo.txt'"
          ]
        }
      ]
    },
    {
      "cell_type": "markdown",
      "source": [
        "Q3. Which Python statements are used to catch and handle exceptions? Explain with an example"
      ],
      "metadata": {
        "id": "ZwIHEIS_CsYR"
      }
    },
    {
      "cell_type": "markdown",
      "source": [
        "Ans: The \"try\" and \"except\" block are used in python to catch and handle exceptins."
      ],
      "metadata": {
        "id": "h5T4FksHDcFd"
      }
    },
    {
      "cell_type": "code",
      "source": [
        "try:\n",
        "  with open(\"todo.txt\",\"r\") as f:\n",
        "    writee = f.write(\"hi\")\n",
        "    f.close()\n",
        "except:\n",
        "  print(\"Code has encountered exception error\")"
      ],
      "metadata": {
        "colab": {
          "base_uri": "https://localhost:8080/"
        },
        "id": "1NsPjWVHA7KE",
        "outputId": "e0b0246d-abb8-429d-8389-336eb5c03e9c"
      },
      "execution_count": null,
      "outputs": [
        {
          "output_type": "stream",
          "name": "stdout",
          "text": [
            "Code has encountered exception error\n"
          ]
        }
      ]
    },
    {
      "cell_type": "markdown",
      "source": [
        "Q4. Explain with an example:\n",
        "a.try and else\n",
        "b.finally\n",
        "c.raise"
      ],
      "metadata": {
        "id": "_HzrbNsvDrF4"
      }
    },
    {
      "cell_type": "code",
      "source": [
        "# a\n",
        "# We can't use \"else\" directly with \"try\" block as the both are seprate constructors.\n",
        "try:\n",
        "  with open(\"todo.txt\",\"w\") as f:\n",
        "    writee = f.write(\"hi\")\n",
        "    f.close()\n",
        "except:\n",
        "  print(\"Code has encountered exception error\")\n",
        "else:\n",
        "    print(\"code executed successfully\")"
      ],
      "metadata": {
        "colab": {
          "base_uri": "https://localhost:8080/"
        },
        "id": "ywDU0meaD90R",
        "outputId": "90915323-520c-4ee5-f91a-e7c4007bd483"
      },
      "execution_count": null,
      "outputs": [
        {
          "output_type": "stream",
          "name": "stdout",
          "text": [
            "code executed successfully\n"
          ]
        }
      ]
    },
    {
      "cell_type": "code",
      "source": [
        "# b\n",
        "# finally block will execute its code whether \"try\" and \"except\" block will encounter any error or not\n",
        "try:\n",
        "  with open(\"nxt.txt\",\"r\") as f:\n",
        "    readd = f.read()\n",
        "except:\n",
        "  print(\"Code has encountered exception error\")\n",
        "finally:\n",
        "  print(\"kudukoo\")"
      ],
      "metadata": {
        "colab": {
          "base_uri": "https://localhost:8080/"
        },
        "id": "X8lii9VVFLDS",
        "outputId": "8338efd4-79ac-433d-cc31-0e8af660a512"
      },
      "execution_count": 1,
      "outputs": [
        {
          "output_type": "stream",
          "name": "stdout",
          "text": [
            "Code has encountered exception error\n",
            "kudukoo\n"
          ]
        }
      ]
    },
    {
      "cell_type": "code",
      "source": [
        "# c\n",
        "# raise is used to raise error or exception\n",
        "a = int(input())\n",
        "b = int(input())\n",
        "if b == 0:\n",
        "  raise Exception(\"ZeroDivisionError\")\n",
        "else :\n",
        "  print(a/b)\n"
      ],
      "metadata": {
        "colab": {
          "base_uri": "https://localhost:8080/",
          "height": 279
        },
        "id": "turD8U_ClZka",
        "outputId": "043b57ec-bdbb-43c7-af64-0397735d3e46"
      },
      "execution_count": 10,
      "outputs": [
        {
          "name": "stdout",
          "output_type": "stream",
          "text": [
            "2\n",
            "0\n"
          ]
        },
        {
          "output_type": "error",
          "ename": "Exception",
          "evalue": "ignored",
          "traceback": [
            "\u001b[0;31m---------------------------------------------------------------------------\u001b[0m",
            "\u001b[0;31mException\u001b[0m                                 Traceback (most recent call last)",
            "\u001b[0;32m<ipython-input-10-c179018c4da1>\u001b[0m in \u001b[0;36m<cell line: 5>\u001b[0;34m()\u001b[0m\n\u001b[1;32m      4\u001b[0m \u001b[0mb\u001b[0m \u001b[0;34m=\u001b[0m \u001b[0mint\u001b[0m\u001b[0;34m(\u001b[0m\u001b[0minput\u001b[0m\u001b[0;34m(\u001b[0m\u001b[0;34m)\u001b[0m\u001b[0;34m)\u001b[0m\u001b[0;34m\u001b[0m\u001b[0;34m\u001b[0m\u001b[0m\n\u001b[1;32m      5\u001b[0m \u001b[0;32mif\u001b[0m \u001b[0mb\u001b[0m \u001b[0;34m==\u001b[0m \u001b[0;36m0\u001b[0m\u001b[0;34m:\u001b[0m\u001b[0;34m\u001b[0m\u001b[0;34m\u001b[0m\u001b[0m\n\u001b[0;32m----> 6\u001b[0;31m   \u001b[0;32mraise\u001b[0m \u001b[0mException\u001b[0m\u001b[0;34m(\u001b[0m\u001b[0;34m\"ZeroDivisionError\"\u001b[0m\u001b[0;34m)\u001b[0m\u001b[0;34m\u001b[0m\u001b[0;34m\u001b[0m\u001b[0m\n\u001b[0m\u001b[1;32m      7\u001b[0m \u001b[0;32melse\u001b[0m \u001b[0;34m:\u001b[0m\u001b[0;34m\u001b[0m\u001b[0;34m\u001b[0m\u001b[0m\n\u001b[1;32m      8\u001b[0m   \u001b[0mprint\u001b[0m\u001b[0;34m(\u001b[0m\u001b[0ma\u001b[0m\u001b[0;34m/\u001b[0m\u001b[0mb\u001b[0m\u001b[0;34m)\u001b[0m\u001b[0;34m\u001b[0m\u001b[0;34m\u001b[0m\u001b[0m\n",
            "\u001b[0;31mException\u001b[0m: ZeroDivisionError"
          ]
        }
      ]
    },
    {
      "cell_type": "markdown",
      "source": [
        "Q5. What are Custom Exceptions in python? Why do we need Custom Exceptions? Explain with an example"
      ],
      "metadata": {
        "id": "q0dH2AbLqzM4"
      }
    },
    {
      "cell_type": "markdown",
      "source": [
        "Ans: Custom exceptions are user_defined exceptios that allow you to raise and handle errors specific to the code. Custom ecxeptions are usefull for providing more informative error message."
      ],
      "metadata": {
        "id": "KE_DRTEErBoN"
      }
    },
    {
      "cell_type": "code",
      "source": [
        "try:\n",
        "  age = int(input())\n",
        "  check_age = 2023 - age\n",
        "  if check_age >= 18:\n",
        "    print(\"you are eligible\")\n",
        "  else:\n",
        "    raise Exception\n",
        "except Exception:\n",
        "  print(\"you are not eligible\")\n"
      ],
      "metadata": {
        "id": "IU9MneEzFyVl",
        "colab": {
          "base_uri": "https://localhost:8080/"
        },
        "outputId": "4a34b755-c74c-4954-d215-de56176ad9b7"
      },
      "execution_count": 26,
      "outputs": [
        {
          "output_type": "stream",
          "name": "stdout",
          "text": [
            "2009\n",
            "you are not eligible\n"
          ]
        }
      ]
    },
    {
      "cell_type": "code",
      "source": [
        "1999"
      ],
      "metadata": {
        "id": "x6OcWXYKvBaI"
      },
      "execution_count": null,
      "outputs": []
    },
    {
      "cell_type": "markdown",
      "source": [
        "Q6. Create a custom exception class. Use this class to handle an exception."
      ],
      "metadata": {
        "id": "mQonP7dqyehY"
      }
    },
    {
      "cell_type": "code",
      "source": [
        "class custom_exception(Exception):\n",
        "  pass\n",
        "class ageexception(custom_exception):\n",
        "  pass\n",
        "try:\n",
        "  age = int(input())\n",
        "  check_age = 2023 - age\n",
        "  if check_age >= 18:\n",
        "    print(\"you are eligible\")\n",
        "  else:\n",
        "    raise ageexception\n",
        "except ageexception:\n",
        "  print(\"you are not eligible\")"
      ],
      "metadata": {
        "colab": {
          "base_uri": "https://localhost:8080/"
        },
        "id": "D-dYtutxxvqf",
        "outputId": "d71d69e1-12d5-4f3e-e746-63ac10164d98"
      },
      "execution_count": 29,
      "outputs": [
        {
          "output_type": "stream",
          "name": "stdout",
          "text": [
            "2019\n",
            "you are not eligible\n"
          ]
        }
      ]
    }
  ]
}