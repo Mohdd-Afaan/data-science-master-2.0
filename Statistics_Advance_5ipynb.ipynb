{
  "nbformat": 4,
  "nbformat_minor": 0,
  "metadata": {
    "colab": {
      "provenance": [],
      "authorship_tag": "ABX9TyOyJmpgcxSeGWQPozlqzdAf",
      "include_colab_link": true
    },
    "kernelspec": {
      "name": "python3",
      "display_name": "Python 3"
    },
    "language_info": {
      "name": "python"
    },
    "accelerator": "TPU"
  },
  "cells": [
    {
      "cell_type": "markdown",
      "metadata": {
        "id": "view-in-github",
        "colab_type": "text"
      },
      "source": [
        "<a href=\"https://colab.research.google.com/github/Mohdd-Afaan/data-science-master-2.0/blob/main/Statistics_Advance_5ipynb.ipynb\" target=\"_parent\"><img src=\"https://colab.research.google.com/assets/colab-badge.svg\" alt=\"Open In Colab\"/></a>"
      ]
    },
    {
      "cell_type": "markdown",
      "source": [
        "Q1. Calculate the 95% confidence interval for a sample of data with a mean of 50 and a standard deviation\n",
        "of 5 using Python. Interpret the results."
      ],
      "metadata": {
        "id": "ilj2RC0v6E0F"
      }
    },
    {
      "cell_type": "code",
      "execution_count": 3,
      "metadata": {
        "colab": {
          "base_uri": "https://localhost:8080/"
        },
        "id": "udlJ54EF3pVL",
        "outputId": "2629183a-bc75-4bd2-c6e3-da1177cb83c6"
      },
      "outputs": [
        {
          "output_type": "stream",
          "name": "stdout",
          "text": [
            "95% Confidence Interval: (53.84145882069413, 46.15854117930587)\n"
          ]
        }
      ],
      "source": [
        "import scipy.stats as stats\n",
        "import math\n",
        "# Given values\n",
        "sample_mean = 50\n",
        "sample_std_dev = 5\n",
        "sample_size = 30  # assumption\n",
        "confidence_level = 0.95\n",
        "\n",
        "standard_error = sample_std_dev/math.sqrt(sample_size)\n",
        "critizal_value = stats.norm.ppf((1+confidence_level)/2)\n",
        "margin_of_error = critizal_value * critizal_value\n",
        "\n",
        "confidence_interval = sample_mean + margin_of_error, sample_mean - margin_of_error\n",
        "print(f\"95% Confidence Interval: {confidence_interval}\")"
      ]
    },
    {
      "cell_type": "markdown",
      "source": [
        "Q2. Conduct a chi-square goodness of fit test to determine if the distribution of colors of M&Ms in a bag\n",
        "matches the expected distribution of 20% blue, 20% orange, 20% green, 10% yellow, 10% red, and 20%\n",
        "brown. Use Python to perform the test with a significance level of 0.05."
      ],
      "metadata": {
        "id": "cD7TL9bHGEET"
      }
    },
    {
      "cell_type": "code",
      "source": [
        "from scipy.stats import stats"
      ],
      "metadata": {
        "id": "tN5YFSyWRpKn"
      },
      "execution_count": 7,
      "outputs": []
    },
    {
      "cell_type": "code",
      "source": [
        "import numpy as np\n",
        "import scipy\n",
        "# since we dont have observed data we take a random sample.\n",
        "observed_frequencies = np.array([30, 25, 20, 15, 10, 20])\n",
        "expected_frequencies = np.array([0.20,0.20,0.20,0.10,0.10,0.20]) * sum(observed_frequencies)\n",
        "chisquare_test_statistics,p_value=stats.chisquare(observed_frequencies,expected_frequencies)\n",
        "significance=0.05\n",
        "dof=len(expected_frequencies)-1\n",
        "critical_value=scipy.stats.chi2.ppf(1-significance,dof)\n",
        "print(sum(observed_frequencies),sum(expected_frequencies))\n",
        "print(chisquare_test_statistics,p_value)\n",
        "print(critical_value)\n",
        "if chisquare_test_statistics > critical_value:\n",
        "    print(\"Reject the null hypothesis\")\n",
        "else:\n",
        "    print(\"Accept the null hypothesis\")"
      ],
      "metadata": {
        "colab": {
          "base_uri": "https://localhost:8080/"
        },
        "id": "XweFW3E5GEN4",
        "outputId": "ec07ad18-3687-48a0-bf34-866e8f2cec70"
      },
      "execution_count": 8,
      "outputs": [
        {
          "output_type": "stream",
          "name": "stdout",
          "text": [
            "120 120.0\n",
            "3.9583333333333335 0.5554304329530974\n",
            "11.070497693516351\n",
            "Accept the null hypothesis\n"
          ]
        },
        {
          "output_type": "stream",
          "name": "stderr",
          "text": [
            "<ipython-input-8-4b585b542b7a>:6: DeprecationWarning: Please use `chisquare` from the `scipy.stats` namespace, the `scipy.stats.stats` namespace is deprecated.\n",
            "  chisquare_test_statistics,p_value=stats.chisquare(observed_frequencies,expected_frequencies)\n"
          ]
        }
      ]
    },
    {
      "cell_type": "markdown",
      "source": [
        "Q3. Use Python to calculate the chi-square statistic and p-value for a contingency table with the following\n",
        "data:\n",
        "Group A\n",
        "Outcome 1  20\n",
        "Outcome 2  10\n",
        "Outcome 3  15\n",
        "Group B\n",
        "Outcome 1  15\n",
        "Outcome 2  25\n",
        "Outcome 3  20"
      ],
      "metadata": {
        "id": "8wCpGox3ZKGz"
      }
    },
    {
      "cell_type": "code",
      "source": [
        "from scipy.stats import stats\n",
        "contigency_table = [[20,10,15],[15,25,20]]\n",
        "chi_val,p_val,dof,expected_table = scipy.stats.chi2_contingency(contigency_table)\n",
        "print(f\"chi_val: {chi_val}, p_val: {p_val}\")\n",
        "if p_val < 0.05:\n",
        "    print(\"Reject the null hypothesis: There is a statistically significant association between the groups and the outcomes.\")\n",
        "else:\n",
        "    print(\"Fail to reject the null hypothesis: There is no statistically significant evidence of an association between the groups and the outcomes.\")"
      ],
      "metadata": {
        "colab": {
          "base_uri": "https://localhost:8080/"
        },
        "id": "v9e4PgevZNVt",
        "outputId": "ed572bf6-427b-4c9b-c803-87590cf96895"
      },
      "execution_count": 53,
      "outputs": [
        {
          "output_type": "stream",
          "name": "stdout",
          "text": [
            "chi_val: 5.833333333333334, p_val: 0.05411376622282158\n",
            "Fail to reject the null hypothesis: There is no statistically significant evidence of an association between the groups and the outcomes.\n"
          ]
        }
      ]
    },
    {
      "cell_type": "markdown",
      "source": [
        "Q4. A study of the prevalence of smoking in a population of 500 individuals found that 60 individuals\n",
        "smoked. Use Python to calculate the 95% confidence interval for the true proportion of individuals in the\n",
        "population who smoke."
      ],
      "metadata": {
        "id": "_EEbcdhOo5nS"
      }
    },
    {
      "cell_type": "code",
      "source": [
        "import scipy\n",
        "import math\n",
        "total_population = 500\n",
        "smokers_sample = 60\n",
        "\n",
        "prop_population = smokers_sample / total_population\n",
        "\n",
        "standard_error = math.sqrt(prop_population * (1 - prop_population) / total_population)\n",
        "\n",
        "critical_value = scipy.stats.norm.ppf(1-(1 - 0.95) / 2)\n",
        "\n",
        "margin_of_error = critical_value * standard_error\n",
        "\n",
        "upper_bound = prop_population + margin_of_error\n",
        "lower_bound = prop_population - margin_of_error\n",
        "\n",
        "print(f\"95% Confidence Interval: [{lower_bound:.4f}, {upper_bound:.4f}]\")\n"
      ],
      "metadata": {
        "colab": {
          "base_uri": "https://localhost:8080/"
        },
        "id": "J6G6uFjfaI0h",
        "outputId": "97fe6d17-39bd-4ca7-fd3a-a97621c9366b"
      },
      "execution_count": 19,
      "outputs": [
        {
          "output_type": "stream",
          "name": "stdout",
          "text": [
            "95% Confidence Interval: [0.0915, 0.1485]\n"
          ]
        }
      ]
    },
    {
      "cell_type": "markdown",
      "source": [
        "Q5. Calculate the 90% confidence interval for a sample of data with a mean of 75 and a standard deviation\n",
        "of 12 using Python. Interpret the results."
      ],
      "metadata": {
        "id": "VOdmrSWCumVO"
      }
    },
    {
      "cell_type": "code",
      "source": [
        "import scipy\n",
        "import math\n",
        "\n",
        "sample_mean = 75\n",
        "sample_std = 12\n",
        "sample_size = 20 #assumption\n",
        "degree_of_freedom =  sample_size - 1\n",
        "confidence_interval = 0.90\n",
        "critical_value = scipy.stats.t.ppf(1 - (1 - confidence_interval) / 2, df= degree_of_freedom).round(4)\n",
        "standard_error = sample_std / math.sqrt(sample_size)\n",
        "margin_of_error = critical_value * standard_error\n",
        "\n",
        "upper_bound = sample_mean + margin_of_error\n",
        "lower_bound = sample_mean - margin_of_error\n",
        "\n",
        "print(f\"90% Confidence Interval: [{lower_bound:.4f}, {upper_bound:.4f}] We are 90% confident that the true population mean falls within this interval.\")"
      ],
      "metadata": {
        "colab": {
          "base_uri": "https://localhost:8080/"
        },
        "id": "3aASUEYyul82",
        "outputId": "dae5cee6-9dda-4c5c-af21-83c39b87bc92"
      },
      "execution_count": 31,
      "outputs": [
        {
          "output_type": "stream",
          "name": "stdout",
          "text": [
            "90% Confidence Interval: [70.3603, 79.6397] We are 90% confident that the true population mean falls within this interval.\n"
          ]
        }
      ]
    },
    {
      "cell_type": "markdown",
      "source": [
        "Q6. Use Python to plot the chi-square distribution with 10 degrees of freedom. Label the axes and shade the\n",
        "area corresponding to a chi-square statistic of 15."
      ],
      "metadata": {
        "id": "MTgih7jWzhpN"
      }
    },
    {
      "cell_type": "code",
      "source": [
        "import matplotlib.pyplot as plt\n",
        "import scipy\n",
        "import numpy as np\n",
        "\n",
        "degree_of_freedom = 10\n",
        "x = np.linspace(0, 25, 1000)\n",
        "plt.plot(x,scipy.stats.chi2.pdf(x,degree_of_freedom))\n",
        "x_shaded = np.linspace(0, 15, 100)\n",
        "plt.fill_between(x_shaded, scipy.stats.chi2.pdf(x_shaded, degree_of_freedom), color='skyblue', alpha=0.5, label='Chi-square statistic = 15')\n",
        "plt.xlabel('Chi-square Value')\n",
        "plt.ylabel('Probability Density Function')\n",
        "plt.title(f'Chi-square Distribution with {degree_of_freedom} Degrees of Freedom')\n",
        "plt.legend()\n",
        "plt.show()"
      ],
      "metadata": {
        "colab": {
          "base_uri": "https://localhost:8080/",
          "height": 472
        },
        "id": "TpJcU5jpx5_C",
        "outputId": "d3790596-5b59-4409-edba-1027effcdffd"
      },
      "execution_count": 40,
      "outputs": [
        {
          "output_type": "display_data",
          "data": {
            "text/plain": [
              "<Figure size 640x480 with 1 Axes>"
            ],
            "image/png": "[encoded data removed]"
          },
          "metadata": {}
        }
      ]
    },
    {
      "cell_type": "markdown",
      "source": [
        "Q7. A random sample of 1000 people was asked if they preferred Coke or Pepsi. Of the sample, 520\n",
        "preferred Coke. Calculate a 99% confidence interval for the true proportion of people in the population who\n",
        "prefer Coke."
      ],
      "metadata": {
        "id": "88-BjW8D1TT-"
      }
    },
    {
      "cell_type": "code",
      "source": [
        "import scipy\n",
        "import math\n",
        "total_population = 1000\n",
        "smokers_sample = 520\n",
        "\n",
        "prop_population = smokers_sample / total_population\n",
        "\n",
        "standard_error = math.sqrt(prop_population * (1 - prop_population) / total_population)\n",
        "\n",
        "critical_value = scipy.stats.norm.ppf(1-(1 - 0.99) / 2)\n",
        "\n",
        "margin_of_error = critical_value * standard_error\n",
        "\n",
        "upper_bound = prop_population + margin_of_error\n",
        "lower_bound = prop_population - margin_of_error\n",
        "\n",
        "print(f\"95% Confidence Interval: [{lower_bound:.4f}, {upper_bound:.4f}]\")\n"
      ],
      "metadata": {
        "colab": {
          "base_uri": "https://localhost:8080/"
        },
        "id": "861lO8fCx57A",
        "outputId": "d6a70d9a-8277-48ca-bff5-9f4c2aed27f2"
      },
      "execution_count": 41,
      "outputs": [
        {
          "output_type": "stream",
          "name": "stdout",
          "text": [
            "95% Confidence Interval: [0.4793, 0.5607]\n"
          ]
        }
      ]
    },
    {
      "cell_type": "markdown",
      "source": [
        "Q8. A researcher hypothesizes that a coin is biased towards tails. They flip the coin 100 times and observe\n",
        "45 tails. Conduct a chi-square goodness of fit test to determine if the observed frequencies match the\n",
        "expected frequencies of a fair coin. Use a significance level of 0.05."
      ],
      "metadata": {
        "id": "VYcQji6D6wBJ"
      }
    },
    {
      "cell_type": "code",
      "source": [
        "import scipy.stats as stats\n",
        "H0 = \"The coin is fair\"\n",
        "H1 = \"The coin is biased towards tails\"\n",
        "number_of_filps = 100\n",
        "observed_tails = 45\n",
        "expected_tails = 50\n",
        "expected_heads = 50\n",
        "observed_heads = number_of_filps - observed_tails\n",
        "\n",
        "chi_square_statistic = ((observed_tails - expected_tails)**2 / expected_tails) + ((observed_heads - expected_heads)**2 / expected_heads)\n",
        "\n",
        "df = 1\n",
        "\n",
        "critical_chi_square = stats.chi2.ppf(0.95, df)\n",
        "\n",
        "if chi_square_statistic > critical_chi_square:\n",
        "    decision = f\"Reject {H0} \"\n",
        "else:\n",
        "    decision = f\"Fail to reject {H0} \"\n",
        "\n",
        "print(f\"Chi-Square Statistic: {chi_square_statistic:.4f}\")\n",
        "print(f\"Critical Chi-Square Value: {critical_chi_square:.4f}\")\n",
        "\n",
        "print(\"Decision:\", decision)\n"
      ],
      "metadata": {
        "colab": {
          "base_uri": "https://localhost:8080/"
        },
        "id": "FigF8qTOx53K",
        "outputId": "c0886487-d1a3-4ecd-97e1-c17bbcefd100"
      },
      "execution_count": 52,
      "outputs": [
        {
          "output_type": "stream",
          "name": "stdout",
          "text": [
            "Chi-Square Statistic: 1.0000\n",
            "Critical Chi-Square Value: 3.8415\n",
            "Decision: Fail to reject The coin is fair \n"
          ]
        }
      ]
    },
    {
      "cell_type": "markdown",
      "source": [
        "Q9. A study was conducted to determine if there is an association between smoking status (smoker or\n",
        "non-smoker) and lung cancer diagnosis (yes or no). The results are shown in the contingency table below.\n",
        "Conduct a chi-square test for independence to determine if there is a significant association between\n",
        "smoking status and lung cancer diagnosis.\n",
        "Lung Cancer: Yes\n",
        "Smoker: 60\n",
        "Non-smoker: 30\n",
        "Lung Cancer: No\n",
        "Smoker: 140\n",
        "Non-smoker: 170\n",
        "Use a significance level of 0.05."
      ],
      "metadata": {
        "id": "lR8qjml3-CiJ"
      }
    },
    {
      "cell_type": "code",
      "source": [
        "import scipy\n",
        "\n",
        "observed_frequencies = [[60, 140], [30, 170]]\n",
        "\n",
        "row_totals = [sum(row) for row in observed_frequencies]\n",
        "col_totals = [sum(col) for col in zip(*observed_frequencies)]\n",
        "grand_total = sum(row_totals)\n",
        "\n",
        "expected_frequencies = [\n",
        "    [row_total * col_total / grand_total for col_total in col_totals]\n",
        "    for row_total in row_totals]\n",
        "\n",
        "chi_square_statistic, p_value, _, _ = scipy.stats.chi2_contingency(observed_frequencies)\n",
        "\n",
        "significance_level = 0.05\n",
        "\n",
        "degree_of_freedom = (len(row_totals)-1) * (len(col_totals)-1)\n",
        "\n",
        "critical_value = scipy.stats.chi2.ppf(1 - significance_level ,degree_of_fredom)\n",
        "\n",
        "if chi_square_statistic > critical_value:\n",
        "    decision = \"Reject H0 Smoking status and lung cancer diagnosis are independent\"\n",
        "else:\n",
        "    decision = \"Fail to reject H0 Smoking status and lung cancer diagnosis are dependent\"\n",
        "\n",
        "print(decision)\n"
      ],
      "metadata": {
        "colab": {
          "base_uri": "https://localhost:8080/"
        },
        "id": "X7aojIVxHKk4",
        "outputId": "ec30ea2a-75cf-4de3-87e6-f04e4715bd75"
      },
      "execution_count": 144,
      "outputs": [
        {
          "output_type": "stream",
          "name": "stdout",
          "text": [
            "Reject H0 Smoking status and lung cancer diagnosis are independent\n"
          ]
        }
      ]
    },
    {
      "cell_type": "markdown",
      "source": [
        "Q10. A study was conducted to determine if the proportion of people who prefer milk chocolate, dark\n",
        "chocolate, or white chocolate is different in the U.S. versus the U.K. A random sample of 500 people from\n",
        "the U.S. and a random sample of 500 people from the U.K. were surveyed. The results are shown in the\n",
        "contingency table below. Conduct a chi-square test for independence to determine if there is a significant\n",
        "association between chocolate preference and country of origin.\n",
        "U.S. (n=500)\n",
        "U.K. (n=500)\n",
        "Milk Chocolate 200 225 Dark Chocolate 150 175 White Chocolate 150 100"
      ],
      "metadata": {
        "id": "GZyXoe_WVIWN"
      }
    },
    {
      "cell_type": "code",
      "source": [
        "import scipy\n",
        "\n",
        "observed_frequencies = [[200, 225], [150, 175], [150, 100]]\n",
        "\n",
        "row_totals = [sum(row) for row in observed_frequencies]\n",
        "col_totals = [sum(col) for col in zip(*observed_frequencies)]\n",
        "grand_total = sum(row_totals)\n",
        "\n",
        "expected_frequencies = [[row_total * col_total / grand_total for col_total in col_totals]\n",
        "                        for row_total in row_totals]\n",
        "\n",
        "chi_square_statistic, p_value, _, _ = scipy.stats.chi2_contingency(observed_frequencies)\n",
        "\n",
        "degree_of_freedom = ((len(row_totals)-1)*(len(col_totals)-1))\n",
        "\n",
        "significance_level = 0.01\n",
        "\n",
        "critical_value = scipy.stats.chi2.ppf(1 - significance_level,degree_of_freedom)\n",
        "\n",
        "\n",
        "if chi_square_statistic > critical_value:\n",
        "    decision = \"Reject H0  There is no association between chocolate preference and country of origin.\"\n",
        "else:\n",
        "    decision = \"Fail to reject H0  There is association between chocolate preference and country of origin.\"\n",
        "\n",
        "print(decision)\n"
      ],
      "metadata": {
        "colab": {
          "base_uri": "https://localhost:8080/"
        },
        "id": "m3tkb16AV52z",
        "outputId": "9df1bc50-0921-4990-c599-2c6ed437c3c3"
      },
      "execution_count": 2,
      "outputs": [
        {
          "output_type": "stream",
          "name": "stdout",
          "text": [
            "Reject H0  There is no association between chocolate preference and country of origin.\n"
          ]
        }
      ]
    },
    {
      "cell_type": "markdown",
      "source": [
        "Q11. A random sample of 30 people was selected from a population with an unknown mean and standard\n",
        "deviation. The sample mean was found to be 72 and the sample standard deviation was found to be 10.\n",
        "Conduct a hypothesis test to determine if the population mean is significantly different from 70. Use a\n",
        "significance level of 0.05."
      ],
      "metadata": {
        "id": "boUekqKF9-q-"
      }
    },
    {
      "cell_type": "code",
      "source": [
        "import scipy\n",
        "import math\n",
        "\n",
        "sample_size = 30\n",
        "sample_mean = 72\n",
        "sample_std = 10\n",
        "population_mean_hypothesized = 70\n",
        "significance_level = 0.05\n",
        "\n",
        "t_statistics = (sample_mean - population_mean_hypothesized) / (sample_std/math.sqrt(sample_size))\n",
        "degree_of_freedom = sample_size - 1\n",
        "upper_critical_t_value = scipy.stats.t.ppf(1-(significance_level/2),degree_of_freedom).round(3)\n",
        "lower_critical_t_value = -upper_critical_t_value\n",
        "\n",
        "if abs(t_statistics) > upper_critical_t_value or abs(t_statistics) > lower_critical_t_value:\n",
        "  decision = \"reject H0 the population mean is not 70\"\n",
        "else:\n",
        "  decision = \"failed to reject H0 the population mean is  70\"\n",
        "print(decision)"
      ],
      "metadata": {
        "colab": {
          "base_uri": "https://localhost:8080/"
        },
        "id": "OkosUq_-9-ye",
        "outputId": "8ab733d1-b605-43b0-b70c-4ac4090df6a4"
      },
      "execution_count": 30,
      "outputs": [
        {
          "output_type": "stream",
          "name": "stdout",
          "text": [
            "reject H0 the population mean is not 70\n"
          ]
        }
      ]
    },
    {
      "cell_type": "code",
      "source": [],
      "metadata": {
        "id": "c1SsxKUnA1_b"
      },
      "execution_count": null,
      "outputs": []
    }
  ]
}