{
  "nbformat": 4,
  "nbformat_minor": 0,
  "metadata": {
    "colab": {
      "provenance": [],
      "authorship_tag": "ABX9TyNMX08n/Ipx/6iFtG5n+xip",
      "include_colab_link": true
    },
    "kernelspec": {
      "name": "python3",
      "display_name": "Python 3"
    },
    "language_info": {
      "name": "python"
    },
    "accelerator": "TPU"
  },
  "cells": [
    {
      "cell_type": "markdown",
      "metadata": {
        "id": "view-in-github",
        "colab_type": "text"
      },
      "source": [
        "<a href=\"https://colab.research.google.com/github/Mohdd-Afaan/data-science-master-2.0/blob/main/Statistics_Advance_1.ipynb\" target=\"_parent\"><img src=\"https://colab.research.google.com/assets/colab-badge.svg\" alt=\"Open In Colab\"/></a>"
      ]
    },
    {
      "cell_type": "markdown",
      "source": [
        "Q1. What is the Probability density function?"
      ],
      "metadata": {
        "id": "JRM7nVqCqlLO"
      }
    },
    {
      "cell_type": "markdown",
      "source": [
        "Ans: The Probability Density Function (PDF) is a concept in probability theory and statistics that describes the likelihood of a continuous random variable taking on a particular value. In simpler terms, it is a function that represents the probability distribution of a continuous random variable."
      ],
      "metadata": {
        "id": "zjSiPUOJqpUX"
      }
    },
    {
      "cell_type": "markdown",
      "source": [
        "Q2. What are the types of Probability distribution?"
      ],
      "metadata": {
        "id": "psZpxi3OqpP9"
      }
    },
    {
      "cell_type": "markdown",
      "source": [
        "Ans: There are several types of probability distributions, each associated with different types of random variables. Here are some of the common types:\n",
        "Uniform Distribution:\n",
        "All outcomes are equally likely. The probability density function is constant over the entire range.\n",
        "Example: Rolling a fair six-sided die.\n",
        "Normal Distribution (Gaussian Distribution):\n",
        "Bell-shaped curve characterized by its mean and standard deviation.\n",
        "Many natural phenomena follow a normal distribution.\n",
        "Example: Heights of individuals in a population.\n",
        "Bernoulli Distribution:\n",
        "Bernoulli deals with the outcome of the single trial of the event (experiments with two possible outcomes: success or failure).\n",
        "Characterized by parameters n (number of trials) and p (probability of success).\n",
        "Example: Flipping a coin single time(either we get head or tail).\n",
        "Poisson Distribution:\n",
        "Models the number of events that occur in a fixed interval of time or space.\n",
        "Characterized by the average rate of occurrence .\n",
        "Example: Number of phone calls received at a call center in an hour."
      ],
      "metadata": {
        "id": "-OsisXWLqpJ1"
      }
    },
    {
      "cell_type": "markdown",
      "source": [
        "Q3. Write a Python function to calculate the probability density function of a normal distribution with\n",
        "given mean and standard deviation at a given point."
      ],
      "metadata": {
        "id": "y5EGL8QWuOTF"
      }
    },
    {
      "cell_type": "code",
      "source": [
        "from scipy.stats import norm"
      ],
      "metadata": {
        "id": "WHUCCDPy6InI"
      },
      "execution_count": 39,
      "outputs": []
    },
    {
      "cell_type": "code",
      "source": [
        "def pdf_at_scpecific_point(point,point_mean,point_standard_deviation):\n",
        "  x = norm.pdf(point, loc= point_mean, scale= point_standard_deviation)\n",
        "  return x"
      ],
      "metadata": {
        "id": "UXcGpcrw5xsh"
      },
      "execution_count": 2,
      "outputs": []
    },
    {
      "cell_type": "code",
      "source": [
        "# example\n",
        "# mean= 10\n",
        "# std= 2\n",
        "# point= 12\n",
        "pdf_at_scpecific_point(12,10,2)"
      ],
      "metadata": {
        "colab": {
          "base_uri": "https://localhost:8080/"
        },
        "id": "8BikCUz_6x0X",
        "outputId": "48d19a5f-e469-4a30-8810-c67da4f04b40"
      },
      "execution_count": 3,
      "outputs": [
        {
          "output_type": "execute_result",
          "data": {
            "text/plain": [
              "0.12098536225957168"
            ]
          },
          "metadata": {},
          "execution_count": 3
        }
      ]
    },
    {
      "cell_type": "markdown",
      "source": [
        "Q4. What are the properties of Binomial distribution? Give two examples of events where binomial\n",
        "distribution can be applied."
      ],
      "metadata": {
        "id": "nRrrgiI9uOP9"
      }
    },
    {
      "cell_type": "markdown",
      "source": [
        "Ans: The binomial distribution is a discrete probability distribution that models the number of successes in a fixed number of independent Bernoulli trials, where each trial has only two possible outcomes: success or failure. The properties of the binomial distribution are as follows:\n",
        "Number of Trials (n): The distribution is based on a fixed number of trials, denoted as n.\n",
        "Two Possible Outcomes: Each trial has only two possible outcomes: success (usually denoted as 1) or failure (usually denoted as 0).\n",
        "Independent Trials: The trials are assumed to be independent, meaning the outcome of one trial does not affect the outcome of another.\n",
        "Probability of Success (p): The probability of success on a single trial is denoted as p, and the probability of failure is 1-p.\n",
        "Constant Probability: The probability of success (p) remains constant across all trials.\n",
        "Discrete Values: The random variable representing the number of successes (X) takes on discrete values from 0 to n.\n",
        "Example:\n",
        "Tossing a coin: If a coin is tossed 100 time and counting how many times head ccomes. Each single toss will be the a bernouli trial, and the binomial distribution can be the model where the number of tosses are fixed and number of heads are counted\n",
        "Quality contrtol: In a batch of 1000 goods checking each product is defective or not."
      ],
      "metadata": {
        "id": "5Y2tkwkcuOMi"
      }
    },
    {
      "cell_type": "markdown",
      "source": [
        "Q5. Generate a random sample of size 1000 from a binomial distribution with probability of success 0.4\n",
        "and plot a histogram of the results using matplotlib."
      ],
      "metadata": {
        "id": "cbxixadxnC1-"
      }
    },
    {
      "cell_type": "code",
      "source": [
        "import numpy as np\n",
        "import matplotlib.pyplot as plt"
      ],
      "metadata": {
        "id": "_e7xX0o3qo4g"
      },
      "execution_count": 23,
      "outputs": []
    },
    {
      "cell_type": "code",
      "source": [
        "random_sample= np.random.binomial(1,0.4,size=1000)"
      ],
      "metadata": {
        "id": "QSxflw-rqoJ4"
      },
      "execution_count": 62,
      "outputs": []
    },
    {
      "cell_type": "code",
      "execution_count": 77,
      "metadata": {
        "colab": {
          "base_uri": "https://localhost:8080/",
          "height": 472
        },
        "id": "W71Xpn52qLlb",
        "outputId": "6b1ff9c8-5d97-4b92-86d1-0a4d3fb999f3"
      },
      "outputs": [
        {
          "output_type": "display_data",
          "data": {
            "text/plain": [
              "<Figure size 640x480 with 1 Axes>"
            ],
            "image/png": "[encoded data removed]"
          },
          "metadata": {}
        }
      ],
      "source": [
        "plt.hist(random_sample)\n",
        "plt.title('Binomial Distribution')\n",
        "plt.xlabel('Number of Successes')\n",
        "plt.ylabel('Frequency')\n",
        "plt.show()"
      ]
    },
    {
      "cell_type": "markdown",
      "source": [
        "Q6. Write a Python function to calculate the cumulative distribution function of a Poisson distribution\n",
        "with given mean at a given point."
      ],
      "metadata": {
        "id": "a_JJhuJcv5vs"
      }
    },
    {
      "cell_type": "code",
      "source": [
        "random_sample_2= np.random.poisson(5,size=20)"
      ],
      "metadata": {
        "id": "_bCnuc9spRFC"
      },
      "execution_count": 41,
      "outputs": []
    },
    {
      "cell_type": "code",
      "source": [
        "random_sample_2.mean()"
      ],
      "metadata": {
        "colab": {
          "base_uri": "https://localhost:8080/"
        },
        "id": "XCWmPEDyvKOf",
        "outputId": "f71c40b8-03cb-4821-d322-49613a8ef58f"
      },
      "execution_count": 42,
      "outputs": [
        {
          "output_type": "execute_result",
          "data": {
            "text/plain": [
              "4.65"
            ]
          },
          "metadata": {},
          "execution_count": 42
        }
      ]
    },
    {
      "cell_type": "code",
      "source": [
        "def cdf_at_scpecific_point(point,point_mean):\n",
        "  x = norm.cdf(point, loc= point_mean)\n",
        "  return x"
      ],
      "metadata": {
        "id": "dii1rzDuvh-Z"
      },
      "execution_count": 44,
      "outputs": []
    },
    {
      "cell_type": "code",
      "source": [
        "cdf_at_scpecific_point(random_sample_2,4.65)"
      ],
      "metadata": {
        "colab": {
          "base_uri": "https://localhost:8080/"
        },
        "id": "RH43CHhPvUTP",
        "outputId": "449e987d-334d-43f1-8e91-cdab237a0592"
      },
      "execution_count": 50,
      "outputs": [
        {
          "output_type": "execute_result",
          "data": {
            "text/plain": [
              "array([4.94714680e-02, 4.94714680e-02, 4.02458854e-03, 1.00000000e+00,\n",
              "       9.99595942e-01, 2.57846111e-01, 1.65967514e-06, 6.36830651e-01,\n",
              "       2.57846111e-01, 4.02458854e-03, 2.57846111e-01, 9.99595942e-01,\n",
              "       9.11492009e-01, 6.36830651e-01, 9.99595942e-01, 2.57846111e-01,\n",
              "       2.57846111e-01, 6.36830651e-01, 6.36830651e-01, 4.02458854e-03])"
            ]
          },
          "metadata": {},
          "execution_count": 50
        }
      ]
    },
    {
      "cell_type": "markdown",
      "source": [
        "Q7. How Binomial distribution different from Poisson distribution?"
      ],
      "metadata": {
        "id": "dGVHRT-9wVwz"
      }
    },
    {
      "cell_type": "markdown",
      "source": [
        "Ans: Nature of Events: Binomial deals with binary outcomes (success or failure), while Poisson deals with counting the number of events in a continuous interval.\n",
        "Number of Trials: Binomial has a fixed number of trials, whereas Poisson is for events occurring in a fixed interval.\n",
        "Probability of Success: Binomial has a constant probability of success, while Poisson focuses on the rate of events per unit of time or space.\n",
        "Parameterization: Binomial is characterized by n and p, while Poisson is characterized by a single parameter  (average rate).\n"
      ],
      "metadata": {
        "id": "sbFwJcH3xUi3"
      }
    },
    {
      "cell_type": "markdown",
      "source": [
        "Q8. Generate a random sample of size 1000 from a Poisson distribution with mean 5 and calculate the\n",
        "sample mean and variance."
      ],
      "metadata": {
        "id": "NDasoeP61L4R"
      }
    },
    {
      "cell_type": "code",
      "source": [
        "random_sample_3= np.random.poisson(5,size=1000)"
      ],
      "metadata": {
        "id": "SiBQD5MZwJs1"
      },
      "execution_count": 79,
      "outputs": []
    },
    {
      "cell_type": "code",
      "source": [
        "sample_mean = random_sample_3.mean()\n",
        "sample_mean"
      ],
      "metadata": {
        "colab": {
          "base_uri": "https://localhost:8080/"
        },
        "id": "OoLM-tvY1iGf",
        "outputId": "56d9d3d6-089a-42db-af2a-d808ee2ed684"
      },
      "execution_count": 86,
      "outputs": [
        {
          "output_type": "execute_result",
          "data": {
            "text/plain": [
              "5.0"
            ]
          },
          "metadata": {},
          "execution_count": 86
        }
      ]
    },
    {
      "cell_type": "code",
      "source": [
        "sample_var = random_sample_3.var()\n",
        "sample_var"
      ],
      "metadata": {
        "colab": {
          "base_uri": "https://localhost:8080/"
        },
        "id": "BNcTvz0B14UG",
        "outputId": "9432429a-1c56-467b-895e-ff169ae587c8"
      },
      "execution_count": 89,
      "outputs": [
        {
          "output_type": "execute_result",
          "data": {
            "text/plain": [
              "4.936"
            ]
          },
          "metadata": {},
          "execution_count": 89
        }
      ]
    },
    {
      "cell_type": "markdown",
      "source": [
        "Q9. How mean and variance are related in Binomial distribution and Poisson distribution?"
      ],
      "metadata": {
        "id": "fGtt7JEw2tCJ"
      }
    },
    {
      "cell_type": "markdown",
      "source": [
        "Ans: In the Binomial distribution,the mean is equal to the product of the number of trials (n) and the probability of success (p), and the variance is given by the product of np(1−p). the variance is dependent on both the number of trials (n) and the probability of success (p).\n",
        "In the Poisson distribution, .the mean and variance are both equal to the rate parameter (expected number of events to occour during time interval )."
      ],
      "metadata": {
        "id": "5cAEDFkINC9M"
      }
    },
    {
      "cell_type": "markdown",
      "source": [
        "Q10. In normal distribution with respect to mean position, where does the least frequent data appear?"
      ],
      "metadata": {
        "id": "aLAaAkI8PwYf"
      }
    },
    {
      "cell_type": "markdown",
      "source": [
        "Ans: In a normal distribution, also known as a Gaussian distribution or bell curve, the least frequent data points appear in the tails of the distribution, farthest away from the mean. The normal distribution is symmetric, and its shape is characterized by the mean and standard deviation"
      ],
      "metadata": {
        "id": "I1zkRw4jQSSq"
      }
    },
    {
      "cell_type": "code",
      "source": [],
      "metadata": {
        "id": "F_4TkdJ12dky"
      },
      "execution_count": null,
      "outputs": []
    }
  ]
}