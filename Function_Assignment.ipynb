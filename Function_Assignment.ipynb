{
  "nbformat": 4,
  "nbformat_minor": 0,
  "metadata": {
    "colab": {
      "provenance": [],
      "authorship_tag": "ABX9TyMaw2RXdlbo3FWAV3KaTf7h",
      "include_colab_link": true
    },
    "kernelspec": {
      "name": "python3",
      "display_name": "Python 3"
    },
    "language_info": {
      "name": "python"
    },
    "accelerator": "TPU"
  },
  "cells": [
    {
      "cell_type": "markdown",
      "metadata": {
        "id": "view-in-github",
        "colab_type": "text"
      },
      "source": [
        "<a href=\"https://colab.research.google.com/github/Mohdd-Afaan/data-science-master-2.0/blob/main/Function_Assignment.ipynb\" target=\"_parent\"><img src=\"https://colab.research.google.com/assets/colab-badge.svg\" alt=\"Open In Colab\"/></a>"
      ]
    },
    {
      "cell_type": "markdown",
      "source": [
        "Q1. Which keyword is used to create a function? Create a function to return a list of odd numbers in the\n",
        "range of 1 to 25."
      ],
      "metadata": {
        "id": "eTKN067JxnvB"
      }
    },
    {
      "cell_type": "markdown",
      "source": [
        "ans: The keyword is used to create a function \"def\""
      ],
      "metadata": {
        "id": "U7-PJitG0vf4"
      }
    },
    {
      "cell_type": "code",
      "execution_count": 33,
      "metadata": {
        "colab": {
          "base_uri": "https://localhost:8080/"
        },
        "id": "GofOSZhjxcZC",
        "outputId": "d425f6f0-fa93-472e-9014-32bd004873fc"
      },
      "outputs": [
        {
          "output_type": "execute_result",
          "data": {
            "text/plain": [
              "[1, 3, 5, 7, 9, 11, 13, 15, 17, 19, 21, 23]"
            ]
          },
          "metadata": {},
          "execution_count": 33
        }
      ],
      "source": [
        "p = list(range(1,25))\n",
        "def odd_num(n):\n",
        "  odd_list = []\n",
        "  for i in n:\n",
        "    if i % 2 != 0:\n",
        "      odd_list.append(i)\n",
        "  return odd_list\n",
        "\n",
        "odd_num(p)"
      ]
    },
    {
      "cell_type": "markdown",
      "source": [
        "Q2. Why *args and **kwargs is used in some functions? Create a function each for *args and **kwargs to\n",
        "demonstrate their use."
      ],
      "metadata": {
        "id": "QWGNYUS00lbP"
      }
    },
    {
      "cell_type": "markdown",
      "source": [
        "Ans: *args (arguments) are used when we are not sure about the number of arguments that would be passed. It is used to pass non-keyword arguments. Where as **kwargs (keyword arguments) is use used when we are not sure about the number of keyword arguments that would be passed. It is used to pass keyword arguments key-value pair, like a Python dictionary."
      ],
      "metadata": {
        "id": "mEDEPO9L1DSu"
      }
    },
    {
      "cell_type": "code",
      "source": [
        "def arguments(*args):\n",
        "  return args"
      ],
      "metadata": {
        "id": "lq2je4-eyMiZ"
      },
      "execution_count": 34,
      "outputs": []
    },
    {
      "cell_type": "code",
      "source": [
        "arguments([1,2,3,4,5,67,8])"
      ],
      "metadata": {
        "colab": {
          "base_uri": "https://localhost:8080/"
        },
        "id": "AXMhfkaF0krY",
        "outputId": "de58f52b-1c00-48f5-ef6a-c7c300080a38"
      },
      "execution_count": 35,
      "outputs": [
        {
          "output_type": "execute_result",
          "data": {
            "text/plain": [
              "([1, 2, 3, 4, 5, 67, 8],)"
            ]
          },
          "metadata": {},
          "execution_count": 35
        }
      ]
    },
    {
      "cell_type": "code",
      "source": [
        "def key_word_arguments(**kwargs):\n",
        "  return kwargs"
      ],
      "metadata": {
        "id": "FMhH5LWs-BoJ"
      },
      "execution_count": 36,
      "outputs": []
    },
    {
      "cell_type": "code",
      "source": [
        "key_word_arguments(a=1,b=2,c=2)"
      ],
      "metadata": {
        "colab": {
          "base_uri": "https://localhost:8080/"
        },
        "id": "sqVQ5iwF-KNO",
        "outputId": "b063e018-78ac-4d55-9bc3-cf7f81733527"
      },
      "execution_count": 37,
      "outputs": [
        {
          "output_type": "execute_result",
          "data": {
            "text/plain": [
              "{'a': 1, 'b': 2, 'c': 2}"
            ]
          },
          "metadata": {},
          "execution_count": 37
        }
      ]
    },
    {
      "cell_type": "markdown",
      "source": [
        "Q3. What is an iterator in python? Name the method used to initialise the iterator object and the method\n",
        "used for iteration. Use these methods to print the first five elements of the given list [2, 4, 6, 8, 10, 12, 14, 16,\n",
        "18, 20]."
      ],
      "metadata": {
        "id": "x32KMPEkAWLq"
      }
    },
    {
      "cell_type": "markdown",
      "source": [
        "Ans: Iterator are objects that allow us to travel through the elements over iterable objects like lists, tuples, dicts, and sets and return one elements at a time. The Python iterators object is initialized using the iter() method. It uses the next() method for iteration."
      ],
      "metadata": {
        "id": "C-eNGYMCAXFr"
      }
    },
    {
      "cell_type": "code",
      "source": [
        "lst1 = [2, 4, 6, 8, 10, 12, 14, 16, 18, 20]"
      ],
      "metadata": {
        "id": "ZHWo0cbOAFR0"
      },
      "execution_count": 38,
      "outputs": []
    },
    {
      "cell_type": "code",
      "source": [
        "list_iterator = iter(lst1)"
      ],
      "metadata": {
        "id": "4BxoOrNbCl6D"
      },
      "execution_count": 39,
      "outputs": []
    },
    {
      "cell_type": "code",
      "source": [
        "print(next(list_iterator))\n",
        "print(next(list_iterator))\n",
        "print(next(list_iterator))\n",
        "print(next(list_iterator))\n",
        "print(next(list_iterator))"
      ],
      "metadata": {
        "colab": {
          "base_uri": "https://localhost:8080/"
        },
        "id": "nicD4_ZVC0pC",
        "outputId": "44dbbe85-576f-49cc-bc9b-6cf28916f0f4"
      },
      "execution_count": 40,
      "outputs": [
        {
          "output_type": "stream",
          "name": "stdout",
          "text": [
            "2\n",
            "4\n",
            "6\n",
            "8\n",
            "10\n"
          ]
        }
      ]
    },
    {
      "cell_type": "markdown",
      "source": [
        "Q4. What is a generator function in python? Why yield keyword is used? Give an example of a generator\n",
        "function."
      ],
      "metadata": {
        "id": "ah4E_K1oFevl"
      }
    },
    {
      "cell_type": "markdown",
      "source": [
        "Ans: A generator function allows to declare a function that behaves like an iterator and helps to create a faster and easier way to create a iterator. Yeild keyword is used to create a generator function."
      ],
      "metadata": {
        "id": "jvhjmFGyFfxW"
      }
    },
    {
      "cell_type": "code",
      "source": [
        "# example\n",
        "# fibonacci series\n",
        "def fib(n):\n",
        "  a,b = 0,1\n",
        "  for i in range(n):\n",
        "    yield a\n",
        "    a,b = b,a+b\n",
        "\n",
        "c = fib(10)\n",
        "for i in c:\n",
        "  print(i)"
      ],
      "metadata": {
        "colab": {
          "base_uri": "https://localhost:8080/"
        },
        "id": "pQXJy_07NnAm",
        "outputId": "5ce8b2d8-0dc5-47d5-a8a8-a06a0da94941"
      },
      "execution_count": 41,
      "outputs": [
        {
          "output_type": "stream",
          "name": "stdout",
          "text": [
            "0\n",
            "1\n",
            "1\n",
            "2\n",
            "3\n",
            "5\n",
            "8\n",
            "13\n",
            "21\n",
            "34\n"
          ]
        }
      ]
    },
    {
      "cell_type": "markdown",
      "source": [
        "Q5. Create a generator function for prime numbers less than 1000. Use the next() method to print the\n",
        "first 20 prime numbers."
      ],
      "metadata": {
        "id": "HHCqyzRCs7Xm"
      }
    },
    {
      "cell_type": "code",
      "source": [
        "# These prime numbers are generated useing the \"Sieve of Eratosthenes\"\n",
        "def prime_gen(m):\n",
        "  n = [2, 3, 5, 7]\n",
        "  for i in m :\n",
        "    if i % 2 == 0 :\n",
        "      m.remove(i)\n",
        "  for i in m :\n",
        "    if i % 3 == 0 :\n",
        "      m.remove(i)\n",
        "  for i in m :\n",
        "    if i % 5 == 0 :\n",
        "      m.remove(i)\n",
        "  for i in m :\n",
        "    if i % 7 == 0 :\n",
        "      m.remove(i)\n",
        "  n.extend(m)\n",
        "  return n\n",
        "\n",
        "m = list(range(2,1000))\n",
        "primes = prime_gen(m)\n",
        "prime_gen_iterator = iter(primes)\n",
        "for _ in range(20):\n",
        "  print(next(prime_gen_iterator))\n"
      ],
      "metadata": {
        "id": "E4LNKG96Pt1T",
        "colab": {
          "base_uri": "https://localhost:8080/"
        },
        "outputId": "fb408356-ae38-4502-8702-fbd861e2b378"
      },
      "execution_count": 48,
      "outputs": [
        {
          "output_type": "stream",
          "name": "stdout",
          "text": [
            "2\n",
            "3\n",
            "5\n",
            "7\n",
            "11\n",
            "13\n",
            "17\n",
            "19\n",
            "23\n",
            "29\n",
            "31\n",
            "37\n",
            "41\n",
            "43\n",
            "47\n",
            "53\n",
            "59\n",
            "61\n",
            "67\n",
            "71\n"
          ]
        }
      ]
    }
  ]
}