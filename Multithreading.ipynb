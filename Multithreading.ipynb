{
  "nbformat": 4,
  "nbformat_minor": 0,
  "metadata": {
    "colab": {
      "provenance": [],
      "authorship_tag": "ABX9TyN04QeaLPIdeEhZwC0g7JRJ",
      "include_colab_link": true
    },
    "kernelspec": {
      "name": "python3",
      "display_name": "Python 3"
    },
    "language_info": {
      "name": "python"
    },
    "accelerator": "TPU"
  },
  "cells": [
    {
      "cell_type": "markdown",
      "metadata": {
        "id": "view-in-github",
        "colab_type": "text"
      },
      "source": [
        "<a href=\"https://colab.research.google.com/github/Mohdd-Afaan/data-science-master-2.0/blob/main/Multithreading.ipynb\" target=\"_parent\"><img src=\"https://colab.research.google.com/assets/colab-badge.svg\" alt=\"Open In Colab\"/></a>"
      ]
    },
    {
      "cell_type": "markdown",
      "source": [
        "Q1. What is multithreading in python? Why is it used? Name the module used to handle threads in python"
      ],
      "metadata": {
        "id": "FNH_cNgz2HLc"
      }
    },
    {
      "cell_type": "markdown",
      "source": [
        "Ans: Multithreading can be defined as process of running multiple units of pocesses in the single core useing threads. Its mainly used for I/O for operations, concurrency. The module used to handle threads in python is \"Threading\""
      ],
      "metadata": {
        "id": "oSkmsC0L2PTr"
      }
    },
    {
      "cell_type": "markdown",
      "source": [
        "Q2. Why threading module used? Write the use of the following functions\n",
        "1) activeCount\n",
        "2) currentThread\n",
        "3) enumerate"
      ],
      "metadata": {
        "id": "uXgSwIh45XVM"
      }
    },
    {
      "cell_type": "markdown",
      "source": [
        "Ans: Threading module is used for threading in python it can be used for I/O for operations, concurrency.\n",
        "1) alivecount(): It can be used to determine the number of thread objects alive.\n",
        "2) currentthread(): It can be used to obtain the refrence of currently executing thread.\n",
        "3) enumerate(): Its a built-in function in python that is used to loop through a itterateable it returns a tuple containing index and the item from the itterable as we loop through it. Threading has no direct attribute as enumerate, however the built in function can be used with threading module to loop through a list of threads."
      ],
      "metadata": {
        "id": "eE9-dKg45pDI"
      }
    },
    {
      "cell_type": "markdown",
      "source": [
        "Q3. Explain the following functions\n",
        "1) run()\n",
        "2) start()\n",
        "3) join()\n",
        "4) isAlive()"
      ],
      "metadata": {
        "id": "AXB1n1xg-GhK"
      }
    },
    {
      "cell_type": "markdown",
      "source": [
        "Ans: 1) run(): In threading module the run() function is not typically called directly, Instead its called automatically when we start a thread useing the start() method\n",
        "2) start(): In threading module start() function is used to initiate the execution of thread.\n",
        "3) join(): In threading module join() function is used to wait for a thread to complete its execution before the programme proceeds further."
      ],
      "metadata": {
        "id": "Nf5SeCQ9TyI1"
      }
    },
    {
      "cell_type": "markdown",
      "source": [
        "Q4. write a python program to create two threads. Thread one must print the list of squares and thread two must print the list of cubes"
      ],
      "metadata": {
        "id": "tM-KirWcVurK"
      }
    },
    {
      "cell_type": "code",
      "source": [
        "import threading\n",
        "x = [1,2,3,4,5,6,7,8]\n",
        "s = []\n",
        "c = []\n",
        "def square(x):\n",
        "    for i in x:\n",
        "        s.append(i**2)\n",
        "    print(s)\n",
        "def cube(x):\n",
        "    c =[]\n",
        "    for i in x:\n",
        "        c.append(i**3)\n",
        "    print(c)\n",
        "thread1 = [threading.Thread(target=square,args=(x,))]\n",
        "thread2 = [threading.Thread(target=cube,args=(x,))]\n",
        "\n",
        "for t in thread1:\n",
        "    t.start()\n",
        "for t in thread2:\n",
        "    t.start()"
      ],
      "metadata": {
        "id": "hXJOmE142G4E",
        "colab": {
          "base_uri": "https://localhost:8080/"
        },
        "outputId": "66c75d88-0d3d-48c9-f602-aedfdcb9e40d"
      },
      "execution_count": 4,
      "outputs": [
        {
          "output_type": "stream",
          "name": "stdout",
          "text": [
            "[1, 4, 9, 16, 25, 36, 49, 64]\n",
            "[1, 8, 27, 64, 125, 216, 343, 512]\n"
          ]
        }
      ]
    },
    {
      "cell_type": "markdown",
      "source": [
        "Q5. State advantages and disadvantages of multithreading"
      ],
      "metadata": {
        "id": "SoEPal4oOaS0"
      }
    },
    {
      "cell_type": "markdown",
      "source": [
        "Ans: Advantages:\n",
        "     1) Improved performance\n",
        "     2) Responsiveness\n",
        "     3) Resource sharing\n",
        "     4) Simplified programming\n",
        "     Disadvantages\n",
        "     1) Complexity\n",
        "     2) Thread safety\n",
        "     3) Resource complexity\n",
        "     4) Portability\n"
      ],
      "metadata": {
        "id": "4Pv-QJ6JZ-3k"
      }
    },
    {
      "cell_type": "markdown",
      "source": [
        "Q6. Explain deadlocks and race conditions."
      ],
      "metadata": {
        "id": "BebbMvjBbTmo"
      }
    },
    {
      "cell_type": "markdown",
      "source": [
        "Ans: Deadlock is the situation in concurrent computingwhere two or more threads\n",
        "     or processes are unable to proceed because each is waiting for the other to release a resource that they need. This leads to a standstill in the execution of the involved threads or processes.\n",
        "     Race condition is the condition where multiple threads are useing shared resources concurrently and are competing with each other to get processed before the others. This can lead to unpredictable or incorrect behaviour of the programme   "
      ],
      "metadata": {
        "id": "Q4VDraSObWM0"
      }
    },
    {
      "cell_type": "code",
      "execution_count": null,
      "metadata": {
        "id": "K7xI93C904WC"
      },
      "outputs": [],
      "source": []
    }
  ]
}