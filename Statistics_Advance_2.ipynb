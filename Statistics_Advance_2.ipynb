{
  "nbformat": 4,
  "nbformat_minor": 0,
  "metadata": {
    "colab": {
      "provenance": [],
      "authorship_tag": "ABX9TyOCFRi35eax2IFHfAcIWMXL",
      "include_colab_link": true
    },
    "kernelspec": {
      "name": "python3",
      "display_name": "Python 3"
    },
    "language_info": {
      "name": "python"
    }
  },
  "cells": [
    {
      "cell_type": "markdown",
      "metadata": {
        "id": "view-in-github",
        "colab_type": "text"
      },
      "source": [
        "<a href=\"https://colab.research.google.com/github/Mohdd-Afaan/data-science-master-2.0/blob/main/Statistics_Advance_2.ipynb\" target=\"_parent\"><img src=\"https://colab.research.google.com/assets/colab-badge.svg\" alt=\"Open In Colab\"/></a>"
      ]
    },
    {
      "cell_type": "markdown",
      "source": [
        "Q1: What are the Probability Mass Function (PMF) and Probability Density Function (PDF)? Explain with\n",
        "an example."
      ],
      "metadata": {
        "id": "N9t02yh7W2UQ"
      }
    },
    {
      "cell_type": "markdown",
      "source": [
        "Ans: Probability Mass Function (PMF):\n",
        "The PMF is a function that gives the probability of a discrete random variable taking on a specific value.\n",
        "For a discrete random variable X, the PMF is denoted as (P(X=x) x ≥0 for all x), where x is a specific value.\n",
        "Example: rolling a fair six sided dice The PMF for the outcome X (the number on the die) is given by P(X=1) = P(X=2) = P(X=3) = P(X=4) = P(X=5) = P(X=6) = 1/6\n",
        "Probability Density Function (PDF):\n",
        "The PDF is a function that describes the probability distribution of a continuous random variable.\n",
        "Example: if the mean height is 175 cm and the standard deviation is 10 cm, you can use the PDF to estimate the probability of a randomly selected male having a height close to, or equal to, a specific value."
      ],
      "metadata": {
        "id": "dwvFwchTXyXE"
      }
    },
    {
      "cell_type": "markdown",
      "source": [
        "Q2: What is Cumulative Density Function (CDF)? Explain with an example. Why CDF is used?"
      ],
      "metadata": {
        "id": "pGRyWdaNkl6i"
      }
    },
    {
      "cell_type": "markdown",
      "source": [
        "Ans:  The CDF provides a cumulative probability distribution function, accumulating the probabilities as you move along the possible values of the random variable.\n",
        "example: rolling a fair dice {1,2,3,4,5,6}\n",
        "P(x<=4) = P(x=1)+P(x=2)+P(x=3)+P(x=4)= 1/6+1/6+1/6+1/6 = 4/6 =2/3\n",
        "so as we can see that as higher random number we choose the it accumulates the probabilty of number before it.\n",
        "Uses:\n",
        "The CDF is used to calculate the probability that a random variable is less than or equal to a specific value. This is particularly useful in determining cumulative probabilities.\n",
        "The CDF is instrumental in finding percentiles and quartiles of a distribution, providing a way to understand the distribution of data."
      ],
      "metadata": {
        "id": "PJ03U_UPmCAn"
      }
    },
    {
      "cell_type": "markdown",
      "source": [
        "Q3: What are some examples of situations where the normal distribution might be used as a model?\n",
        "Explain how the parameters of the normal distribution relate to the shape of the distribution."
      ],
      "metadata": {
        "id": "J1lmkT0joUWl"
      }
    },
    {
      "cell_type": "markdown",
      "source": [
        "Ans: The normal distribution, also known as the Gaussian distribution or bell curve, is commonly used to model various phenomena in diverse fields due to its mathematical properties and its prevalence in nature. Here are some examples of situations where the normal distribution might be used as a model:\n",
        "Height of Individuals:\n",
        "The distribution of human heights tends to follow a normal distribution, with most people clustered around the average height, and fewer individuals at extreme heights.\n",
        "IQ Scores:\n",
        "IQ scores are often modeled using a normal distribution. The mean IQ score is set to 100, and the standard deviation is typically set to 15.\n",
        "The meanand standard deviation determines the shape of distribution. The meean represents the center of distribution and standard deviation controls the spread or variability of the distribution."
      ],
      "metadata": {
        "id": "W20nLV2FoUTq"
      }
    },
    {
      "cell_type": "markdown",
      "source": [
        "Q4: Explain the importance of Normal Distribution. Give a few real-life examples of Normal\n",
        "Distribution."
      ],
      "metadata": {
        "id": "5aRmzJFLp5zw"
      }
    },
    {
      "cell_type": "markdown",
      "source": [
        "Ans: The main inportance/ advantage of normal distribution is that can be used to describe many populations, from classroom grades to heights and weights. The normal distribution (and related distributions) are also the easiest to use of the bell-shaped distributions. The standard normal density curve (with mean = 0 and standard deviation = 1)\n",
        "Examples:\n",
        "Exam Scores:\n",
        "Scores on standardized tests, such as SAT or GRE, often exhibit a normal distribution.\n",
        "Height of Individuals:\n",
        "Human heights tend to follow a normal distribution, with most people clustered around the average height.\n",
        "IQ Scores:\n",
        "IQ scores are standardized to have a mean of 100 and a standard deviation of 15, leading to a normal distribution.\n"
      ],
      "metadata": {
        "id": "Rql8PxlQp5wY"
      }
    },
    {
      "cell_type": "markdown",
      "source": [
        "Q5: What is Bernaulli Distribution? Give an Example. What is the difference between Bernoulli\n",
        "Distribution and Binomial Distribution?"
      ],
      "metadata": {
        "id": "udlnBnTjvAH5"
      }
    },
    {
      "cell_type": "markdown",
      "source": [
        "Ans: The Bernoulli distribution is a discrete probability distribution that models a random experiment with only two possible outcomes, often referred to as \"success\" and \"failure.\" It is named after the Swiss mathematician Jacob Bernoulli. The distribution is characterized by a single parameter p, which represents the probability of success.\n",
        "Example:\n",
        "Consider a single toss of a fair coin. Let (X) be a random variable representing the outcome (1 for heads, 0 for tails). The probability of getting heads(p) is 0.5, and the probability of getting tails (1 - p) is also 0.5. This situation can be modeled using a Bernoulli distribution.\n",
        "The main difference between Bernoulii distribution and binomial distribution is that the Bernoulii distribution models a single trail with two outcomes,while the binomial distribution extends this concept to describe the number of successes in a fixed number of independent trials. The binomial distribution is essentially the sum of independent and identically distributed Bernoulli random variables."
      ],
      "metadata": {
        "id": "WvskqDZUvFBY"
      }
    },
    {
      "cell_type": "markdown",
      "source": [
        "Q6. Consider a dataset with a mean of 50 and a standard deviation of 10. If we assume that the dataset\n",
        "is normally distributed, what is the probability that a randomly selected observation will be greater\n",
        "than 60? Use the appropriate formula and show your calculations."
      ],
      "metadata": {
        "id": "rQdipH-z2Aqe"
      }
    },
    {
      "cell_type": "markdown",
      "source": [
        "Ans: To find the probability that a randomly selected observation from a normally distributed dataset with a mean of 50 and a standard deviation of 10 will be greater than 60, we can use the z-score formula\n",
        "z-score = (X-mean)/ standard normal distribution\n",
        "        = 60-50/10\n",
        "        = 1\n",
        "Now if we see the probability corresponding to a z-score of 1 = .8434\n",
        "Therefore 1-.8434= .1566 = 15.66%\n",
        "So we can say that the probability  that a randomly selected observation will be greater than 60 is 15.66%"
      ],
      "metadata": {
        "id": "syunoamg2C_v"
      }
    },
    {
      "cell_type": "markdown",
      "source": [
        "Q7: Explain uniform Distribution with an example."
      ],
      "metadata": {
        "id": "57DKtrXa4bKh"
      }
    },
    {
      "cell_type": "markdown",
      "source": [
        "Ans: The uniform distribution is a probability distribution in which all outcomes or intervals of equal length have equal probabilities. In other words, each possible outcome has the same likelihood of occurring. The probability density function (PDF) of a continuous uniform distribution is constant over its entire range.\n",
        "The uniform distribution is often denoted as U(a,b), where a and b are the parameters representing the interval [a, b].\n",
        "Example:\n",
        "Suppose we have a random variable X representing the time (in minutes) it takes for a bus to arrive at a bus stop, and we assume that the arrival time follows a uniform distribution between 5 minutes and 15 minutes . In this case:\n",
        "a=5 (the lower bound of the interval),\n",
        "b=15 (the upper bound of the interval).\n",
        "PDF = 1/b-a = 1/15-5 = 1/10 = .1\n",
        "This means that the probability of a bus to arrive from 5 minutes to 15 minutes are 0.1 per minute\n",
        "CDF = x-a/b-a\n",
        "suppose if we say that what is the probability (X) for the bus to arrive during the 5 to 15 minutes\n",
        "Lets say X = 10\n",
        "So Whats is the probability for tthe us to arrive in 10 minutes\n",
        "f(10) = 10-5/15-5 = 5/10 = .5\n",
        "This means that there is a 50% chance that the bus arrives within the first 10 minutes.\n",
        "\n"
      ],
      "metadata": {
        "id": "7YGz5lqUSC_e"
      }
    },
    {
      "cell_type": "markdown",
      "source": [
        "Q8: What is the z score? State the importance of the z score."
      ],
      "metadata": {
        "id": "Smp6W6FXWDwk"
      }
    },
    {
      "cell_type": "markdown",
      "source": [
        "Ans: The z-score, also known as the standard score or z-value, is a statistical measure that quantifies the relationship of a data point to the mean of a group of data. It is expressed in terms of standard deviations from the mean. The formula for calculating the z-score for a data point X in a population with mean and standard deviation.\n",
        "Importance\n",
        "1) Z-scores standardize data, allowing for the comparison of scores from different distributions. By converting data into z-scores, we express each observation in terms of how many standard deviations it is from the mean.\n",
        "2) Positive z-scores indicate values above the mean, while negative z-scores indicate values below the mean.\n",
        "3) Z-scores are useful for identifying outliers. Data points with extreme z-scores (far from zero) may be considered unusual or outliers.\n",
        "4) Z-scores are commonly used in statistical analyses and machine learning algorithms to normalize data. This ensures that variables with different units and scales are comparable."
      ],
      "metadata": {
        "id": "RYPfHd73WEyW"
      }
    },
    {
      "cell_type": "markdown",
      "source": [
        "Q9: What is Central Limit Theorem? State the significance of the Central Limit Theorem."
      ],
      "metadata": {
        "id": "xYWIDAEoX9sf"
      }
    },
    {
      "cell_type": "markdown",
      "source": [
        "Ans: The Central Limit Theorem (CLT) is a fundamental concept in probability theory and statistics. It states that, under certain conditions, the distribution of the sum (or average) of a large number of independent, identically distributed random variables approaches a normal distribution, regardless of the shape of the original distribution.\n",
        "Significance:\n",
        "1)The CLT allows us to approximate the distribution of the sample mean or sum with a normal distribution, even if the original distribution of the individual observations is not normal.\n",
        "2)The CLT is the foundation for many statistical methods and hypothesis tests. It enables the use of normal distribution-based techniques for making inferences about population parameters.\n",
        "3)The CLT explains why the distribution of sample means tends to be normal, regardless of the shape of the population distribution. This is crucial in understanding the behavior of sampling distributions.\n",
        "4)The CLT provides insights into the relationship between sample size and the distribution of the sample mean. As the sample size increases, the distribution becomes more normal."
      ],
      "metadata": {
        "id": "tkzZVJNVX-sa"
      }
    },
    {
      "cell_type": "markdown",
      "source": [
        "Q10: State the assumptions of the Central Limit Theorem."
      ],
      "metadata": {
        "id": "lN5Lq-ZIa6zP"
      }
    },
    {
      "cell_type": "markdown",
      "source": [
        "Ans:\n",
        "The Central Limit Theorem (CLT) is a powerful statistical concept, but its applicability relies on certain assumptions. Here are the key assumptions of the Central Limit Theorem:\n",
        "1)The data must be collected through a process of random sampling. Each observation in the sample should be independent and randomly chosen from the population.\n",
        "2)The observations in the sample must be independent of each other. The outcome of one observation should not influence the outcome of another.\n",
        "3)The random variables in the sample must be identically distributed. This means that each observation is drawn from the same probability distribution with the same mean  and standard deviation.\n",
        "4)The population from which the sample is drawn should have a finite variance ). If the variance is infinite, the CLT may not hold.\n",
        "5)The sample size  should be \"sufficiently large.\" While there is no strict rule for what constitutes a sufficiently large sample size, a common guideline is that n should be at least 30. However, the larger the sample size, the better the approximation to a normal distribution"
      ],
      "metadata": {
        "id": "P0tH-zfwa7sx"
      }
    },
    {
      "cell_type": "code",
      "execution_count": null,
      "metadata": {
        "id": "nuXpuUWLWlwG"
      },
      "outputs": [],
      "source": []
    }
  ]
}