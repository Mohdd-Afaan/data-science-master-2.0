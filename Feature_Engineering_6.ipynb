{
  "nbformat": 4,
  "nbformat_minor": 0,
  "metadata": {
    "colab": {
      "provenance": [],
      "authorship_tag": "ABX9TyPrsXKjzoWuJz+V2bfkNrq4",
      "include_colab_link": true
    },
    "kernelspec": {
      "name": "python3",
      "display_name": "Python 3"
    },
    "language_info": {
      "name": "python"
    },
    "accelerator": "TPU"
  },
  "cells": [
    {
      "cell_type": "markdown",
      "metadata": {
        "id": "view-in-github",
        "colab_type": "text"
      },
      "source": [
        "<a href=\"https://colab.research.google.com/github/Mohdd-Afaan/data-science-master-2.0/blob/main/Feature_Engineering_6.ipynb\" target=\"_parent\"><img src=\"https://colab.research.google.com/assets/colab-badge.svg\" alt=\"Open In Colab\"/></a>"
      ]
    },
    {
      "cell_type": "markdown",
      "source": [
        "Q1. Pearson correlation coefficient is a measure of the linear relationship between two variables. Suppose\n",
        "you have collected data on the amount of time students spend studying for an exam and their final exam\n",
        "scores. Calculate the Pearson correlation coefficient between these two variables and interpret the result."
      ],
      "metadata": {
        "id": "rMsfpO2YHLYU"
      }
    },
    {
      "cell_type": "code",
      "execution_count": 11,
      "metadata": {
        "colab": {
          "base_uri": "https://localhost:8080/"
        },
        "id": "uBsppTW3BjoZ",
        "outputId": "f219a9a5-4297-4e5a-ee46-638d7a9b2e09"
      },
      "outputs": [
        {
          "output_type": "execute_result",
          "data": {
            "text/plain": [
              "0.942"
            ]
          },
          "metadata": {},
          "execution_count": 11
        }
      ],
      "source": [
        "import pandas as pd\n",
        "df = pd.DataFrame({'Study Time (hours)': [5, 10, 8, 3, 7],\n",
        "    'Exam Scores': [80, 90, 85, 75, 88]})\n",
        "Pearson_correlation_coefficient = df['Study Time (hours)'].corr(df['Exam Scores'], method='pearson').round(3)\n",
        "Pearson_correlation_coefficient"
      ]
    },
    {
      "cell_type": "markdown",
      "source": [
        "Interpretation:\n",
        " Since the Pearson correlation coefficient is close to 1, it indicates a strong positive linear relationship. This means that as the amount of time spent studying increases, the final exam scores tend to increase."
      ],
      "metadata": {
        "id": "xSzvqo4XJbCb"
      }
    },
    {
      "cell_type": "markdown",
      "source": [
        "Q2. Spearman's rank correlation is a measure of the monotonic relationship between two variables.\n",
        "Suppose you have collected data on the amount of sleep individuals get each night and their overall job\n",
        "satisfaction level on a scale of 1 to 10. Calculate the Spearman's rank correlation between these two\n",
        "variables and interpret the result."
      ],
      "metadata": {
        "id": "kFMx7SToKU7x"
      }
    },
    {
      "cell_type": "code",
      "source": [
        "import pandas as pd\n",
        "df = pd.DataFrame({'Amount of Sleep': [7, 6, 8, 5, 7],\n",
        "    'Job Satisfaction (1-10)': [8, 6, 9, 5, 7]})\n",
        "Spearman_rank_correlation = df['Amount of Sleep'].corr(df['Job Satisfaction (1-10)'],method='spearman').round(3)\n",
        "Spearman_rank_correlation"
      ],
      "metadata": {
        "colab": {
          "base_uri": "https://localhost:8080/"
        },
        "id": "jVc9gSGtIpRv",
        "outputId": "af07426b-66c6-462a-f042-edc98f82549d"
      },
      "execution_count": 13,
      "outputs": [
        {
          "output_type": "execute_result",
          "data": {
            "text/plain": [
              "0.975"
            ]
          },
          "metadata": {},
          "execution_count": 13
        }
      ]
    },
    {
      "cell_type": "markdown",
      "source": [
        "Interpretation:\n",
        "Sine the Spearman's rank correlation coefficient is close to 1, it indicates a strong positive monotonic relationship. This means that as the amount of sleep increases, the job satisfaction level tends to increase."
      ],
      "metadata": {
        "id": "ulmccgxpMDFc"
      }
    },
    {
      "cell_type": "markdown",
      "source": [
        "Q3. Suppose you are conducting a study to examine the relationship between the number of hours of\n",
        "exercise per week and body mass index (BMI) in a sample of adults. You collected data on both variables\n",
        "for 50 participants. Calculate the Pearson correlation coefficient and the Spearman's rank correlation\n",
        "between these two variables and compare the results."
      ],
      "metadata": {
        "id": "LTDXjF7TMSTc"
      }
    },
    {
      "cell_type": "code",
      "source": [
        "import numpy as np\n",
        "import pandas as pd\n",
        "\n",
        "np.random.seed(42)\n",
        "\n",
        "df = pd.DataFrame({'hours of exercise per week':np.random.randint(2,8,size=50).tolist(),\n",
        "    'BMI':np.random.randint(25,50,size=50).tolist()})\n",
        "Pearson_correlation_coefficient = df['hours of exercise per week'].corr(df['BMI'],method='pearson').round(3)\n",
        "Spearman_rank_correlation = df['hours of exercise per week'].corr(df['BMI'],method='spearman').round(3)\n",
        "print(f'Pearson_correlation_coefficient: {Pearson_correlation_coefficient}')\n",
        "print(f'Spearman_rank_correlation: {Spearman_rank_correlation}')"
      ],
      "metadata": {
        "colab": {
          "base_uri": "https://localhost:8080/"
        },
        "id": "0ACXgSiyKSjl",
        "outputId": "709f73e6-a992-4b19-9150-22c3c25d630e"
      },
      "execution_count": 32,
      "outputs": [
        {
          "output_type": "stream",
          "name": "stdout",
          "text": [
            "Pearson_correlation_coefficient: 0.159\n",
            "Spearman_rank_correlation: 0.158\n"
          ]
        }
      ]
    },
    {
      "cell_type": "markdown",
      "source": [
        "Comparing the results:\n",
        "\n",
        "The Pearson correlation coefficient measures the strength and direction of a linear relationship between two variables. It assumes a linear relationship between variables. In the above case it have weak +ive correlation.\n",
        "Spearman's rank correlation coefficient measures the strength and direction of a monotonic relationship between two variables. It is less sensitive to outliers and does not assume a linear relationship. In the above case it have weak +ive correlation.\n"
      ],
      "metadata": {
        "id": "zEE2cdEIQseN"
      }
    },
    {
      "cell_type": "markdown",
      "source": [
        "Q4. A researcher is interested in examining the relationship between the number of hours individuals\n",
        "spend watching television per day and their level of physical activity. The researcher collected data on\n",
        "both variables from a sample of 50 participants. Calculate the Pearson correlation coefficient between\n",
        "these two variables."
      ],
      "metadata": {
        "id": "PQiUMeouSFpO"
      }
    },
    {
      "cell_type": "code",
      "source": [
        "import numpy as np\n",
        "import pandas as pd\n",
        "np.random.seed(42)\n",
        "df = pd.DataFrame({'hours individuals spend watching television per day': np.random.randint(1,9,size=50).tolist(),'level of physical activity':np.random.randint(1,6,size=50).tolist()})\n",
        "Pearson_correlation_coefficient = df['hours individuals spend watching television per day'].corr(df['level of physical activity'],method='pearson').round(3)\n",
        "print(f'Pearson_correlation_coefficient: {Pearson_correlation_coefficient}')"
      ],
      "metadata": {
        "colab": {
          "base_uri": "https://localhost:8080/"
        },
        "id": "t-OOM9uWKjRh",
        "outputId": "3a31f5e1-3b26-4e72-d774-4d440c725a7f"
      },
      "execution_count": 37,
      "outputs": [
        {
          "output_type": "stream",
          "name": "stdout",
          "text": [
            "Pearson_correlation_coefficient: -0.037\n"
          ]
        }
      ]
    },
    {
      "cell_type": "markdown",
      "source": [
        "Q5. A survey was conducted to examine the relationship between age and preference for a particular\n",
        "brand of soft drink. The survey results are shown below:\n",
        "\n",
        "Age(Years):25, 42, 37, 19, 31, 28\n",
        "\n",
        "Soft drink Preference:Coke, Pepsi, Mountain dew, Coke, Pepsi, Coke"
      ],
      "metadata": {
        "id": "weyc2rwKaYp2"
      }
    },
    {
      "cell_type": "code",
      "source": [
        "import pandas as pd\n",
        "\n",
        "data = {\n",
        "    'Age (Years)': [25, 42, 37, 19, 31, 28],\n",
        "    'Soft Drink Preference': ['Coke', 'Pepsi', 'Mountain Dew', 'Coke', 'Pepsi', 'Coke']\n",
        "}\n",
        "\n",
        "df = pd.DataFrame(data)\n",
        "\n",
        "df['Soft Drink Rank'] = df['Soft Drink Preference'].rank(method='dense')\n",
        "\n",
        "spearman_corr = df['Age (Years)'].corr(df['Soft Drink Rank'], method='spearman')\n",
        "\n",
        "print(\"Spearman's rank correlation coefficient:\", spearman_corr)\n"
      ],
      "metadata": {
        "colab": {
          "base_uri": "https://localhost:8080/"
        },
        "id": "Q0Im-bi1aZP9",
        "outputId": "5a401c60-aff4-4017-9440-6e25923f7a52"
      },
      "execution_count": 43,
      "outputs": [
        {
          "output_type": "stream",
          "name": "stdout",
          "text": [
            "Spearman's rank correlation coefficient: 0.8332380897952965\n"
          ]
        }
      ]
    },
    {
      "cell_type": "markdown",
      "source": [
        "Q6. A company is interested in examining the relationship between the number of sales calls made per day\n",
        "and the number of sales made per week. The company collected data on both variables from a sample of\n",
        "30 sales representatives. Calculate the Pearson correlation coefficient between these two variables."
      ],
      "metadata": {
        "id": "9xrz4S8rYEy9"
      }
    },
    {
      "cell_type": "code",
      "source": [
        "import numpy as np\n",
        "import pandas as pd\n",
        "np.random.seed(42)\n",
        "df =  pd.DataFrame({'sales calls made per day':np.random.randint(20,50,size=30).tolist(),'sales made per week':np.random.randint(5,15,size=30).tolist()})\n",
        "Pearson_correlation_coefficient = df['sales calls made per day'].corr(df['sales made per week'],method='pearson').round(3)\n",
        "print(f'Pearson_correlation_coefficient: {Pearson_correlation_coefficient}')"
      ],
      "metadata": {
        "colab": {
          "base_uri": "https://localhost:8080/"
        },
        "id": "z7BMc3TwT2qC",
        "outputId": "33d06137-57f0-412b-8775-1190f5ef07da"
      },
      "execution_count": 40,
      "outputs": [
        {
          "output_type": "stream",
          "name": "stdout",
          "text": [
            "Pearson_correlation_coefficient: -0.023\n"
          ]
        }
      ]
    },
    {
      "cell_type": "code",
      "source": [],
      "metadata": {
        "id": "e-EheeDtT3XF"
      },
      "execution_count": null,
      "outputs": []
    }
  ]
}