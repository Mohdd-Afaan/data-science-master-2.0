{
  "nbformat": 4,
  "nbformat_minor": 0,
  "metadata": {
    "colab": {
      "provenance": [],
      "authorship_tag": "ABX9TyPTStmNdcfgniUU2XL2WlWX",
      "include_colab_link": true
    },
    "kernelspec": {
      "name": "python3",
      "display_name": "Python 3"
    },
    "language_info": {
      "name": "python"
    },
    "accelerator": "TPU"
  },
  "cells": [
    {
      "cell_type": "markdown",
      "metadata": {
        "id": "view-in-github",
        "colab_type": "text"
      },
      "source": [
        "<a href=\"https://colab.research.google.com/github/Mohdd-Afaan/data-science-master-2.0/blob/main/MySql.ipynb\" target=\"_parent\"><img src=\"https://colab.research.google.com/assets/colab-badge.svg\" alt=\"Open In Colab\"/></a>"
      ]
    },
    {
      "cell_type": "markdown",
      "source": [
        "Q1. What is a database? Differentiate between SQL and NoSQL databases."
      ],
      "metadata": {
        "id": "0OQ2aORPw9zM"
      }
    },
    {
      "cell_type": "markdown",
      "source": [
        "Ans: A database can be defined as an organization of structured information, or data typically stored electronicaly stored in a computer.\n",
        "SQL databases are primally called relational databases whereas NoSQL databases are primary called as non-relatonal databases.SQL databases have fixed or static or predefined schema whereas NoSQL databases have a dynamic schema.SQL databases are vertically scalable whereas NoSQL databases are horzontally scalable."
      ],
      "metadata": {
        "id": "kP9T4DU_xCS5"
      }
    },
    {
      "cell_type": "markdown",
      "source": [
        "Q2. What is DDL? Explain why CREATE, DROP, ALTER, and TRUNCATE are used with an example."
      ],
      "metadata": {
        "id": "Tlg35tF3z-h_"
      }
    },
    {
      "cell_type": "markdown",
      "source": [
        "Ans: DDL stands for \"Data Defintion Language\" that is a subset of SQL. It is used for defining and managing database structures. DDL statements are responcible for defining the structure that holds data and the relationships between them.\n"
      ],
      "metadata": {
        "id": "xceneN0Z0cWt"
      }
    },
    {
      "cell_type": "code",
      "source": [
        "# CREATE : It is used to create database objects such as tables, indexes, views and stored procedures.\n",
        "CREATE TABLE students(\n",
        "    students_id INT(6) PRIMARY KEY,\n",
        "    first_name VARCHAR (100),\n",
        "    last_name VARCHAR (100),\n",
        "    email VARCHAR (500),\n",
        "    address VARCHAR (500)\n",
        ");\n",
        "# DROP : It is used to delete existing database objects like tables, indexes or views\n",
        "DROP TABLE students;\n",
        "# ALTER : It is used to modify stuctures of existing database by adding or deleting column in table\n",
        "ALTER TABLE students\n",
        "DROP COLUMN email;\n",
        "# TRUNCATE : It is sed to remove all the records from the table, but the table structure drfinition remains intact\n",
        "TRUNCATE TABLE students;"
      ],
      "metadata": {
        "id": "oQUdNqub0b4J"
      },
      "execution_count": null,
      "outputs": []
    },
    {
      "cell_type": "markdown",
      "source": [
        "Q3. What is DML? Explain INSERT, UPDATE, and DELETE with an example."
      ],
      "metadata": {
        "id": "DmTt2w-t6sAV"
      }
    },
    {
      "cell_type": "markdown",
      "source": [
        "Ans: DML stands for \"Data Manupulation Language\" and it is a subset of SQL that deals wiith the manupulation of data stored in a database."
      ],
      "metadata": {
        "id": "ZZiEyJS06wJA"
      }
    },
    {
      "cell_type": "code",
      "source": [
        "# Insert is used to add new records into a table\n",
        "INSERT INTO students(students_id, first_name, last_name, email, address)\n",
        "VALUES (1, 'mike' , 'smith' , 'mikesmith@xyz.com','24-street Alaska');\n",
        "# UPDATE : It is used to modify existing data on a specific condition\n",
        "UPDATE students\n",
        "SET first_name = 'jack'\n",
        "where students_id = 1;\n",
        "# DELETE : It is used to remove a record based in specific condition\n",
        "DELETE FROM students\n",
        "where students_id = 1;"
      ],
      "metadata": {
        "id": "RLuFPa0u86o9"
      },
      "execution_count": null,
      "outputs": []
    },
    {
      "cell_type": "markdown",
      "source": [
        "Q4. What is DQL? Explain SELECT with an example."
      ],
      "metadata": {
        "id": "RaYM4iXy_gah"
      }
    },
    {
      "cell_type": "markdown",
      "source": [
        "Ans: DQL stands for \"Data Query Language\" that is a subset of SQL that is used for querying orretriving data from a database"
      ],
      "metadata": {
        "id": "kRKDjaTYAJ6J"
      }
    },
    {
      "cell_type": "code",
      "source": [
        "# SELECT : It is used to retrive data from ome or more tables. The select statement allows us to specify the the columns that we want to retrive or the condition that must be met by the rowsuncluded in results\n",
        "# Selecting all columns from the \"students\" table\n",
        "SELECT *\n",
        "FROM students;\n",
        "# Adding a condition using WHERE\n",
        "SELECT *\n",
        "FROM students\n",
        "where students_id = 1;\n"
      ],
      "metadata": {
        "id": "43h2dGYhw9H-"
      },
      "execution_count": null,
      "outputs": []
    },
    {
      "cell_type": "markdown",
      "source": [
        "Q5. Explain Primary Key and Foreign Key."
      ],
      "metadata": {
        "id": "SgLAJZGCBx4Q"
      }
    },
    {
      "cell_type": "markdown",
      "source": [
        "Ans: A primary key is a field or a set of fields in a database that uniquely identifies each record in that table it cannot be null. It contains unique values Whereas A foreign key is a field in the database that is used to establish a link between two tables it creates a relationship between the data in two tables by referencing the primary key of one table from another table the table containing the foreign key is called referencing table and table being referenced is called referenced table"
      ],
      "metadata": {
        "id": "1DXuNZX3Bzqk"
      }
    },
    {
      "cell_type": "markdown",
      "source": [
        "Q6. Write a python code to connect MySQL to python. Explain the cursor() and execute() method."
      ],
      "metadata": {
        "id": "-SKtIERSDJzG"
      }
    },
    {
      "cell_type": "code",
      "source": [
        "!pip install mysql.connector"
      ],
      "metadata": {
        "colab": {
          "base_uri": "https://localhost:8080/"
        },
        "id": "RKGtnD3FmJiU",
        "outputId": "b742e6c2-2913-43ab-dcb3-06ef5985cbf3"
      },
      "execution_count": 5,
      "outputs": [
        {
          "output_type": "stream",
          "name": "stdout",
          "text": [
            "Collecting mysql.connector\n",
            "  Downloading mysql-connector-2.2.9.tar.gz (11.9 MB)\n",
            "\u001b[2K     \u001b[90m━━━━━━━━━━━━━━━━━━━━━━━━━━━━━━━━━━━━━━━━\u001b[0m \u001b[32m11.9/11.9 MB\u001b[0m \u001b[31m60.9 MB/s\u001b[0m eta \u001b[36m0:00:00\u001b[0m\n",
            "\u001b[?25h  Preparing metadata (setup.py) ... \u001b[?25l\u001b[?25hdone\n",
            "Building wheels for collected packages: mysql.connector\n",
            "  Building wheel for mysql.connector (setup.py) ... \u001b[?25l\u001b[?25hdone\n",
            "  Created wheel for mysql.connector: filename=mysql_connector-2.2.9-cp310-cp310-linux_x86_64.whl size=247951 sha256=7d2ad632629f596d2d73a52029dc6411b57d7226aa6f07ec6f7f1e9fe5623497\n",
            "  Stored in directory: /root/.cache/pip/wheels/76/48/9b/da67ff1a18fe8e9d428f9b1a177716d4a7d363d2bbe83bf6cf\n",
            "Successfully built mysql.connector\n",
            "Installing collected packages: mysql.connector\n",
            "Successfully installed mysql.connector-2.2.9\n"
          ]
        }
      ]
    },
    {
      "cell_type": "code",
      "execution_count": 9,
      "metadata": {
        "id": "a5sI_R4xwauJ"
      },
      "outputs": [],
      "source": [
        "import mysql.connector\n",
        "conn = mysql.connector.connect(\n",
        "    host = \"localhost\",\n",
        "    user = \"root\",\n",
        "    password = \"password\"\n",
        "    # auth_plugin =\"mysql_native_password\"\n",
        ")\n",
        "print(conn)"
      ]
    },
    {
      "cell_type": "code",
      "source": [
        "# cursor is used to create cursor object, which is requiredto execute SQL queries and fetch results. The cursor acts as a pointor to the result set of query\n",
        "cursor = conn.cursor()"
      ],
      "metadata": {
        "id": "iF_H8mXLprXe"
      },
      "execution_count": null,
      "outputs": []
    },
    {
      "cell_type": "code",
      "source": [
        "# Execute mrthod is used to execute sql queries. It takes sql quries as its argument.\n",
        "cursor.execute(\"CREATE TABLE PERFORMANCE IF NOT EXISTStestdb.performance(id INT(6),name VARCHAR(100), grade VARCHAR(1)\")\n",
        "conn.close()"
      ],
      "metadata": {
        "id": "Z4CXYBxRprOU"
      },
      "execution_count": null,
      "outputs": []
    },
    {
      "cell_type": "markdown",
      "source": [
        "Q7. Give the order of execution of SQL clauses in an SQL query."
      ],
      "metadata": {
        "id": "z0izr8XQ41rl"
      }
    },
    {
      "cell_type": "markdown",
      "source": [
        "Ans: 1) SELECT\n",
        "     2) FROM\n",
        "     3) JOIN\n",
        "     4) WHERE\n",
        "     5) GROUP BY\n",
        "     6) HAVING\n",
        "     7) ORDER BY\n",
        "     8) LIMIT\n"
      ],
      "metadata": {
        "id": "xe5QgXbr5DXx"
      }
    },
    {
      "cell_type": "code",
      "source": [],
      "metadata": {
        "id": "IqpDwJUrprAm"
      },
      "execution_count": null,
      "outputs": []
    }
  ]
}