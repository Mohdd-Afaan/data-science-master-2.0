{
  "nbformat": 4,
  "nbformat_minor": 0,
  "metadata": {
    "colab": {
      "provenance": [],
      "authorship_tag": "ABX9TyNpLM9GPmS40awsAf95fP0t",
      "include_colab_link": true
    },
    "kernelspec": {
      "name": "python3",
      "display_name": "Python 3"
    },
    "language_info": {
      "name": "python"
    },
    "accelerator": "TPU"
  },
  "cells": [
    {
      "cell_type": "markdown",
      "metadata": {
        "id": "view-in-github",
        "colab_type": "text"
      },
      "source": [
        "<a href=\"https://colab.research.google.com/github/Mohdd-Afaan/data-science-master-2.0/blob/main/Statistics_Advance_7.ipynb\" target=\"_parent\"><img src=\"https://colab.research.google.com/assets/colab-badge.svg\" alt=\"Open In Colab\"/></a>"
      ]
    },
    {
      "cell_type": "markdown",
      "source": [
        "Q1. Write a Python function that takes in two arrays of data and calculates the F-value for a variance ratio\n",
        "test. The function should return the F-value and the corresponding p-value for the test."
      ],
      "metadata": {
        "id": "biqFOe3xxcrt"
      }
    },
    {
      "cell_type": "code",
      "execution_count": 6,
      "metadata": {
        "id": "1Tkhm-1KxTYJ"
      },
      "outputs": [],
      "source": [
        "import pandas as pd\n",
        "import numpy as np\n",
        "import scipy\n",
        "def variance_ratio_test(a,b):\n",
        "  if len(a)==0 or len(b)==0:\n",
        "    raise ValueError(\"input array must not be empty\")\n",
        "\n",
        "  t_stats,p_value= scipy.stats.f_oneway(a,b)\n",
        "  return t_stats,p_value\n"
      ]
    },
    {
      "cell_type": "code",
      "source": [
        "data_1 = np.array([1,2,3,4,5])\n",
        "data_2 = np.array([3,8,2,6,4])\n",
        "f_value, p_value = variance_ratio_test(data_1, data_2)\n",
        "print(\"F-value:\", f_value)\n",
        "print(\"P-value:\", p_value)"
      ],
      "metadata": {
        "colab": {
          "base_uri": "https://localhost:8080/"
        },
        "id": "4c4CJRLEyeHI",
        "outputId": "30585e6c-94ca-4fa4-b8b8-d4c25193f914"
      },
      "execution_count": 7,
      "outputs": [
        {
          "output_type": "stream",
          "name": "stdout",
          "text": [
            "F-value: 1.542168674698795\n",
            "P-value: 0.2494668326670479\n"
          ]
        }
      ]
    },
    {
      "cell_type": "markdown",
      "source": [
        "Q2. Given a significance level of 0.05 and the degrees of freedom for the numerator and denominator of an\n",
        "F-distribution, write a Python function that returns the critical F-value for a two-tailed test."
      ],
      "metadata": {
        "id": "PeWB1wL93ArZ"
      }
    },
    {
      "cell_type": "code",
      "source": [
        "def critical_f_value(alpha,dof_num,dof_den):\n",
        "  critcal_val = scipy.stats.f.ppf((1 - alpha)/2, dof_num, dof_den)\n",
        "  return critcal_val"
      ],
      "metadata": {
        "id": "_80J60Hdy3aQ"
      },
      "execution_count": 11,
      "outputs": []
    },
    {
      "cell_type": "code",
      "source": [
        "critical_f_value(0.05,2,18)"
      ],
      "metadata": {
        "colab": {
          "base_uri": "https://localhost:8080/"
        },
        "id": "8s9I1Mm32tH9",
        "outputId": "4116dd11-a781-4d47-9a36-851744bf9041"
      },
      "execution_count": 12,
      "outputs": [
        {
          "output_type": "execute_result",
          "data": {
            "text/plain": [
              "0.6679839370023358"
            ]
          },
          "metadata": {},
          "execution_count": 12
        }
      ]
    },
    {
      "cell_type": "markdown",
      "source": [
        "Q3. Write a Python program that generates random samples from two normal distributions with known\n",
        "\n",
        "variances and uses an F-test to determine if the variances are equal. The program should output the F-\n",
        "value, degrees of freedom, and p-value for the test."
      ],
      "metadata": {
        "id": "kCEP6eCE3JEI"
      }
    },
    {
      "cell_type": "code",
      "source": [
        "def f_test_for_equal_variances(data1, data2):\n",
        "  var1 = np.var(data1, ddof=1)\n",
        "  var2 = np.var(data2, ddof=1)\n",
        "\n",
        "  dof_num = len(data1) -1\n",
        "  dof_den = len(data2) -2\n",
        "\n",
        "  f_value = var1 / var2 if var1 > var2  else var2 / var1\n",
        "  p_value = 2 * min(scipy.stats.f.cdf(f_value, dof_num, dof_den), 1 - scipy.stats.f.cdf(f_value, dof_num, dof_den))\n",
        "\n",
        "  return f_value,p_value,dof_num,dof_den\n",
        "\n",
        "np.random.seed(42)  # For reproducibility\n",
        "data1 = np.random.normal(loc=0, scale=1, size=30)\n",
        "data2 = np.random.normal(loc=0, scale=1.5, size=30)\n",
        "f_value, dof_num, dof_den, p_value = f_test_for_equal_variances(data1, data2)\n",
        "print(\"F-value:\", f_value)\n",
        "print(\"Degrees of Freedom (Numerator):\", dof_num)\n",
        "print(\"Degrees of Freedom (Denominator):\", dof_den)\n",
        "print(\"P-value:\", p_value)\n"
      ],
      "metadata": {
        "colab": {
          "base_uri": "https://localhost:8080/"
        },
        "id": "zYvQ_7Ho4PeR",
        "outputId": "4e1e3f84-62f9-406b-857f-a0aeb2dd4fc5"
      },
      "execution_count": 25,
      "outputs": [
        {
          "output_type": "stream",
          "name": "stdout",
          "text": [
            "F-value: 2.4081636671276785\n",
            "Degrees of Freedom (Numerator): 0.022504871222099876\n",
            "Degrees of Freedom (Denominator): 29\n",
            "P-value: 28\n"
          ]
        }
      ]
    },
    {
      "cell_type": "markdown",
      "source": [
        "Q4.The variances of two populations are known to be 10 and 15. A sample of 12 observations is taken from\n",
        "each population. Conduct an F-test at the 5% significance level to determine if the variances are\n",
        "significantly different."
      ],
      "metadata": {
        "id": "3dVlonOlRtaT"
      }
    },
    {
      "cell_type": "code",
      "source": [
        "import scipy\n",
        "\n",
        "var_1 = 10\n",
        "var_2 = 15\n",
        "sample_size = 12\n",
        "significance_level = 0.05\n",
        "\n",
        "dof_num = sample_size - 1\n",
        "dof_num = sample_size - 1\n",
        "if var_1 > var_2:\n",
        "    f_value = var_1 / var_2\n",
        "else:\n",
        "    f_value = var_2 / var_1\n",
        "\n",
        "p_value = 2*min(scipy.stats.f.cdf(f_value, dof_num, dof_den), 1 - scipy.stats.f.cdf(f_value, dof_num, dof_den))\n",
        "\n",
        "if p_value <= significance_level:\n",
        "  print(\"Reject the null hypothesis. Variances are significantly different.\")\n",
        "else:\n",
        "    print(\"Fail to reject the null hypothesis. No significant evidence of different variances.\")"
      ],
      "metadata": {
        "colab": {
          "base_uri": "https://localhost:8080/"
        },
        "id": "AZb7N8bdPhzo",
        "outputId": "07314d1e-efdc-4e7b-a61b-ffcf212736cb"
      },
      "execution_count": 33,
      "outputs": [
        {
          "output_type": "stream",
          "name": "stdout",
          "text": [
            "Fail to reject the null hypothesis. No significant evidence of different variances.\n"
          ]
        }
      ]
    },
    {
      "cell_type": "markdown",
      "source": [
        "Q5. A manufacturer claims that the variance of the diameter of a certain product is 0.005. A sample of 25\n",
        "products is taken, and the sample variance is found to be 0.006. Conduct an F-test at the 1% significance\n",
        "level to determine if the claim is justified."
      ],
      "metadata": {
        "id": "zXHzQAopUKAg"
      }
    },
    {
      "cell_type": "code",
      "source": [
        "import scipy\n",
        "\n",
        "claimed_var = 0.005\n",
        "observed_var = 0.006\n",
        "sample_size = 25\n",
        "dof_num = sample_size - 1\n",
        "dof_den = sample_size - 1\n",
        "significance_level = 0.01\n",
        "if claimed_var > observed_var:\n",
        "    f_value = claimed_var / observed_var\n",
        "else:\n",
        "    f_value = observed_var / claimed_var\n",
        "p_value = 2*min(scipy.stats.f.cdf(f_value,dof_num,dof_den), 1 -scipy.stats.f.cdf(f_value,dof_num,dof_den))\n",
        "if p_value <= significance_level:\n",
        "    print(\"Reject the null hypothesis. The claim is not justified.\")\n",
        "else:\n",
        "    print(\"Fail to reject the null hypothesis. The claim is justified.\")"
      ],
      "metadata": {
        "colab": {
          "base_uri": "https://localhost:8080/"
        },
        "id": "pC74p92tTUVE",
        "outputId": "be9f0907-c207-4403-b634-4b6c1563b8e1"
      },
      "execution_count": 34,
      "outputs": [
        {
          "output_type": "stream",
          "name": "stdout",
          "text": [
            "Fail to reject the null hypothesis. The claim is justified.\n"
          ]
        }
      ]
    },
    {
      "cell_type": "markdown",
      "source": [
        "Q6. Write a Python function that takes in the degrees of freedom for the numerator and denominator of an\n",
        "F-distribution and calculates the mean and variance of the distribution. The function should return the\n",
        "mean and variance as a tuple."
      ],
      "metadata": {
        "id": "9ABpC25NXh0j"
      }
    },
    {
      "cell_type": "code",
      "source": [
        "def f_distribution_mean_variance_manual(df_num, df_den):\n",
        "  f_mean = df_den / (df_den - 2)\n",
        "  if df_den > 4:\n",
        "    f_var = (2*(df_den**2)*(df_num + df_den - 2)) / ((df_num - 2)*(df_den - 4)*((df_den - 2)**2)*(df_den - 4))\n",
        "  else:\n",
        "    f_var = None\n",
        "  return (f_mean, f_var)\n",
        "\n",
        "df_num = 3\n",
        "df_den = 8\n",
        "\n",
        "f_distribution_mean_variance_manual(df_num, df_den)\n"
      ],
      "metadata": {
        "colab": {
          "base_uri": "https://localhost:8080/"
        },
        "id": "trhAxwdCTUwV",
        "outputId": "474047f2-753f-4a46-b622-330c20410358"
      },
      "execution_count": 42,
      "outputs": [
        {
          "output_type": "execute_result",
          "data": {
            "text/plain": [
              "(1.3333333333333333, 2.0)"
            ]
          },
          "metadata": {},
          "execution_count": 42
        }
      ]
    },
    {
      "cell_type": "markdown",
      "source": [
        "Q7. A random sample of 10 measurements is taken from a normal population with unknown variance. The\n",
        "sample variance is found to be 25. Another random sample of 15 measurements is taken from another\n",
        "normal population with unknown variance, and the sample variance is found to be 20. Conduct an F-test\n",
        "at the 10% significance level to determine if the variances are significantly different."
      ],
      "metadata": {
        "id": "wmC4gkOedYpg"
      }
    },
    {
      "cell_type": "code",
      "source": [
        "import scipy\n",
        "\n",
        "sample_variance1 = 25\n",
        "sample_size1 = 10\n",
        "sample_variance2 = 20\n",
        "sample_size2 = 15\n",
        "significance_level = 0.10\n",
        "\n",
        "if sample_variance1 > sample_variance2:\n",
        "  f_val = sample_variance1 / sample_variance2\n",
        "else:\n",
        "  f_val = sample_variance2 / sample_variance1\n",
        "\n",
        "dof_num = sample_size1 - 1 if sample_variance1 > sample_variance2 else sample_size2 - 1\n",
        "dof_den = sample_size2 - 1 if sample_variance1 > sample_variance2 else sample_size1 - 1\n",
        "\n",
        "p_val = 2 * min(scipy.stats.f.cdf(f_val, dof_num, dof_den), 1 - scipy.stats.f.cdf(f_val, dof_num, dof_den))\n",
        "\n",
        "if p_value <= significance_level:\n",
        "    print(\"Reject the null hypothesis. Variances are significantly different.\")\n",
        "else:\n",
        "    print(\"Fail to reject the null hypothesis. No significant evidence of different variances.\")"
      ],
      "metadata": {
        "colab": {
          "base_uri": "https://localhost:8080/"
        },
        "id": "A3ki2h3JdCXz",
        "outputId": "faf2794a-edd2-454a-a630-aa5c831d0769"
      },
      "execution_count": 44,
      "outputs": [
        {
          "output_type": "stream",
          "name": "stdout",
          "text": [
            "Fail to reject the null hypothesis. No significant evidence of different variances.\n"
          ]
        }
      ]
    },
    {
      "cell_type": "markdown",
      "source": [
        "Q8. The following data represent the waiting times in minutes at two different restaurants on a Saturday\n",
        "night: Restaurant A: 24, 25, 28, 23, 22, 20, 27; Restaurant B: 31, 33, 35, 30, 32, 36. Conduct an F-test at the 5%\n",
        "significance level to determine if the variances are significantly different."
      ],
      "metadata": {
        "id": "jyjMwfiJfpja"
      }
    },
    {
      "cell_type": "code",
      "source": [
        "import scipy\n",
        "import numpy as np\n",
        "\n",
        "Restaurant_A = [24, 25, 28, 23, 22, 20, 27]\n",
        "Restaurant_B = [31, 33, 35, 30, 32, 36]\n",
        "Var_A = np.var(Restaurant_A)\n",
        "Var_B = np.var(Restaurant_B)\n",
        "Sample_SizeA = len(Restaurant_A)\n",
        "Sample_SizeB = len(Restaurant_B)\n",
        "significance_level = 0.05\n",
        "\n",
        "if Var_A > Var_B:\n",
        "  f_val = Var_A / Var_B\n",
        "else:\n",
        "  f_val = Var_B / Var_A\n",
        "\n",
        "dof_num = Sample_SizeA - 1 if Var_A > Var_B else Sample_SizeB - 1\n",
        "dof_den = Sample_SizeB - 1 if Var_A > Var_B else Sample_SizeA - 1\n",
        "\n",
        "p_val = 2 * min(scipy.stats.f.cdf(f_val, dof_num, dof_den), 1 - scipy.stats.f.cdf(f_val, dof_num, dof_den))\n",
        "\n",
        "if p_val <= significance_level:\n",
        "    print(\"Reject the null hypothesis. Variances are significantly different.\")\n",
        "else:\n",
        "    print(\"Fail to reject the null hypothesis. No significant evidence of different variances.\")"
      ],
      "metadata": {
        "colab": {
          "base_uri": "https://localhost:8080/"
        },
        "id": "UcejjJ2nfUev",
        "outputId": "65585e8b-eb7a-4c3f-e00f-df93da8e3a24"
      },
      "execution_count": 51,
      "outputs": [
        {
          "output_type": "stream",
          "name": "stdout",
          "text": [
            "Fail to reject the null hypothesis. No significant evidence of different variances.\n"
          ]
        }
      ]
    },
    {
      "cell_type": "markdown",
      "source": [
        "Q9. The following data represent the test scores of two groups of students: Group A: 80, 85, 90, 92, 87, 83;\n",
        "Group B: 75, 78, 82, 79, 81, 84. Conduct an F-test at the 1% significance level to determine if the variances\n",
        "are significantly different."
      ],
      "metadata": {
        "id": "jH5GuPkoilU7"
      }
    },
    {
      "cell_type": "code",
      "source": [
        "import scipy\n",
        "import numpy as np\n",
        "\n",
        "Group_A = [80, 85, 90, 92, 87, 83]\n",
        "Group_B = [75, 78, 82, 79, 81, 84]\n",
        "Var_A = np.var(Group_A)\n",
        "Var_B = np.var(Group_B)\n",
        "Sample_SizeA = len(Group_A)\n",
        "Sample_SizeB = len(Group_B)\n",
        "significance_level = 0.05\n",
        "\n",
        "if Var_A > Var_B:\n",
        "  f_val = Var_A / Var_B\n",
        "else:\n",
        "  f_val = Var_B / Var_A\n",
        "\n",
        "dof_num = Sample_SizeA - 1 if Var_A > Var_B else Sample_SizeB - 1\n",
        "dof_den = Sample_SizeB - 1 if Var_A > Var_B else Sample_SizeA - 1\n",
        "\n",
        "p_val = 2 * min(scipy.stats.f.cdf(f_val, dof_num, dof_den), 1 - scipy.stats.f.cdf(f_val, dof_num, dof_den))\n",
        "\n",
        "if p_value <= significance_level:\n",
        "    print(\"Reject the null hypothesis. Variances are significantly different.\")\n",
        "else:\n",
        "    print(\"Fail to reject the null hypothesis. No significant evidence of different variances.\")"
      ],
      "metadata": {
        "colab": {
          "base_uri": "https://localhost:8080/"
        },
        "id": "sTIQ7fF3inWV",
        "outputId": "a7536d29-f9b4-46da-d03d-89f3d417f58c"
      },
      "execution_count": 52,
      "outputs": [
        {
          "output_type": "stream",
          "name": "stdout",
          "text": [
            "Fail to reject the null hypothesis. No significant evidence of different variances.\n"
          ]
        }
      ]
    }
  ]
}