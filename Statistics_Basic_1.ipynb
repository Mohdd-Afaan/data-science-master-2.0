{
  "nbformat": 4,
  "nbformat_minor": 0,
  "metadata": {
    "colab": {
      "provenance": [],
      "authorship_tag": "ABX9TyMsEAXzmFWQbQdl4kFOMF6m",
      "include_colab_link": true
    },
    "kernelspec": {
      "name": "python3",
      "display_name": "Python 3"
    },
    "language_info": {
      "name": "python"
    }
  },
  "cells": [
    {
      "cell_type": "markdown",
      "metadata": {
        "id": "view-in-github",
        "colab_type": "text"
      },
      "source": [
        "<a href=\"https://colab.research.google.com/github/Mohdd-Afaan/data-science-master-2.0/blob/main/Statistics_Basic_1.ipynb\" target=\"_parent\"><img src=\"https://colab.research.google.com/assets/colab-badge.svg\" alt=\"Open In Colab\"/></a>"
      ]
    },
    {
      "cell_type": "markdown",
      "source": [
        "Q1. What is Statistics?"
      ],
      "metadata": {
        "id": "2gVxAWYQMJOB"
      }
    },
    {
      "cell_type": "markdown",
      "source": [
        "Ans: Statistics is the branch of mathematics that deals with the collection, analysis, interpretaton, presentation and organization of data. The primary goal of statistics is to draw meaningful conclusions from the data."
      ],
      "metadata": {
        "id": "C6ney76CMWFs"
      }
    },
    {
      "cell_type": "markdown",
      "source": [
        "Q2. Define the different types of statistics and give an example of when each type might be used."
      ],
      "metadata": {
        "id": "bnzt1RxoMWCH"
      }
    },
    {
      "cell_type": "markdown",
      "source": [
        "Ans: Statistics can be broadly categorized into two main types: descriptive statistics and inferential statistics:\n",
        "1) Descriptive statistics:\n",
        "  Descriptive statistics involve methods for summarizing and organizing data to provide a clear and meaningful description. They help in understanding the main features of a dataset without drawing conclusions about a larger population.\n",
        "  Measure of central tendency:\n",
        "  mean: It can be used to calculate the average age of the group of people.\n",
        "  median: It can be used to identify the mid value in a sorted list of age.\n",
        "  mode: it can be used to identify the most occurring value in the list of age.\n",
        "  Measure of dispersion:\n",
        "  Range: It can used to calculate the difference between the high and lowest score in a class room.\n",
        "  Standard deviation: It can be used to determine how spread out the scores of the students are in a class.\n",
        "  Frequency distribution:\n",
        "  Creating a histogram to show the distribution of ages in a population.\n",
        "2) Infrential statistics:\n",
        "  Inferential statistics involve making predictions or inferences about a population based on a sample of data. These methods are used when it is impractical to collect data from an entire population.\n",
        "  Hypothesis Testing:\n",
        "  Testing whether a new drug has a significant effect on curing a disease by comparing the recovery rates of a sample group with a control group.\n",
        "  Confidence Intervals:\n",
        "  Estimating the average height of a population by calculating a confidence interval based on a sample of heights."
      ],
      "metadata": {
        "id": "D0PNd-y9MV_g"
      }
    },
    {
      "cell_type": "markdown",
      "source": [
        "Q3. What are the different types of data and how do they differ from each other? Provide an example of\n",
        "each type of data."
      ],
      "metadata": {
        "id": "BkoUi6ROMV8r"
      }
    },
    {
      "cell_type": "markdown",
      "source": [
        "Ans: Data can be classified into different types based on its nature and characteristics. The main types of data are:\n",
        "Nominal Data:\n",
        "Nominal data represents categories or labels without any inherent order or ranking. It is qualitative and often used for categorical variables.\n",
        "Ordinal Data:\n",
        "Ordinal data represents categories with a meaningful order or ranking, but the intervals between values are not uniform or meaningful.\n",
        "Interval Data:\n",
        "Interval data has a meaningful order, and the intervals between values are consistent. However, it lacks a true zero point, and ratios are not meaningful.\n",
        "Ratio Data:\n",
        "Ratio data has a meaningful order, consistent intervals, a true zero point, and ratios between values are meaningful."
      ],
      "metadata": {
        "id": "0ixylaO7MV5z"
      }
    },
    {
      "cell_type": "markdown",
      "source": [
        "Q4. Categorise the following datasets with respect to quantitative and qualitative data types:\n",
        "(i) Grading in exam: A+, A, B+, B, C+, C, D, E\n",
        "(ii) Colour of mangoes: yellow, green, orange, red\n",
        "(iii) Height data of a class: [178.9, 179, 179.5, 176, 177.2, 178.3, 175.8,...]\n",
        "(iv) Number of mangoes exported by a farm: [500, 600, 478, 672, ...]"
      ],
      "metadata": {
        "id": "XtUy2DGhMV27"
      }
    },
    {
      "cell_type": "markdown",
      "source": [
        "Ans: Grading in exam: A+, A, B+, B, C+, C, D, E\n",
        "    Type: Qualitative (Ordinal)\n",
        "    Colour of mangoes: yellow, green, orange, red\n",
        "    Type: Qualitative (Nominal)\n",
        "    Height data of a class: [178.9, 179, 179.5, 176, 177.2, 178.3, 175.8, ...]\n",
        "    Type: Quantitative (Ratio)\n",
        "    Number of mangoes exported by a farm: [500, 600, 478, 672, ...]\n",
        "    Type: Quantitative (Ratio)"
      ],
      "metadata": {
        "id": "ht1F8FCiMV0A"
      }
    },
    {
      "cell_type": "markdown",
      "source": [
        "Q5. Explain the concept of levels of measurement and give an example of a variable for each level."
      ],
      "metadata": {
        "id": "vYtAiQDoMVxM"
      }
    },
    {
      "cell_type": "markdown",
      "source": [
        "Ans: Levels of measurement, also known as scales of measurement, describe the nature and characteristics of a variable. There are four main levels of measurement: nominal, ordinal, interval, and ratio. Each level has distinct properties and determines the types of statistical analyses that can be performed on the data.\n",
        "Nominal Level of Measurement:\n",
        "Nominal data consists of categories or labels without any inherent order or ranking. Variables at the nominal level are qualitative and can only be classified into different categories.\n",
        "Ordinal Level of Measurement:\n",
        "Ordinal data represents categories with a meaningful order or ranking, but the intervals between values are not consistent or meaningful. The differences between categories are not uniform\n",
        "Interval Level of Measurement:\n",
        "Interval data has a meaningful order, consistent intervals between values, but lacks a true zero point. Ratios between values are not meaningful.\n",
        "Ratio Level of Measurement:\n",
        "Ratio data has a meaningful order, consistent intervals between values, a true zero point, and meaningful ratios between values. Ratios are meaningful because zero represents the absence of the attribute."
      ],
      "metadata": {
        "id": "1Tb4jX9AMVt7"
      }
    },
    {
      "cell_type": "markdown",
      "source": [
        "Q6. Why is it important to understand the level of measurement when analyzing data? Provide an\n",
        "example to illustrate your answer."
      ],
      "metadata": {
        "id": "btsa2pHVMVq7"
      }
    },
    {
      "cell_type": "markdown",
      "source": [
        "Ans: Understanding the level of measurement is crucial when analyzing data because it determines the types of statistical analyses and operations that can be applied to the data. Different levels of measurement have distinct properties, and using inappropriate statistical methods can lead to incorrect conclusions and interpretations.\n",
        "example:\n",
        "considering the eductational level and income of individuals who have done bachelor's , master's.\n",
        "If we take income as nomianal data type and try to calculate mean of the it will not provide us desired results as nominal data have no order or ranking.\n",
        "But if we take income as ratio data type and try to calculate the mean we can rank what indivuals with type of educations are earning more as compared to others. Though there can be also other factors affecting"
      ],
      "metadata": {
        "id": "FyiXq5M_MVoD"
      }
    },
    {
      "cell_type": "markdown",
      "source": [
        "Q7. How nominal data type is different from ordinal data type."
      ],
      "metadata": {
        "id": "uG-lh0L1MVk_"
      }
    },
    {
      "cell_type": "markdown",
      "source": [
        "Ans: Nominal Data:\n",
        "Nominal data represents categories or labels without any inherent order or ranking. Categories in nominal data are qualitative and distinct, and they lack meaningful order.\n",
        "Ordinal Data:\n",
        "Ordinal data also represents categories, but these categories have a meaningful order or ranking.\n",
        "Unlike nominal data, ordinal data allows us to rank or order the categories based on some criteria."
      ],
      "metadata": {
        "id": "Xv6BkPUxMVfz"
      }
    },
    {
      "cell_type": "markdown",
      "source": [
        "Q8. Which type of plot can be used to display data in terms of range?"
      ],
      "metadata": {
        "id": "cdq7UgSFMVc7"
      }
    },
    {
      "cell_type": "markdown",
      "source": [
        "Ans: A box plot can be used to display data in terms of its range. A box plot provides a visual representation of the distribution, central tendency, and spread of a dataset."
      ],
      "metadata": {
        "id": "9eeiC90kMVaL"
      }
    },
    {
      "cell_type": "markdown",
      "source": [
        "Q9. Describe the difference between descriptive and inferential statistics. Give an example of each\n",
        "type of statistics and explain how they are used."
      ],
      "metadata": {
        "id": "Vo-GsG4PMVXT"
      }
    },
    {
      "cell_type": "markdown",
      "source": [
        "Ans: Descriptive Statistics:\n",
        "\n",
        "Descriptive statistics involve methods for summarizing, organizing, and presenting data in a meaningful way. The primary goal is to provide a clear and concise overview of the main features of a dataset. Descriptive statistics do not involve making inferences or predictions about a larger population; instead, they focus on describing the sample itself.\n",
        "Example:\n",
        "Suppose you have a dataset containing the ages of a group of individuals. Descriptive statistics for this dataset might include measures such as the mean (average) age, median (middle value), mode (most frequent age), range (difference between the maximum and minimum ages), and standard deviation (measure of data dispersion). These measures help to characterize the central tendency and variability of the ages within the sample.\n",
        "Inferential Statistics:\n",
        "Inferential statistics involve making predictions, inferences, or generalizations about a population based on a sample of data. The goal is to draw meaningful conclusions that extend beyond the specific observations in the dataset. Inferential statistics use probability theory and mathematical models to make predictions about the larger population.\n",
        "Example:\n",
        "Consider a scenario where you want to determine whether a new teaching method improves student performance. You might take a sample of students, apply the new teaching method to this sample, and then use inferential statistics to generalize the findings to the entire student population."
      ],
      "metadata": {
        "id": "OKQYzSpWMVUk"
      }
    },
    {
      "cell_type": "markdown",
      "source": [
        "Q10. What are some common measures of central tendency and variability used in statistics? Explain\n",
        "how each measure can be used to describe a dataset."
      ],
      "metadata": {
        "id": "W75pwnHdMVR7"
      }
    },
    {
      "cell_type": "markdown",
      "source": [
        "Ans:Measures of Central Tendency:\n",
        "Measures of central tendency summarize the center or average of a dataset, providing a single value that represents the \"typical\" or central value. The most common measures of central tendency are:\n",
        "Mean (Average):\n",
        "Calculation: The mean is calculated by summing up all values in the dataset and dividing by the total number of values.\n",
        "Use: The mean represents the arithmetic average.\n",
        "Median:\n",
        "Calculation: The median is the middle value in a sorted dataset. If there is an even number of observations, the median is the average of the two middle values.\n",
        "Use: The median is resistant to extreme values and is appropriate for skewed distributions.\n",
        "Mode:\n",
        "Calculation: The mode is the value(s) that occur most frequently in the dataset.\n",
        "Use: The mode is suitable for categorical data and may be used with numerical data\n",
        "\n",
        "Measures of Central Tendency:\n",
        "\n",
        "Measures of central tendency summarize the center or average of a dataset, providing a single value that represents the \"typical\" or central value. The most common measures of central tendency are:\n",
        "\n",
        "Mean (Average):\n",
        "\n",
        "Calculation: The mean is calculated by summing up all values in the dataset and dividing by the total number of values.\n",
        "Use: The mean represents the arithmetic average and is sensitive to extreme values. It is suitable for symmetric distributions.\n",
        "Median:\n",
        "\n",
        "Calculation: The median is the middle value in a sorted dataset. If there is an even number of observations, the median is the average of the two middle values.\n",
        "Use: The median is resistant to extreme values and is appropriate for skewed distributions.\n",
        "Mode:\n",
        "\n",
        "Calculation: The mode is the value(s) that occur most frequently in the dataset.\n",
        "Use: The mode is suitable for categorical data and may be used with numerical data. A dataset can have one mode (unimodal), more than one mode (multimodal), or no mode.\n",
        "Measures of Variability:\n",
        "Measures of variability describe the spread or dispersion of values in a dataset. They provide information about how much individual data points deviate from the central tendency. Common measures of variability include:\n",
        "Range:\n",
        "Calculation: The range is the difference between the maximum and minimum values in a dataset.\n",
        "Use: The range is a simple measure but sensitive to extreme values. It gives an idea of the spread of the dataset.\n",
        "Variance:\n",
        "Calculation: Variance is the average of the squared differences between each data point and the mean.\n",
        "Use: Variance provides a measure of the overall variability, but the squared units may make interpretation challenging.\n",
        "Standard Deviation:\n",
        "Calculation: The standard deviation is the square root of the variance. It represents the average deviation from the mean.\n",
        "Use: Standard deviation is widely used and easier to interpret than variance. It is suitable for describing the spread of values around the mean."
      ],
      "metadata": {
        "id": "CafdYjjfMVO6"
      }
    },
    {
      "cell_type": "code",
      "execution_count": null,
      "metadata": {
        "id": "1ttJ9AsZMIfW"
      },
      "outputs": [],
      "source": []
    }
  ]
}