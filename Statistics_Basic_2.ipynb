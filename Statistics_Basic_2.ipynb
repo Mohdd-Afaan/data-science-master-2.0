{
  "nbformat": 4,
  "nbformat_minor": 0,
  "metadata": {
    "colab": {
      "provenance": [],
      "authorship_tag": "ABX9TyOATaCY5eM1C5ZJQMUShMc0",
      "include_colab_link": true
    },
    "kernelspec": {
      "name": "python3",
      "display_name": "Python 3"
    },
    "language_info": {
      "name": "python"
    },
    "accelerator": "TPU"
  },
  "cells": [
    {
      "cell_type": "markdown",
      "metadata": {
        "id": "view-in-github",
        "colab_type": "text"
      },
      "source": [
        "<a href=\"https://colab.research.google.com/github/Mohdd-Afaan/data-science-master-2.0/blob/main/Statistics_Basic_2.ipynb\" target=\"_parent\"><img src=\"https://colab.research.google.com/assets/colab-badge.svg\" alt=\"Open In Colab\"/></a>"
      ]
    },
    {
      "cell_type": "markdown",
      "source": [
        "Q1. What are the three measures of central tendency?"
      ],
      "metadata": {
        "id": "Q4FsGStN6iSc"
      }
    },
    {
      "cell_type": "markdown",
      "source": [
        "Ans: The three measures of central tendency are:\n",
        "Mean:\n",
        "The mean is the average of all values in a dataset.\n",
        "It is calculated by summing up all values and dividing by the total number of values.\n",
        "Median:\n",
        "The median is the middle value in a sorted dataset.\n",
        "If the dataset has an odd number of observations, the median is the middle value. If the dataset has an even number of observations, the median is the average of the two middle values.\n",
        "Mode:\n",
        "The mode is the value that occur most frequently in a dataset.\n"
      ],
      "metadata": {
        "id": "Etuk5B1b6sVp"
      }
    },
    {
      "cell_type": "markdown",
      "source": [
        "Q2. What is the difference between the mean, median, and mode? How are they used to measure the\n",
        "central tendency of a dataset?"
      ],
      "metadata": {
        "id": "hFFPv3TO7n9s"
      }
    },
    {
      "cell_type": "markdown",
      "source": [
        "Ans: Differences:\n",
        "Sensitivity to Outliers:\n",
        "1)Mean is sensitive to outliers, as it considers all values in the dataset.\n",
        "2)Median is resistant to outliers, as it is not influenced by extreme values.\n",
        "3)Mode is not particularly sensitive to outliers, as it focuses on the most frequent values.\n",
        "Calculation Method:\n",
        "1)Mean involves summing all values and dividing by the total number of values.\n",
        "2)Median involves sorting the data and finding the middle value.\n",
        "3)Mode involves identifying the most frequent value(s).\n",
        "Applicability:\n",
        "1)Mean is suitable for symmetric distributions without outliers.\n",
        "2)Median is suitable for skewed distributions and datasets with outliers.\n",
        "3)Mode is suitable for identifying the most frequent values in any type of distribution.\n",
        "Use in Measuring Central Tendency:\n",
        "1)These measures provide a way to summarize the central or typical value of a dataset.\n",
        "2)The choice of measure depends on the distribution of the data and the presence of outliers.\n",
        "3)Mean, median, and mode are complementary and collectively offer insights into the characteristics of a dataset."
      ],
      "metadata": {
        "id": "hB3F4KK77n6a"
      }
    },
    {
      "cell_type": "markdown",
      "source": [
        "Q3. Measure the three measures of central tendency for the given height data:"
      ],
      "metadata": {
        "id": "MqIB5rFG8Jq1"
      }
    },
    {
      "cell_type": "code",
      "source": [
        "import numpy as np\n",
        "from scipy import stats"
      ],
      "metadata": {
        "id": "SkhXsRUM8dGt"
      },
      "execution_count": 10,
      "outputs": []
    },
    {
      "cell_type": "code",
      "source": [
        "height = [178,177,176,177,178.2,178,175,179,180,175,178.9,176.2,177,172.5,178,176.5]"
      ],
      "metadata": {
        "id": "UyB04sBA8TFP"
      },
      "execution_count": 7,
      "outputs": []
    },
    {
      "cell_type": "code",
      "source": [
        "np.mean(height)"
      ],
      "metadata": {
        "colab": {
          "base_uri": "https://localhost:8080/"
        },
        "id": "pAi0GHg28ka5",
        "outputId": "f5203bcf-4174-4017-b2ab-85146aa8de3a"
      },
      "execution_count": 8,
      "outputs": [
        {
          "output_type": "execute_result",
          "data": {
            "text/plain": [
              "177.01875"
            ]
          },
          "metadata": {},
          "execution_count": 8
        }
      ]
    },
    {
      "cell_type": "code",
      "source": [
        "np.median(height)"
      ],
      "metadata": {
        "colab": {
          "base_uri": "https://localhost:8080/"
        },
        "id": "UG11fwtB8uI0",
        "outputId": "b0f8522b-9afe-445a-bb2d-750f3b2b0f7f"
      },
      "execution_count": 9,
      "outputs": [
        {
          "output_type": "execute_result",
          "data": {
            "text/plain": [
              "177.0"
            ]
          },
          "metadata": {},
          "execution_count": 9
        }
      ]
    },
    {
      "cell_type": "code",
      "source": [
        "stats.mode(height)"
      ],
      "metadata": {
        "colab": {
          "base_uri": "https://localhost:8080/"
        },
        "id": "KPT0hCWT83St",
        "outputId": "ef691512-79be-4d7d-fbf9-a7e3de7b3f48"
      },
      "execution_count": 11,
      "outputs": [
        {
          "output_type": "execute_result",
          "data": {
            "text/plain": [
              "ModeResult(mode=177.0, count=3)"
            ]
          },
          "metadata": {},
          "execution_count": 11
        }
      ]
    },
    {
      "cell_type": "markdown",
      "source": [
        "Q4. Find the standard deviation for the given data:"
      ],
      "metadata": {
        "id": "jcf83mqP8Jnt"
      }
    },
    {
      "cell_type": "code",
      "source": [
        "data = [178,177,176,177,178.2,178,175,179,180,175,178.9,176.2,177,172.5,178,176.5]"
      ],
      "metadata": {
        "id": "mpTL-jXe9imh"
      },
      "execution_count": 12,
      "outputs": []
    },
    {
      "cell_type": "code",
      "source": [
        "np.std(data)"
      ],
      "metadata": {
        "colab": {
          "base_uri": "https://localhost:8080/"
        },
        "id": "6gi2Bfc49ksO",
        "outputId": "558e158e-4f87-4839-e968-72aba29d24d6"
      },
      "execution_count": 16,
      "outputs": [
        {
          "output_type": "execute_result",
          "data": {
            "text/plain": [
              "1.7885814036548633"
            ]
          },
          "metadata": {},
          "execution_count": 16
        }
      ]
    },
    {
      "cell_type": "markdown",
      "source": [],
      "metadata": {
        "id": "leQuY3gZ8Jkj"
      }
    },
    {
      "cell_type": "markdown",
      "source": [
        "Ans: Measures of Dispersion:\n",
        "Range:\n",
        "Definition: Range is the difference between the maximum and minimum values in a dataset.\n",
        "Use: It provides a simple measure of the spread of data but is sensitive to outliers.\n",
        "Variance:\n",
        "Definition: Variance is the average of the squared differences between each data point and the mean of the dataset.\n",
        "Use: It quantifies the overall variability of data. However, the squared units may make interpretation challenging.\n",
        "Standard Deviation:\n",
        "Definition: Standard deviation is the square root of the variance. It represents the average deviation from the mean.\n",
        "Use: It is a more interpretable measure of the spread, allowing for a better understanding of the dispersion.\n"
      ],
      "metadata": {
        "id": "PIEuPH5m8JhC"
      }
    },
    {
      "cell_type": "markdown",
      "source": [
        "Example:\n",
        "Consider the following dataset representing the daily temperatures in degrees Celsius for a city over a week:"
      ],
      "metadata": {
        "id": "0Y8ZWNbRAzy9"
      }
    },
    {
      "cell_type": "code",
      "execution_count": 32,
      "metadata": {
        "id": "gSq3eYwF6Qpp"
      },
      "outputs": [],
      "source": [
        "temperature = [22,23,21,25,24,22,26]"
      ]
    },
    {
      "cell_type": "code",
      "source": [
        "def stats_range(x):\n",
        "  return max(x) - min(x)"
      ],
      "metadata": {
        "id": "pGI7zqOW_rW9"
      },
      "execution_count": 64,
      "outputs": []
    },
    {
      "cell_type": "code",
      "source": [
        "stats_range(temperature)"
      ],
      "metadata": {
        "colab": {
          "base_uri": "https://localhost:8080/"
        },
        "id": "Rq0FBKZm_J7L",
        "outputId": "9ede3046-1d07-45d4-cba9-7dd8fea89763"
      },
      "execution_count": 34,
      "outputs": [
        {
          "output_type": "execute_result",
          "data": {
            "text/plain": [
              "5"
            ]
          },
          "metadata": {},
          "execution_count": 34
        }
      ]
    },
    {
      "cell_type": "code",
      "source": [
        "np.var(temperature)"
      ],
      "metadata": {
        "colab": {
          "base_uri": "https://localhost:8080/"
        },
        "id": "VKu76semADqR",
        "outputId": "880c5a1f-e0cf-47b4-a346-bc723d3ade91"
      },
      "execution_count": 35,
      "outputs": [
        {
          "output_type": "execute_result",
          "data": {
            "text/plain": [
              "2.7755102040816326"
            ]
          },
          "metadata": {},
          "execution_count": 35
        }
      ]
    },
    {
      "cell_type": "code",
      "source": [
        "np.mean(temperature)"
      ],
      "metadata": {
        "colab": {
          "base_uri": "https://localhost:8080/"
        },
        "id": "PnnuA2b-KBVM",
        "outputId": "fc663a9e-8bbb-4814-8a9e-8843ffb4ac74"
      },
      "execution_count": 39,
      "outputs": [
        {
          "output_type": "execute_result",
          "data": {
            "text/plain": [
              "23.285714285714285"
            ]
          },
          "metadata": {},
          "execution_count": 39
        }
      ]
    },
    {
      "cell_type": "code",
      "source": [
        "np.std(temperature)"
      ],
      "metadata": {
        "colab": {
          "base_uri": "https://localhost:8080/"
        },
        "id": "uykyexCvAW32",
        "outputId": "a957aaed-5f05-4d85-ecbe-9dcd1bf43fa8"
      },
      "execution_count": 36,
      "outputs": [
        {
          "output_type": "execute_result",
          "data": {
            "text/plain": [
              "1.6659862556700857"
            ]
          },
          "metadata": {},
          "execution_count": 36
        }
      ]
    },
    {
      "cell_type": "markdown",
      "source": [
        "Q6. What is a Venn diagram?"
      ],
      "metadata": {
        "id": "JuTaGtCKBkPL"
      }
    },
    {
      "cell_type": "markdown",
      "source": [
        "Ans: A Venn diagram is a visual representation that illustrates the relationships and similarities between different sets or groups.  Venn diagrams use overlapping circles or other shapes to show the commonalities and differences among sets."
      ],
      "metadata": {
        "id": "8S3VNlzdBvF6"
      }
    },
    {
      "cell_type": "markdown",
      "source": [
        "Q7. For the two given sets A = (2,3,4,5,6,7) & B = (0,2,6,8,10). Find:\n",
        "(i) A intersection B\n",
        "(ii) A ⋃ B"
      ],
      "metadata": {
        "id": "_Zu4-kEoB3FK"
      }
    },
    {
      "cell_type": "markdown",
      "source": [
        "Ans:\n",
        "(i)A intersection B={2,6}\n",
        "(ii)A⋃B={0,2,3,4,5,6,7,8,10}"
      ],
      "metadata": {
        "id": "jo869-DNCJ7P"
      }
    },
    {
      "cell_type": "markdown",
      "source": [
        "Q8. What do you understand about skewness in data?"
      ],
      "metadata": {
        "id": "d9G4O_bcEZAi"
      }
    },
    {
      "cell_type": "markdown",
      "source": [
        "Ans: Skewness is a statistical measure that describes the asymmetry of a probability distribution. In other words, it quantifies the extent and direction of skew (departure from horizontal symmetry) in a dataset. Skewness is an important concept in descriptive statistics and data analysis, as it provides insights into the shape of the distribution of data"
      ],
      "metadata": {
        "id": "PDOfd8pAEY-R"
      }
    },
    {
      "cell_type": "markdown",
      "source": [
        "Q9. If a data is right skewed then what will be the position of median with respect to mean?"
      ],
      "metadata": {
        "id": "LlALbHqCFIr-"
      }
    },
    {
      "cell_type": "markdown",
      "source": [
        "Ans:\n",
        "In a right-skewed distribution, also known as positively skewed distribution, the tail on the right side is longer or fatter than the left side. This implies that there are some extreme values (outliers) on the right side that are pulling the mean in that direction. In such a distribution:\n",
        "Position of Mean: The mean is typically greater than the median.\n",
        "Position of Median: The median is generally closer to the left tail and is less than the mean."
      ],
      "metadata": {
        "id": "3u-2vpcAFK6G"
      }
    },
    {
      "cell_type": "markdown",
      "source": [
        "Q10. Explain the difference between covariance and correlation. How are these measures used in\n",
        "statistical analysis?"
      ],
      "metadata": {
        "id": "Y4seuGtEGRa3"
      }
    },
    {
      "cell_type": "markdown",
      "source": [
        " Ans: Covariance:\n",
        " Covariance measures the degree to which two variables change together. If the covariance is positive, it indicates that as one variable increases, the other variable tends to increase as well. If the covariance is negative, it indicates that as one variable increases, the other variable tends to decrease.\n",
        " Correlation:\n",
        " Correlation is a standardized measure of the strength and direction of the linear relationship between two variables. It ranges from -1 to 1, where -1 indicates a perfect negative linear relationship, 1 indicates a perfect positive linear relationship, and 0 indicates no linear relationship.\n",
        " Differences:\n",
        " Scale: Covariance is not standardized, and its scale depends on the units of the variables being measured. Correlation, on the other hand, is standardized and always lies between -1 and 1.\n",
        " Interpretation: Correlation is more interpretable than covariance because it provides a standardized measure that is not influenced by the scale of the variables.\n",
        " Covariance: Covariance is used to understand how two variables change together. However, because its scale is dependent on the units of the variables, it can be difficult to compare covariances between different pairs of variables.\n",
        " Correlation: Correlation is widely used because of its standardized scale, making it easier to compare relationships between different pairs of variables.\n"
      ],
      "metadata": {
        "id": "gp0XBWlwGRR3"
      }
    },
    {
      "cell_type": "markdown",
      "source": [
        "Q11. What is the formula for calculating the sample mean? Provide an example calculation for a\n",
        "dataset."
      ],
      "metadata": {
        "id": "eZsr16VbHbDf"
      }
    },
    {
      "cell_type": "markdown",
      "source": [
        "Ans: sample mean = sum of terms/number of terms\n",
        "dataset = [22,23,21,25,24,22,26]\n",
        "sample mean = (22+23+21+25+24+22+26)/7\n",
        "sample mean = 23.28571428571429\n",
        ""
      ],
      "metadata": {
        "id": "nrNx4DqzIEfm"
      }
    },
    {
      "cell_type": "markdown",
      "source": [
        "Q12. For a normal distribution data what is the relationship between its measure of central tendency?"
      ],
      "metadata": {
        "id": "6vv_NV4yK2EN"
      }
    },
    {
      "cell_type": "markdown",
      "source": [
        "Ans: For a normal distribution, which is a symmetric bell-shaped distribution, the measures of central tendency—mean, median, and mode—are all the same. This is a unique characteristic of a perfectly normal distribution."
      ],
      "metadata": {
        "id": "ZzDAirFjK3Hz"
      }
    },
    {
      "cell_type": "markdown",
      "source": [
        "Q13. How is covariance different from correlation?"
      ],
      "metadata": {
        "id": "F9zYiSrKLINl"
      }
    },
    {
      "cell_type": "markdown",
      "source": [
        "Ans: Covariance measures the direction of the relationship and is influenced by the scale of the variables.\n",
        "Correlation provides a standardized measure, making it easier to compare and interpret relationships across different pairs of variable"
      ],
      "metadata": {
        "id": "ohWGvFjbLJPy"
      }
    },
    {
      "cell_type": "markdown",
      "source": [
        "Q14. How do outliers affect measures of central tendency and dispersion? Provide an example."
      ],
      "metadata": {
        "id": "LfSi6AUuL_KN"
      }
    },
    {
      "cell_type": "markdown",
      "source": [
        "Ans: Impact on Measures of Central Tendency:\n",
        "Mean: Outliers can significantly influence the mean by pulling it towards extreme values. The mean is sensitive to outliers because it considers the magnitude of each data point.\n",
        "Median: The median is less affected by outliers since it only depends on the order of values. A few extreme values don't impact the median as much.\n",
        "Impact on Measures of Dispersion:\n",
        "Range: Outliers can substantially affect the range, especially if they are far from the bulk of the data. The range is the difference between the maximum and minimum values.\n",
        "Standard Deviation/Variance: Outliers increase the variability, leading to higher standard deviation and variance. They contribute to the squared differences from the mean in the calculation."
      ],
      "metadata": {
        "id": "dlmIkwAzMAHm"
      }
    },
    {
      "cell_type": "markdown",
      "source": [
        "Consider the dataset:"
      ],
      "metadata": {
        "id": "1vD7k_meNBIa"
      }
    },
    {
      "cell_type": "code",
      "source": [
        "without_outlier= [10,12,14,15,16,17,18,20]\n",
        "with_outlier= [10,12,14,15,16,17,18,90]"
      ],
      "metadata": {
        "id": "Kd2vJ3jpDHh0"
      },
      "execution_count": 60,
      "outputs": []
    },
    {
      "cell_type": "markdown",
      "source": [
        "central tendency"
      ],
      "metadata": {
        "id": "trhql0luPjDz"
      }
    },
    {
      "cell_type": "code",
      "source": [
        "print(\"mean without outlier\",np.mean(without_outlier))\n",
        "print(\"mean with outlier\",np.mean(with_outlier))\n",
        "print(\"median without outlier\",np.median(without_outlier))\n",
        "print(\"median with outlier\",np.median(with_outlier))"
      ],
      "metadata": {
        "colab": {
          "base_uri": "https://localhost:8080/"
        },
        "id": "UbvsA4MeNLGf",
        "outputId": "b8b04aa2-de64-44a4-e0e1-83432bc72184"
      },
      "execution_count": 69,
      "outputs": [
        {
          "output_type": "stream",
          "name": "stdout",
          "text": [
            "mean without outlier 15.25\n",
            "mean with outlier 24.0\n",
            "median without outlier 15.5\n",
            "median with outlier 15.5\n"
          ]
        }
      ]
    },
    {
      "cell_type": "markdown",
      "source": [
        "dispersion"
      ],
      "metadata": {
        "id": "OMjTiLJMPmPP"
      }
    },
    {
      "cell_type": "code",
      "source": [
        "print(\"range without outlier\",stats_range(without_outlier))\n",
        "print(\"range with outlier\",stats_range(with_outlier))\n",
        "print(\"variance without outlier\",np.var(without_outlier))\n",
        "print(\"variance with outlier\",np.var(with_outlier))\n",
        "print(\"standard deviation without outlier\",np.std(without_outlier))\n",
        "print(\"standard deviation with outlier\",np.std(with_outlier))"
      ],
      "metadata": {
        "colab": {
          "base_uri": "https://localhost:8080/"
        },
        "id": "JHihSAzvN77b",
        "outputId": "727566c0-cfd5-444e-9198-d5c0cce0a6e8"
      },
      "execution_count": 72,
      "outputs": [
        {
          "output_type": "stream",
          "name": "stdout",
          "text": [
            "range without outlier 10\n",
            "range with outlier 80\n",
            "variance without outlier 9.1875\n",
            "variance with outlier 628.25\n",
            "standard deviation without outlier 3.031088913245535\n",
            "standard deviation with outlier 25.064915718988566\n"
          ]
        }
      ]
    },
    {
      "cell_type": "code",
      "source": [],
      "metadata": {
        "id": "Fi0JihrTN_2y"
      },
      "execution_count": null,
      "outputs": []
    }
  ]
}