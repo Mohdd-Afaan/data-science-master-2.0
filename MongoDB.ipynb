{
  "nbformat": 4,
  "nbformat_minor": 0,
  "metadata": {
    "colab": {
      "provenance": [],
      "authorship_tag": "ABX9TyP0YtjPrl/RI5PXTj3WOsmI",
      "include_colab_link": true
    },
    "kernelspec": {
      "name": "python3",
      "display_name": "Python 3"
    },
    "language_info": {
      "name": "python"
    }
  },
  "cells": [
    {
      "cell_type": "markdown",
      "metadata": {
        "id": "view-in-github",
        "colab_type": "text"
      },
      "source": [
        "<a href=\"https://colab.research.google.com/github/Mohdd-Afaan/data-science-master-2.0/blob/main/MongoDB.ipynb\" target=\"_parent\"><img src=\"https://colab.research.google.com/assets/colab-badge.svg\" alt=\"Open In Colab\"/></a>"
      ]
    },
    {
      "cell_type": "markdown",
      "source": [
        "Q1. What is MongoDB? Explain non-relational databases in short. In which scenarios it is preferred to use\n",
        "MongoDB over SQL databases?"
      ],
      "metadata": {
        "id": "Yb1uH91JK-Jc"
      }
    },
    {
      "cell_type": "markdown",
      "source": [
        "Ans: MongoDB is an opensource NoSQL(non-relational) database managment system. It stores data in felixible,python's dictonary data structure like documents called BSON.MongoDB is designed to handle large unstructured or semi-structured data.\n",
        "Non-relational database, or NoSQL databases are a types of database mangment system that driverges from traditional registered database mode of unlike relational databases that use a structures schemas and tables with a predefined relationship nosql database allows us for more flexible data models they are designed to handle diverse data types as well as suited for applications in evolving or unpredictable data.\n",
        "Scenarios for using Mongo DB over SQLdatabases\n",
        "Flexible schema: MangoDB's flexible schema allows for easy adaptation to changing requirements when the structure of data is not fixed and can evolve from time to time\n",
        "Complex Nested data: If our data is complex i.e(It has a number of foreign keys as in the case of relational database). In that case who can also use Mongodb as it allows us to create nested data.\n",
        "Big data and Analytics: Mongodb's aggregation framework allows for powerful data processing and analysis making it suitable for applications with complex analytic requirements."
      ],
      "metadata": {
        "id": "Y94ShwRILB9K"
      }
    },
    {
      "cell_type": "markdown",
      "source": [
        "Q2. State and Explain the features of MongoDB."
      ],
      "metadata": {
        "id": "bOsnDeRZQPvk"
      }
    },
    {
      "cell_type": "markdown",
      "source": [
        "Ans: Features of Mongodb:\n",
        "Document oriented storage: Mongodb stores data in flexible bson documents allowing dynamic and schema of this data model. E document have a different structure and few disks can vary across documents in the same collection.\n",
        "Dynamic schema: mongo db does not enforce a rigid schema like traditional databases this felxibility allows for easy evolution of data models without requiring a predefined structure.\n",
        "Aggregation framework: Mongo db provides a power of aggregation framework for data processing analysis it allows developers to build a complex pipeline transforms from aggregate data within the database.\n",
        "Query language: Mongodb's query language is expressive and easy to use it supports wide range of operations including filtering sorting and projecting data as more advanced features like text search.\n",
        "Replication: Mongodb supports data replication for high availability and fault tolerance it allows for the creation of replica sets with multiple copies of data."
      ],
      "metadata": {
        "id": "iWmRMiHyQREF"
      }
    },
    {
      "cell_type": "markdown",
      "source": [
        "Q3. Write a code to connect MongoDB to Python. Also, create a database and a collection in MongoDB."
      ],
      "metadata": {
        "id": "2BOpQ8A7eNWl"
      }
    },
    {
      "cell_type": "code",
      "execution_count": null,
      "metadata": {
        "id": "NafvE-99KQuM"
      },
      "outputs": [],
      "source": [
        "import pymongo\n",
        "my_client = pymongo.MongoClient(\"mongodb://localhost:27017\")\n",
        "my_db = my_client[\"testdb\"]\n",
        "my_collection = my_db[\"books\"]"
      ]
    },
    {
      "cell_type": "markdown",
      "source": [
        "Q4. Using the database and the collection created in question number 3, write a code to insert one record,\n",
        "and insert many records. Use the find() and find_one() methods to print the inserted record."
      ],
      "metadata": {
        "id": "dUMv19FheyuQ"
      }
    },
    {
      "cell_type": "code",
      "source": [
        "first_insert = {'title': 'The Lord of the Rings', 'author': 'J.R.R. Tolkien', 'genre': 'fantasy', 'language': 'english', 'isbn': '978-0-395-00497-5', 'publicationDate': '1954-07-29', 'numberOfPages': 1296, 'price': 29.99, 'tags': ['action', 'magic']}"
      ],
      "metadata": {
        "id": "2Al_YQgAecmV"
      },
      "execution_count": null,
      "outputs": []
    },
    {
      "cell_type": "code",
      "source": [
        "x = my_collection.insert_one(first_insert)"
      ],
      "metadata": {
        "id": "DjLKGk9uejGi"
      },
      "execution_count": null,
      "outputs": []
    },
    {
      "cell_type": "code",
      "source": [
        "second_insert = {'title': \"Harry Potter and the Sorcerer's Stone\", 'author': 'J.K. Rowling', 'genre': 'fantasy', 'language': 'english', 'isbn': '978-0-7475-3274-3', 'publicationDate': '1997-06-26', 'numberOfPages': 309, 'price': 19.99, 'tags': ['action', 'magic', 'fantasy']},{'title': 'The Book Thief', 'author': 'Markus Zusak', 'genre': 'historical fiction', 'language': 'english', 'isbn': '978-0-375-72893-3', 'publicationDate': '2005-06-14', 'numberOfPages': 576, 'price': 16.99},{'title': 'To Kill a Mockingbird', 'author': 'Harper Lee', 'genre': 'southern gothic', 'language': 'english', 'isbn': '978-0-446-30941-4', 'publicationDate': '1960-07-11', 'numberOfPages': 324, 'price': 14.99}"
      ],
      "metadata": {
        "id": "WIlxnCTUekbU"
      },
      "execution_count": null,
      "outputs": []
    },
    {
      "cell_type": "code",
      "source": [
        "y = my_collection.insert_many(second_insert)"
      ],
      "metadata": {
        "id": "j8BzgjVseo8y"
      },
      "execution_count": null,
      "outputs": []
    },
    {
      "cell_type": "code",
      "source": [
        "[i for i in my_collection.find()]"
      ],
      "metadata": {
        "id": "JWcL0Usze4GD"
      },
      "execution_count": null,
      "outputs": []
    },
    {
      "cell_type": "code",
      "source": [
        "i = my_collection.find_one({'author': 'J.R.R. Tolkien'})\n",
        "print(i)"
      ],
      "metadata": {
        "id": "RuILMdImfSKB"
      },
      "execution_count": null,
      "outputs": []
    },
    {
      "cell_type": "markdown",
      "source": [
        "Q5. Explain how you can use the find() method to query the MongoDB database. Write a simple code to\n",
        "demonstrate this."
      ],
      "metadata": {
        "id": "iza-elcmfW4i"
      }
    },
    {
      "cell_type": "markdown",
      "source": [
        "Ans: In Mongodb the find() Method is user to retrieve a collection of documents This method returns accurs which can be iterated to access the documents The find() method can be used with a condition or without a condition in case the condition is used it will return on documents that match the condition and if the condition is not used it will return all the documents in the collection."
      ],
      "metadata": {
        "id": "rnS6gQoRgWX-"
      }
    },
    {
      "cell_type": "code",
      "source": [
        "[i for i in my_collection.find()]"
      ],
      "metadata": {
        "id": "rULtFV5JgV8n"
      },
      "execution_count": null,
      "outputs": []
    },
    {
      "cell_type": "code",
      "source": [
        "[i for i in my_collection.find({'author': 'J.R.R. Tolkien'})]"
      ],
      "metadata": {
        "id": "VZ1gByjOfc50"
      },
      "execution_count": null,
      "outputs": []
    },
    {
      "cell_type": "markdown",
      "source": [
        "Q6. Explain the sort() method. Give an example to demonstrate sorting in MongoDB."
      ],
      "metadata": {
        "id": "B8E9MDXJknc6"
      }
    },
    {
      "cell_type": "markdown",
      "source": [
        "Ans: In Mongodb the sort() method is used to sort the desert or the currene ascending or descending order based on 1 or more feuds it takes 1 parameter which documents specifying the field by which to sort and sort order ascending or descending."
      ],
      "metadata": {
        "id": "817hgR-GktYN"
      }
    },
    {
      "cell_type": "code",
      "source": [
        "[i for i in my_collection.find().sort('title', direction= 1)]"
      ],
      "metadata": {
        "id": "ipSu-tOzjAnR"
      },
      "execution_count": null,
      "outputs": []
    },
    {
      "cell_type": "markdown",
      "source": [
        "Q7. Explain why delete_one(), delete_many(), and drop() is used."
      ],
      "metadata": {
        "id": "TSd3H8jzl6Bc"
      }
    },
    {
      "cell_type": "markdown",
      "source": [
        "Ans:  delete_one() & delete_many(): These methods are used when you want to remove specifying document from a collection based on certain criteria. when using these methods it is essential to carefully specify the filter to ensure that you are eating the intended document without a filter or a broad filter you might unintentionally delete more documents than intended.\n",
        "drop(): This method is used when you want to remove an entire collection it permanently removes all the documents and indexes associated with the collection this operation is irreversible and permanently all the data in the collection"
      ],
      "metadata": {
        "id": "VVMuLIo-l7uJ"
      }
    },
    {
      "cell_type": "markdown",
      "source": [
        "here is the data exported from mongocompass"
      ],
      "metadata": {
        "id": "sdvc5Wy2pGsS"
      }
    },
    {
      "cell_type": "code",
      "source": [
        "file_path = r\"C:\\Users\\Mohdd\\OneDrive\\Desktop\\testdb.books.json\"\n"
      ],
      "metadata": {
        "id": "VGUDG_HioiCg"
      },
      "execution_count": 7,
      "outputs": []
    },
    {
      "cell_type": "code",
      "source": [
        "import os\n",
        "print(\"Current Working Directory:\", os.getcwd())\n"
      ],
      "metadata": {
        "colab": {
          "base_uri": "https://localhost:8080/"
        },
        "id": "xvNQDVsOojpN",
        "outputId": "08e6de21-fc9b-4a8d-e70a-fe30efff4eec"
      },
      "execution_count": 8,
      "outputs": [
        {
          "output_type": "stream",
          "name": "stdout",
          "text": [
            "Current Working Directory: /content\n"
          ]
        }
      ]
    },
    {
      "cell_type": "code",
      "source": [
        "from google.colab import files\n",
        "uploaded = files.upload()\n",
        "file_name = next(iter(uploaded))\n",
        "json_data = json.loads(uploaded[file_name].decode('utf-8'))\n"
      ],
      "metadata": {
        "colab": {
          "base_uri": "https://localhost:8080/",
          "height": 73
        },
        "id": "u6tgwmciodFP",
        "outputId": "007aef7e-8ce4-4413-cfb5-b10712998c54"
      },
      "execution_count": 9,
      "outputs": [
        {
          "output_type": "display_data",
          "data": {
            "text/plain": [
              "<IPython.core.display.HTML object>"
            ],
            "text/html": [
              "\n",
              "     <input type=\"file\" id=\"files-e25e1238-aab0-479f-941d-b499b96d642d\" name=\"files[]\" multiple disabled\n",
              "        style=\"border:none\" />\n",
              "     <output id=\"result-e25e1238-aab0-479f-941d-b499b96d642d\">\n",
              "      Upload widget is only available when the cell has been executed in the\n",
              "      current browser session. Please rerun this cell to enable.\n",
              "      </output>\n",
              "      <script>// Copyright 2017 Google LLC\n",
              "//\n",
              "// Licensed under the Apache License, Version 2.0 (the \"License\");\n",
              "// you may not use this file except in compliance with the License.\n",
              "// You may obtain a copy of the License at\n",
              "//\n",
              "//      http://www.apache.org/licenses/LICENSE-2.0\n",
              "//\n",
              "// Unless required by applicable law or agreed to in writing, software\n",
              "// distributed under the License is distributed on an \"AS IS\" BASIS,\n",
              "// WITHOUT WARRANTIES OR CONDITIONS OF ANY KIND, either express or implied.\n",
              "// See the License for the specific language governing permissions and\n",
              "// limitations under the License.\n",
              "\n",
              "/**\n",
              " * @fileoverview Helpers for google.colab Python module.\n",
              " */\n",
              "(function(scope) {\n",
              "function span(text, styleAttributes = {}) {\n",
              "  const element = document.createElement('span');\n",
              "  element.textContent = text;\n",
              "  for (const key of Object.keys(styleAttributes)) {\n",
              "    element.style[key] = styleAttributes[key];\n",
              "  }\n",
              "  return element;\n",
              "}\n",
              "\n",
              "// Max number of bytes which will be uploaded at a time.\n",
              "const MAX_PAYLOAD_SIZE = 100 * 1024;\n",
              "\n",
              "function _uploadFiles(inputId, outputId) {\n",
              "  const steps = uploadFilesStep(inputId, outputId);\n",
              "  const outputElement = document.getElementById(outputId);\n",
              "  // Cache steps on the outputElement to make it available for the next call\n",
              "  // to uploadFilesContinue from Python.\n",
              "  outputElement.steps = steps;\n",
              "\n",
              "  return _uploadFilesContinue(outputId);\n",
              "}\n",
              "\n",
              "// This is roughly an async generator (not supported in the browser yet),\n",
              "// where there are multiple asynchronous steps and the Python side is going\n",
              "// to poll for completion of each step.\n",
              "// This uses a Promise to block the python side on completion of each step,\n",
              "// then passes the result of the previous step as the input to the next step.\n",
              "function _uploadFilesContinue(outputId) {\n",
              "  const outputElement = document.getElementById(outputId);\n",
              "  const steps = outputElement.steps;\n",
              "\n",
              "  const next = steps.next(outputElement.lastPromiseValue);\n",
              "  return Promise.resolve(next.value.promise).then((value) => {\n",
              "    // Cache the last promise value to make it available to the next\n",
              "    // step of the generator.\n",
              "    outputElement.lastPromiseValue = value;\n",
              "    return next.value.response;\n",
              "  });\n",
              "}\n",
              "\n",
              "/**\n",
              " * Generator function which is called between each async step of the upload\n",
              " * process.\n",
              " * @param {string} inputId Element ID of the input file picker element.\n",
              " * @param {string} outputId Element ID of the output display.\n",
              " * @return {!Iterable<!Object>} Iterable of next steps.\n",
              " */\n",
              "function* uploadFilesStep(inputId, outputId) {\n",
              "  const inputElement = document.getElementById(inputId);\n",
              "  inputElement.disabled = false;\n",
              "\n",
              "  const outputElement = document.getElementById(outputId);\n",
              "  outputElement.innerHTML = '';\n",
              "\n",
              "  const pickedPromise = new Promise((resolve) => {\n",
              "    inputElement.addEventListener('change', (e) => {\n",
              "      resolve(e.target.files);\n",
              "    });\n",
              "  });\n",
              "\n",
              "  const cancel = document.createElement('button');\n",
              "  inputElement.parentElement.appendChild(cancel);\n",
              "  cancel.textContent = 'Cancel upload';\n",
              "  const cancelPromise = new Promise((resolve) => {\n",
              "    cancel.onclick = () => {\n",
              "      resolve(null);\n",
              "    };\n",
              "  });\n",
              "\n",
              "  // Wait for the user to pick the files.\n",
              "  const files = yield {\n",
              "    promise: Promise.race([pickedPromise, cancelPromise]),\n",
              "    response: {\n",
              "      action: 'starting',\n",
              "    }\n",
              "  };\n",
              "\n",
              "  cancel.remove();\n",
              "\n",
              "  // Disable the input element since further picks are not allowed.\n",
              "  inputElement.disabled = true;\n",
              "\n",
              "  if (!files) {\n",
              "    return {\n",
              "      response: {\n",
              "        action: 'complete',\n",
              "      }\n",
              "    };\n",
              "  }\n",
              "\n",
              "  for (const file of files) {\n",
              "    const li = document.createElement('li');\n",
              "    li.append(span(file.name, {fontWeight: 'bold'}));\n",
              "    li.append(span(\n",
              "        `(${file.type || 'n/a'}) - ${file.size} bytes, ` +\n",
              "        `last modified: ${\n",
              "            file.lastModifiedDate ? file.lastModifiedDate.toLocaleDateString() :\n",
              "                                    'n/a'} - `));\n",
              "    const percent = span('0% done');\n",
              "    li.appendChild(percent);\n",
              "\n",
              "    outputElement.appendChild(li);\n",
              "\n",
              "    const fileDataPromise = new Promise((resolve) => {\n",
              "      const reader = new FileReader();\n",
              "      reader.onload = (e) => {\n",
              "        resolve(e.target.result);\n",
              "      };\n",
              "      reader.readAsArrayBuffer(file);\n",
              "    });\n",
              "    // Wait for the data to be ready.\n",
              "    let fileData = yield {\n",
              "      promise: fileDataPromise,\n",
              "      response: {\n",
              "        action: 'continue',\n",
              "      }\n",
              "    };\n",
              "\n",
              "    // Use a chunked sending to avoid message size limits. See b/62115660.\n",
              "    let position = 0;\n",
              "    do {\n",
              "      const length = Math.min(fileData.byteLength - position, MAX_PAYLOAD_SIZE);\n",
              "      const chunk = new Uint8Array(fileData, position, length);\n",
              "      position += length;\n",
              "\n",
              "      const base64 = btoa(String.fromCharCode.apply(null, chunk));\n",
              "      yield {\n",
              "        response: {\n",
              "          action: 'append',\n",
              "          file: file.name,\n",
              "          data: base64,\n",
              "        },\n",
              "      };\n",
              "\n",
              "      let percentDone = fileData.byteLength === 0 ?\n",
              "          100 :\n",
              "          Math.round((position / fileData.byteLength) * 100);\n",
              "      percent.textContent = `${percentDone}% done`;\n",
              "\n",
              "    } while (position < fileData.byteLength);\n",
              "  }\n",
              "\n",
              "  // All done.\n",
              "  yield {\n",
              "    response: {\n",
              "      action: 'complete',\n",
              "    }\n",
              "  };\n",
              "}\n",
              "\n",
              "scope.google = scope.google || {};\n",
              "scope.google.colab = scope.google.colab || {};\n",
              "scope.google.colab._files = {\n",
              "  _uploadFiles,\n",
              "  _uploadFilesContinue,\n",
              "};\n",
              "})(self);\n",
              "</script> "
            ]
          },
          "metadata": {}
        },
        {
          "output_type": "stream",
          "name": "stdout",
          "text": [
            "Saving testdb.books.json to testdb.books.json\n"
          ]
        }
      ]
    },
    {
      "cell_type": "code",
      "source": [
        "print(json_data)\n"
      ],
      "metadata": {
        "colab": {
          "base_uri": "https://localhost:8080/"
        },
        "id": "vD3uvAw4o1Tn",
        "outputId": "0f5bc4a4-0ff1-4441-d142-c02ce05943de"
      },
      "execution_count": 10,
      "outputs": [
        {
          "output_type": "stream",
          "name": "stdout",
          "text": [
            "[{'_id': {'$oid': '6567427f30ffadb01eaf0671'}, 'title': 'The Lord of the Rings', 'author': 'J.R.R. Tolkien', 'genre': 'fantasy', 'language': 'english', 'isbn': '978-0-395-00497-5', 'publicationDate': '1954-07-29', 'numberOfPages': 1296, 'price': 29.99, 'tags': ['action', 'magic']}, {'_id': {'$oid': '6567433330ffadb01eaf0672'}, 'title': \"Harry Potter and the Sorcerer's Stone\", 'author': 'J.K. Rowling', 'genre': 'fantasy', 'language': 'english', 'isbn': '978-0-7475-3274-3', 'publicationDate': '1997-06-26', 'numberOfPages': 309, 'price': 19.99, 'tags': ['action', 'magic', 'fantasy']}, {'_id': {'$oid': '6567433330ffadb01eaf0673'}, 'title': 'The Book Thief', 'author': 'Markus Zusak', 'genre': 'historical fiction', 'language': 'english', 'isbn': '978-0-375-72893-3', 'publicationDate': '2005-06-14', 'numberOfPages': 576, 'price': 16.99}, {'_id': {'$oid': '6567433330ffadb01eaf0674'}, 'title': 'To Kill a Mockingbird', 'author': 'Harper Lee', 'genre': 'southern gothic', 'language': 'english', 'isbn': '978-0-446-30941-4', 'publicationDate': '1960-07-11', 'numberOfPages': 324, 'price': 14.99}]\n"
          ]
        }
      ]
    },
    {
      "cell_type": "code",
      "source": [],
      "metadata": {
        "id": "2v3tCbxto17u"
      },
      "execution_count": null,
      "outputs": []
    }
  ]
}