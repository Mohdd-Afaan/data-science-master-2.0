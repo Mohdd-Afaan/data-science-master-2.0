{
  "nbformat": 4,
  "nbformat_minor": 0,
  "metadata": {
    "colab": {
      "provenance": [],
      "authorship_tag": "ABX9TyMnZsOvz9qf18zCd62Mgczx",
      "include_colab_link": true
    },
    "kernelspec": {
      "name": "python3",
      "display_name": "Python 3"
    },
    "language_info": {
      "name": "python"
    },
    "accelerator": "TPU"
  },
  "cells": [
    {
      "cell_type": "markdown",
      "metadata": {
        "id": "view-in-github",
        "colab_type": "text"
      },
      "source": [
        "<a href=\"https://colab.research.google.com/github/Mohdd-Afaan/data-science-master-2.0/blob/main/Assessment_1.ipynb\" target=\"_parent\"><img src=\"https://colab.research.google.com/assets/colab-badge.svg\" alt=\"Open In Colab\"/></a>"
      ]
    },
    {
      "cell_type": "markdown",
      "source": [
        "Q1. Create one variable containing following type of data:"
      ],
      "metadata": {
        "id": "bqs8nPyzhPl1"
      }
    },
    {
      "cell_type": "code",
      "execution_count": null,
      "metadata": {
        "id": "ChverDanffQ3"
      },
      "outputs": [],
      "source": [
        "a = \"rouf\""
      ]
    },
    {
      "cell_type": "code",
      "source": [
        "b = [1,2.3,\"sand\"]"
      ],
      "metadata": {
        "id": "DwlOplO_f3Og"
      },
      "execution_count": null,
      "outputs": []
    },
    {
      "cell_type": "code",
      "source": [
        "c = 3.3"
      ],
      "metadata": {
        "id": "cULKdoC9gOmC"
      },
      "execution_count": null,
      "outputs": []
    },
    {
      "cell_type": "code",
      "source": [
        "d = (3,4.9,\"loaf\",[\"west\",6,7.8,5+4j])"
      ],
      "metadata": {
        "id": "9bCiFBsFgVBi"
      },
      "execution_count": null,
      "outputs": []
    },
    {
      "cell_type": "markdown",
      "source": [
        "Q2. Given are some following variables containing data:"
      ],
      "metadata": {
        "id": "xxJ5vV-OhWh_"
      }
    },
    {
      "cell_type": "code",
      "source": [
        "var1 = ' ' #str"
      ],
      "metadata": {
        "id": "JNlX_fXmhSE3"
      },
      "execution_count": null,
      "outputs": []
    },
    {
      "cell_type": "code",
      "source": [
        "var2 = '[ DS , ML , Python]' #str"
      ],
      "metadata": {
        "id": "xkTZJwvIh2xy"
      },
      "execution_count": null,
      "outputs": []
    },
    {
      "cell_type": "code",
      "source": [
        "var3 = [ 'DS' , 'ML' , 'Python' ] #list"
      ],
      "metadata": {
        "id": "JN-beBn7kiS0"
      },
      "execution_count": null,
      "outputs": []
    },
    {
      "cell_type": "code",
      "source": [
        "var4 = 1. #float"
      ],
      "metadata": {
        "id": "aZ9CMLZmkrTg"
      },
      "execution_count": null,
      "outputs": []
    },
    {
      "cell_type": "markdown",
      "source": [
        "Q3. Explain the use of the following operators using an example:\n",
        "(i) /\n",
        "(ii) %\n",
        "(iii) //\n",
        "(iv) **"
      ],
      "metadata": {
        "id": "YEEP4fm-k70E"
      }
    },
    {
      "cell_type": "code",
      "source": [
        "2/3 #division"
      ],
      "metadata": {
        "colab": {
          "base_uri": "https://localhost:8080/"
        },
        "id": "BSUHDYwfk_7j",
        "outputId": "4378b956-e47e-4472-9aa4-f2d71ea0d847"
      },
      "execution_count": null,
      "outputs": [
        {
          "output_type": "execute_result",
          "data": {
            "text/plain": [
              "0.6666666666666666"
            ]
          },
          "metadata": {},
          "execution_count": 25
        }
      ]
    },
    {
      "cell_type": "code",
      "source": [
        "3%2 #modulus"
      ],
      "metadata": {
        "colab": {
          "base_uri": "https://localhost:8080/"
        },
        "id": "hl5cpzvblkhY",
        "outputId": "542feb1a-263f-4b0c-a573-59a3f0965f70"
      },
      "execution_count": null,
      "outputs": [
        {
          "output_type": "execute_result",
          "data": {
            "text/plain": [
              "1"
            ]
          },
          "metadata": {},
          "execution_count": 27
        }
      ]
    },
    {
      "cell_type": "code",
      "source": [
        "2//3 #floor division"
      ],
      "metadata": {
        "colab": {
          "base_uri": "https://localhost:8080/"
        },
        "id": "DKDswnSbmDJi",
        "outputId": "92c2da8d-e8c7-422f-9d07-2bad7147381e"
      },
      "execution_count": null,
      "outputs": [
        {
          "output_type": "execute_result",
          "data": {
            "text/plain": [
              "0"
            ]
          },
          "metadata": {},
          "execution_count": 28
        }
      ]
    },
    {
      "cell_type": "markdown",
      "source": [
        "Q4. Create a list of length 10 of your choice containing multiple types of data. Using for loop print the\n",
        "element and its data type."
      ],
      "metadata": {
        "id": "15Szv5mDocvt"
      }
    },
    {
      "cell_type": "code",
      "source": [
        "a = [1,1.2,'cat',(2,33.55,\"cart\",[3,9.9,\"king\",4+7j]),[1,3,\"trick\"],True]\n",
        "for i in a :\n",
        "  print(type(i))\n",
        "  print(i)"
      ],
      "metadata": {
        "colab": {
          "base_uri": "https://localhost:8080/"
        },
        "id": "xvHvVB1omOsV",
        "outputId": "67f1cb6b-540c-4ec3-a019-b9da24c99317"
      },
      "execution_count": null,
      "outputs": [
        {
          "output_type": "stream",
          "name": "stdout",
          "text": [
            "<class 'int'>\n",
            "1\n",
            "<class 'float'>\n",
            "1.2\n",
            "<class 'str'>\n",
            "cat\n",
            "<class 'tuple'>\n",
            "(2, 33.55, 'cart', [3, 9.9, 'king', (4+7j)])\n",
            "<class 'list'>\n",
            "[1, 3, 'trick']\n",
            "<class 'bool'>\n",
            "True\n"
          ]
        }
      ]
    },
    {
      "cell_type": "markdown",
      "source": [
        "Q5. Using a while loop, verify if the number A is purely divisible by number B and if so then how many\n",
        "times it can be divisible."
      ],
      "metadata": {
        "id": "Kkjw6fmlo6Ol"
      }
    },
    {
      "cell_type": "code",
      "source": [
        "a = 6\n",
        "b = 2\n",
        "while a % b == 0:\n",
        "    print(a/b)\n",
        "    break\n",
        "#in the above case 6 is purely dvisible by 2 as its remainder results 0 and 6 can e divided 3 times by 2"
      ],
      "metadata": {
        "colab": {
          "base_uri": "https://localhost:8080/"
        },
        "id": "CY9_5Zgcrxny",
        "outputId": "75655f81-da83-4ba7-be95-6e7c9d1b343b"
      },
      "execution_count": 82,
      "outputs": [
        {
          "output_type": "stream",
          "name": "stdout",
          "text": [
            "3.0\n"
          ]
        }
      ]
    },
    {
      "cell_type": "markdown",
      "source": [
        "Q6. Create a list containing 25 int type data. Using for loop and if-else condition print if the element is\n",
        "divisible by 3 or not."
      ],
      "metadata": {
        "id": "gFcexVEbsD29"
      }
    },
    {
      "cell_type": "code",
      "source": [
        "z = list(range(25))\n",
        "for i in z:\n",
        "  if i % 3 == 0:\n",
        "    print(f\"{i} is divisible by 3\")\n",
        "  else :\n",
        "    print(f\"{i} is not divisible by 3\")"
      ],
      "metadata": {
        "colab": {
          "base_uri": "https://localhost:8080/"
        },
        "id": "UB6kO9T3sCyd",
        "outputId": "3b55b497-4dcf-4d1f-9666-51d5c90337f5"
      },
      "execution_count": 74,
      "outputs": [
        {
          "output_type": "stream",
          "name": "stdout",
          "text": [
            "0 is divisible by 3\n",
            "1 is not divisible by 3\n",
            "2 is not divisible by 3\n",
            "3 is divisible by 3\n",
            "4 is not divisible by 3\n",
            "5 is not divisible by 3\n",
            "6 is divisible by 3\n",
            "7 is not divisible by 3\n",
            "8 is not divisible by 3\n",
            "9 is divisible by 3\n",
            "10 is not divisible by 3\n",
            "11 is not divisible by 3\n",
            "12 is divisible by 3\n",
            "13 is not divisible by 3\n",
            "14 is not divisible by 3\n",
            "15 is divisible by 3\n",
            "16 is not divisible by 3\n",
            "17 is not divisible by 3\n",
            "18 is divisible by 3\n",
            "19 is not divisible by 3\n",
            "20 is not divisible by 3\n",
            "21 is divisible by 3\n",
            "22 is not divisible by 3\n",
            "23 is not divisible by 3\n",
            "24 is divisible by 3\n"
          ]
        }
      ]
    },
    {
      "cell_type": "markdown",
      "source": [
        "Q7. What do you understand about mutable and immutable data types? Give examples for both showing\n",
        "this property.\n",
        "Ans. Mutable is a object or enity than can be mutated/changed eg: a list, a whole sting etc whereas immutable is a object or enity than cannot be mutated/changed eg: a tuple, a alphabet inside a string"
      ],
      "metadata": {
        "id": "XD3xeJ0AALKq"
      }
    },
    {
      "cell_type": "code",
      "source": [
        "f = [ 'DS' , 'ML' , 'Python' ] #mutable\n",
        "f[2] = 10\n",
        "print(f)"
      ],
      "metadata": {
        "colab": {
          "base_uri": "https://localhost:8080/"
        },
        "id": "fq4EsbjzAK5D",
        "outputId": "b6040250-1fc3-4ec7-df0c-1e3d852f2bda"
      },
      "execution_count": 69,
      "outputs": [
        {
          "output_type": "stream",
          "name": "stdout",
          "text": [
            "['DS', 'ML', 10]\n"
          ]
        }
      ]
    },
    {
      "cell_type": "code",
      "source": [
        "g = \"python\"\n",
        "g[2] = \"n\""
      ],
      "metadata": {
        "colab": {
          "base_uri": "https://localhost:8080/",
          "height": 193
        },
        "id": "KDks01hbAcsj",
        "outputId": "4ebc57c1-743c-4a9a-c976-f136c92b584e"
      },
      "execution_count": 72,
      "outputs": [
        {
          "output_type": "error",
          "ename": "TypeError",
          "evalue": "ignored",
          "traceback": [
            "\u001b[0;31m---------------------------------------------------------------------------\u001b[0m",
            "\u001b[0;31mTypeError\u001b[0m                                 Traceback (most recent call last)",
            "\u001b[0;32m<ipython-input-72-2e4007eb3127>\u001b[0m in \u001b[0;36m<cell line: 2>\u001b[0;34m()\u001b[0m\n\u001b[1;32m      1\u001b[0m \u001b[0mg\u001b[0m \u001b[0;34m=\u001b[0m \u001b[0;34m\"python\"\u001b[0m\u001b[0;34m\u001b[0m\u001b[0;34m\u001b[0m\u001b[0m\n\u001b[0;32m----> 2\u001b[0;31m \u001b[0mg\u001b[0m\u001b[0;34m[\u001b[0m\u001b[0;36m2\u001b[0m\u001b[0;34m]\u001b[0m \u001b[0;34m=\u001b[0m \u001b[0;34m\"n\"\u001b[0m\u001b[0;34m\u001b[0m\u001b[0;34m\u001b[0m\u001b[0m\n\u001b[0m",
            "\u001b[0;31mTypeError\u001b[0m: 'str' object does not support item assignment"
          ]
        }
      ]
    },
    {
      "cell_type": "code",
      "source": [],
      "metadata": {
        "id": "FXjy6WjCBgxg"
      },
      "execution_count": null,
      "outputs": []
    }
  ]
}