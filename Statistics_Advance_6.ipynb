{
  "nbformat": 4,
  "nbformat_minor": 0,
  "metadata": {
    "colab": {
      "provenance": [],
      "authorship_tag": "ABX9TyNKNO4qIktE+ylW1AcP79UY",
      "include_colab_link": true
    },
    "kernelspec": {
      "name": "python3",
      "display_name": "Python 3"
    },
    "language_info": {
      "name": "python"
    },
    "accelerator": "TPU"
  },
  "cells": [
    {
      "cell_type": "markdown",
      "metadata": {
        "id": "view-in-github",
        "colab_type": "text"
      },
      "source": [
        "<a href=\"https://colab.research.google.com/github/Mohdd-Afaan/data-science-master-2.0/blob/main/Statistics_Advance_6.ipynb\" target=\"_parent\"><img src=\"https://colab.research.google.com/assets/colab-badge.svg\" alt=\"Open In Colab\"/></a>"
      ]
    },
    {
      "cell_type": "markdown",
      "source": [
        "Q1. Explain the assumptions required to use ANOVA and provide examples of violations that could impact\n",
        "the validity of the results."
      ],
      "metadata": {
        "id": "_w-A1-5M_j2u"
      }
    },
    {
      "cell_type": "markdown",
      "source": [
        "Ans:\n",
        "Normality: The data within each group should be approximately normally distributed. However, ANOVA is robust to moderate departures from normality, especially if the group sizes are equal.\n",
        "Violation Example: If the data within a group significantly deviates from a normal distribution, it may affect the accuracy of the ANOVA results.\n",
        "Homogeneity of Variances: The variances of the different groups should be approximately equal. This is known as homogeneity of variances.\n",
        "Violation Example: If the variances of the groups are not equal, it can lead to an increased risk of Type I errors (incorrectly rejecting the null hypothesis) or Type II errors (failing to reject a false null hypothesis).\n",
        "Independence: Observations within each group should be independent of each other. This means that the values in one group should not be related to or dependent on the values in another group.\n",
        "Violation Example: If there is a lack of independence, it may lead to biased estimates of variability and significance.\n",
        "Random Sampling: The data should be collected using a random sampling method to ensure that the samples are representative of the populations from which they are drawn.\n",
        "Violation Example: If the samples are not randomly selected, there is a risk that the results may not generalize well to the larger population."
      ],
      "metadata": {
        "id": "q_KsTAq8-3Dv"
      }
    },
    {
      "cell_type": "markdown",
      "source": [
        "Q2. What are the three types of ANOVA, and in what situations would each be used?"
      ],
      "metadata": {
        "id": "TVBdg48LFD1s"
      }
    },
    {
      "cell_type": "markdown",
      "source": [
        "Ans:\n",
        "One-Way ANOVA:\n",
        "Purpose: Used when comparing the means of three or more independent (unrelated) groups to determine if there are any statistically significant differences between these groups.\n",
        "Example Scenario: Testing the effectiveness of different teaching methods by comparing the average test scores of students who were taught using Method A, Method B, and Method C.\n",
        "Two-Way ANOVA:\n",
        "Purpose: Extends the One-Way ANOVA by examining the influence of two categorical independent variables on a dependent variable.\n",
        "Example Scenario: Analyzing the effects of both gender and treatment on the average test scores of students. It helps determine if there are interactions between these two factors.\n",
        "Repeated Measures ANOVA:\n",
        "Purpose: Used when the same subjects are used for each treatment or under different conditions, meaning there is a repeated measurement taken on the same subjects.\n",
        "Example Scenario: Analyzing the impact of a drug treatment on patients' blood pressure levels measured at different time points. Repeated Measures ANOVA accounts for the correlation between measurements taken on the same subject."
      ],
      "metadata": {
        "id": "nBPED_mr_m07"
      }
    },
    {
      "cell_type": "markdown",
      "source": [
        "Q3. What is the partitioning of variance in ANOVA, and why is it important to understand this concept?"
      ],
      "metadata": {
        "id": "PBjAWgngHdtO"
      }
    },
    {
      "cell_type": "markdown",
      "source": [
        "Ans: The partitioning of variance in Analysis of Variance (ANOVA) refers to the decomposition of the total variability observed in a dataset into different components. Understanding this partitioning is crucial for interpreting the results of an ANOVA and gaining insights into the sources of variation in the data.\n",
        "Understanding the partitioning of variance is essential for the following reasons:\n",
        "Hypothesis Testing: ANOVA tests whether the differences between group means are statistically significant. By partitioning the total variance into between-group and within-group components, ANOVA helps determine if the observed differences are likely due to actual group effects rather than random chance.\n",
        "Effect Size: By examining the proportion of variability explained by between-group differences (SSB/SST), researchers can assess the practical significance or effect size of the group differences.\n",
        "Model Assessment: It allows researchers to evaluate the adequacy of the model in explaining the observed variability. A significant between-group variability suggests that the model captures meaningful group differences.\n",
        "Variable Importance: For factorial ANOVA or ANOVA with multiple factors, partitioning helps assess the importance of each factor in explaining the variability in the data."
      ],
      "metadata": {
        "id": "sW1jNbFzFGdo"
      }
    },
    {
      "cell_type": "markdown",
      "source": [
        "Q4. How would you calculate the total sum of squares (SST), explained sum of squares (SSE), and residual\n",
        "sum of squares (SSR) in a one-way ANOVA using Python?"
      ],
      "metadata": {
        "id": "Zm-Gx133T6Ei"
      }
    },
    {
      "cell_type": "code",
      "execution_count": null,
      "metadata": {
        "id": "ibCYX9wt-0jL"
      },
      "outputs": [],
      "source": [
        "import pandas as pd\n",
        "import scipy"
      ]
    },
    {
      "cell_type": "code",
      "source": [
        "data = {'Group1': [5, 7, 8, 6, 9],\n",
        "        'Group2': [10, 12, 15, 11, 14],\n",
        "        'Group3': [8, 6, 9, 11, 10]}\n",
        "\n",
        "df = pd.DataFrame(data)\n",
        "\n",
        "f_stats,p_value= scipy.stats.f_oneway(df['Group1'],df['Group2'],df['Group3'])\n",
        "\n",
        "total_sample = df.size\n",
        "total_groups = df.shape[1]\n",
        "dof_total = total_sample - 1\n",
        "dof_within = total_sample - total_groups\n",
        "dof_between = total_groups - 1\n",
        "\n",
        "grand_mean = df.stack().mean()\n",
        "sst = ((df - grand_mean)**2).sum().sum()\n",
        "sse = (df.count() * (df.mean() - grand_mean)**2).sum()\n",
        "ssr = sst - sse\n",
        "print(\"SST:\", sst)\n",
        "print(\"SSE:\", sse)\n",
        "print(\"SSR:\", ssr)"
      ],
      "metadata": {
        "colab": {
          "base_uri": "https://localhost:8080/"
        },
        "id": "29TCEs5IMyGW",
        "outputId": "9100eff0-79a2-447d-eea5-c08979cb2f16"
      },
      "execution_count": null,
      "outputs": [
        {
          "output_type": "stream",
          "name": "stdout",
          "text": [
            "SST: 117.6\n",
            "SSE: 75.60000000000001\n",
            "SSR: 41.999999999999986\n"
          ]
        }
      ]
    },
    {
      "cell_type": "markdown",
      "source": [
        "Q5. In a two-way ANOVA, how would you calculate the main effects and interaction effects using python?"
      ],
      "metadata": {
        "id": "Mg1Ru_y8T9Zd"
      }
    },
    {
      "cell_type": "code",
      "source": [
        "import pandas as pd\n",
        "import scipy\n",
        "\n",
        "data = {'FactorA': ['A1', 'A1', 'A2', 'A2', 'A3', 'A3', 'A4', 'A4'],\n",
        "        'FactorB': ['B1', 'B2', 'B1', 'B2', 'B1', 'B2', 'B1', 'B2'],\n",
        "        'DependentVariable': [10, 12, 14, 16, 8, 10, 18, 20]}\n",
        "\n",
        "df = pd.DataFrame(data)\n",
        "\n",
        "result_A = scipy.stats.f_oneway(df[df['FactorA'] == 'A1']['DependentVariable'], df[df['FactorA'] == 'A2']['DependentVariable'])\n",
        "result_B = scipy.stats.f_oneway(df[df['FactorB'] == 'B1']['DependentVariable'], df[df['FactorB'] == 'B2']['DependentVariable'])\n",
        "interaction_effect = df.groupby(['FactorA', 'FactorB'])['DependentVariable'].mean()\n",
        "\n",
        "print(\"Main Effect of Factor A:\", result_A.statistic, result_A.pvalue)\n",
        "print(\"Main Effect of Factor B:\", result_B.statistic, result_B.pvalue)\n",
        "print(\"Interaction Effect:\\n\", interaction_effect)"
      ],
      "metadata": {
        "colab": {
          "base_uri": "https://localhost:8080/"
        },
        "id": "nbXvLFVYN8q6",
        "outputId": "198d837c-36f8-4709-abe8-3fb047a49f18"
      },
      "execution_count": null,
      "outputs": [
        {
          "output_type": "stream",
          "name": "stdout",
          "text": [
            "Main Effect of Factor A: 8.0 0.10557280900008414\n",
            "Main Effect of Factor B: 0.4067796610169491 0.5471616124270274\n",
            "Interaction Effect:\n",
            " FactorA  FactorB\n",
            "A1       B1         10.0\n",
            "         B2         12.0\n",
            "A2       B1         14.0\n",
            "         B2         16.0\n",
            "A3       B1          8.0\n",
            "         B2         10.0\n",
            "A4       B1         18.0\n",
            "         B2         20.0\n",
            "Name: DependentVariable, dtype: float64\n"
          ]
        }
      ]
    },
    {
      "cell_type": "markdown",
      "source": [
        "Q6. Suppose you conducted a one-way ANOVA and obtained an F-statistic of 5.23 and a p-value of 0.02.\n",
        "What can you conclude about the differences between the groups, and how would you interpret these\n",
        "results?"
      ],
      "metadata": {
        "id": "FmCfzq5sa6ib"
      }
    },
    {
      "cell_type": "markdown",
      "source": [
        "Ans: Interpretation:\n",
        "In our case:\n",
        "F-Statistic: 5.23\n",
        "The F-statistic is a measure of the ratio of variance between groups to variance within groups. A larger F-statistic suggests that there might be significant differences between at least two group means.\n",
        "P-Value: 0.02\n",
        "The p-value is less than the typical significance level of 0.05. Therefore, you have evidence to reject the null hypothesis.\n",
        "Conclusion:\n",
        "Given the results:\n",
        "Reject the Null Hypothesis:\n",
        "The small p-value (0.02) suggests that we have enough evidence to reject the null hypothesis, indicating that there are statistically significant differences between at least two group means.\n",
        "Differences Between Groups:\n",
        "The significant result doesn't tell us which specific groups are different or how many groups are different; it only indicates that, overall, there are differences between at least two groups."
      ],
      "metadata": {
        "id": "CaK94_2RcJd9"
      }
    },
    {
      "cell_type": "markdown",
      "source": [
        "Q7. In a repeated measures ANOVA, how would you handle missing data, and what are the potential consequences of using different methods to handle missing data?"
      ],
      "metadata": {
        "id": "5zcF4X5xcoUE"
      }
    },
    {
      "cell_type": "markdown",
      "source": [
        "Ans: Handling missing data in a repeated measures ANOVA is crucial for obtaining accurate and reliable results. Repeated measures ANOVA involves analyzing data collected from the same subjects over multiple time points or conditions. Missing data can arise due to various reasons such as dropout, non-response, or technical issues. Here are common methods for handling missing data and their potential consequences:\n",
        "Methods for Handling Missing Data:\n",
        "Complete Case Analysis (Listwise Deletion):\n",
        "Method: Exclude cases with any missing data.\n",
        "Potential Consequences:\n",
        "Reduces the sample size.\n",
        "May introduce bias if missingness is related to the outcome or other variables.\n",
        "Mean Imputation:\n",
        "Method: Replace missing values with the mean of the observed values for the variable.\n",
        "Potential Consequences:\n",
        "Preserves the sample size.\n",
        "May underestimate variability and produce biased estimates if missingness is not random.\n",
        "Last Observation Carried Forward (LOCF):\n",
        "Method: Replace missing values with the last observed value for that subject.\n",
        "Potential Consequences:\n",
        "Assumes that the last observation is a good estimate of the missing value.\n",
        "Can lead to biased results if patterns of missingness are related to the variable being measured.\n",
        "Interpolation or Linear Regression Imputation:\n",
        "Method: Predict missing values based on observed values using interpolation or linear regression.\n",
        "Potential Consequences:\n",
        "Assumes a linear relationship between observed values and may introduce bias if the relationship is nonlinear.\n",
        "Multiple Imputation:\n",
        "Method: Generate multiple sets of plausible values for missing data, considering uncertainty.\n",
        "Potential Consequences:\n",
        "Provides unbiased estimates if the imputation model is correctly specified.\n",
        "Requires specialized software and may be computationally intensive."
      ],
      "metadata": {
        "id": "4kmiKfDcdpuX"
      }
    },
    {
      "cell_type": "markdown",
      "source": [
        "Q8. What are some common post-hoc tests used after ANOVA, and when would you use each one? Provide\n",
        "an example of a situation where a post-hoc test might be necessary."
      ],
      "metadata": {
        "id": "o4N8LDrqeOVY"
      }
    },
    {
      "cell_type": "markdown",
      "source": [
        "Ans: After conducting an Analysis of Variance (ANOVA) and finding a significant difference among group means, post-hoc tests are often employed to identify which specific groups differ from each other. Common post-hoc tests include Tukey's Honestly Significant Difference (HSD), Bonferroni correction, Scheffé test, and Dunnett's test. The choice of post-hoc test depends on the characteristics of the data and the assumptions made. Here's an overview of some common post-hoc tests:\n",
        "Tukey's Honestly Significant Difference (HSD):\n",
        "Use Case:\n",
        "When we have equal sample sizes and homogeneity of variances.\n",
        "Example:\n",
        "Suppose we conducted an ANOVA for testing the effect of different teaching methods on students' test scores and found a significant difference. Tukey's HSD can be used to compare each pair of teaching methods to identify where the significant differences lie.\n",
        "Bonferroni Correction:\n",
        "Use Case:\n",
        "When we want to control the familywise error rate (overall Type I error rate) by adjusting significance levels.\n",
        "Example:\n",
        "If we have conducted multiple pairwise comparisons after ANOVA, the probability of making a Type I error increases. Bonferroni correction adjusts the significance level for each individual test to maintain an overall Type I error rate.\n",
        "Dunnett's Test:\n",
        "Use Case:\n",
        "When we have a control group and we want to compare other groups to the control.\n",
        "Example:\n",
        "In a drug trial, if we have a control group receiving a placebo and several experimental groups receiving different doses of a drug, Dunnett's test can be used to compare each experimental group to the control group.\n",
        "Example Scenario:\n",
        "we conducted a study to evaluate the effectiveness of four different types of exercise programs (A, B, C, D) on weight loss.\n",
        "After running a one-way ANOVA, we found a significant difference among the means of the exercise programs.\n",
        "Post-hoc Test:\n",
        "Since there are multiple groups (exercise programs) to compare, we decide to conduct a post-hoc test to identify which specific pairs of exercise programs differ significantly in terms of weight loss.\n",
        "Choice of Post-hoc Test:\n",
        "we choose Tukey's Honestly Significant Difference (HSD) post-hoc test because our sample sizes are equal, and we assume homogeneity of variances.\n",
        "Results:\n",
        "The Tukey HSD test reveals that Exercise Programs A and B have significantly different effects on weight loss, while Programs A and C, A and D, B and C, B and D, and C and D do not show significant differences.\n",
        "In this example, Tukey's HSD helps identify specific pairs of exercise programs that have significantly different effects on weight loss, providing more detailed insights than the initial ANOVA results."
      ],
      "metadata": {
        "id": "zZuD4jUCQrqn"
      }
    },
    {
      "cell_type": "markdown",
      "source": [
        "Q9. A researcher wants to compare the mean weight loss of three diets: A, B, and C. They collect data from\n",
        "50 participants who were randomly assigned to one of the diets. Conduct a one-way ANOVA using Python\n",
        "to determine if there are any significant differences between the mean weight loss of the three diets.\n",
        "Report the F-statistic and p-value, and interpret the results."
      ],
      "metadata": {
        "id": "BBXL2DBLUdT3"
      }
    },
    {
      "cell_type": "code",
      "source": [
        "import pandas as pd\n",
        "import scipy\n",
        "\n",
        "data = {'Diet': ['A']*20 + ['B']*20 + ['C']*10,\n",
        "        'WeightLoss': [3.2, 4.1, 2.8, 3.5, 4.0, 2.9, 3.8, 4.2, 3.0, 3.7,\n",
        "                       2.5, 3.9, 4.1, 3.3, 3.6, 2.7, 3.9, 4.0, 2.8, 3.5,\n",
        "                       3.2, 3.8, 2.9, 3.6, 4.2, 3.0, 3.5, 4.1, 2.7, 3.4,\n",
        "                       4.0, 3.3, 3.8, 2.9, 3.6, 4.1, 2.8, 3.5, 3.0, 3.7,\n",
        "                       4.1, 3.3, 3.6, 2.7, 3.9, 4.2, 3.0, 3.7, 2.9, 3.8]}\n",
        "\n",
        "df = pd.DataFrame(data)\n",
        "\n",
        "result  = scipy.stats.f_oneway(df['WeightLoss'][df['Diet']== 'A'],\n",
        "                               df['WeightLoss'][df['Diet']== 'B'],\n",
        "                               df['WeightLoss'][df['Diet']== 'C']\n",
        "                               )\n",
        "p_value = result.pvalue\n",
        "if p_value < 0.05:\n",
        "    print(\"The one-way ANOVA result is statistically significant.\")\n",
        "    print(\"There is evidence of at least one diet having a different mean weight loss.\")\n",
        "else:\n",
        "    print(\"The one-way ANOVA result is not statistically significant.\")\n",
        "    print(\"There is no strong evidence of differences in mean weight loss among the diets.\")"
      ],
      "metadata": {
        "colab": {
          "base_uri": "https://localhost:8080/"
        },
        "id": "q--t7Wk-WnnZ",
        "outputId": "cb17d513-c93b-4484-830f-b794025778fb"
      },
      "execution_count": 10,
      "outputs": [
        {
          "output_type": "stream",
          "name": "stdout",
          "text": [
            "The one-way ANOVA result is not statistically significant.\n",
            "There is no strong evidence of differences in mean weight loss among the diets.\n"
          ]
        }
      ]
    },
    {
      "cell_type": "markdown",
      "source": [
        "Q10. A company wants to know if there are any significant differences in the average time it takes to\n",
        "complete a task using three different software programs: Program A, Program B, and Program C. They\n",
        "randomly assign 30 employees to one of the programs and record the time it takes each employee to\n",
        "complete the task. Conduct a two-way ANOVA using Python to determine if there are any main effects or\n",
        "interaction effects between the software programs and employee experience level (novice vs.\n",
        "experienced). Report the F-statistics and p-values, and interpret the results."
      ],
      "metadata": {
        "id": "CQ4l9mBGc58B"
      }
    },
    {
      "cell_type": "code",
      "source": [
        "import pandas as pd\n",
        "import scipy\n",
        "from statsmodels.formula.api import ols\n",
        "from statsmodels.stats.anova import anova_lm\n",
        "\n",
        "data = {\n",
        "    'Program': ['A']*10 + ['B']*10 + ['C']*10,\n",
        "    'ExperienceLevel': ['Novice']*15 + ['Experienced']*15 ,\n",
        "    'CompletionTime': [\n",
        "        15, 18, 16, 20, 17, 19, 21, 22, 18, 20, 25, 24, 22, 23, 20,\n",
        "        30, 28, 29, 32, 31, 30, 27, 29, 28, 31, 22, 25, 24, 26, 23\n",
        "    ]\n",
        "}\n",
        "df = pd.DataFrame(data)\n",
        "\n",
        "formula = 'CompletionTime ~ Program + ExperienceLevel + Program:ExperienceLevel'\n",
        "model = ols(formula, df).fit()\n",
        "anova_results = anova_lm(model)\n",
        "if any(anova_results['PR(>F)']< 0.05):\n",
        "  print(\"The two-way ANOVA result is statistically significant.\")\n",
        "  print(\"There is evidence of at least one main effect or interaction effect.\")\n",
        "else:\n",
        "    print(\"The two-way ANOVA result is not statistically significant.\")\n",
        "    print(\"There is no strong evidence of differences in completion time.\")"
      ],
      "metadata": {
        "colab": {
          "base_uri": "https://localhost:8080/"
        },
        "id": "XDaC51cLfM-9",
        "outputId": "6338cb20-14fa-4838-ee5d-b471a85331d0"
      },
      "execution_count": 26,
      "outputs": [
        {
          "output_type": "stream",
          "name": "stdout",
          "text": [
            "The two-way ANOVA result is statistically significant.\n",
            "There is evidence of at least one main effect or interaction effect.\n"
          ]
        }
      ]
    },
    {
      "cell_type": "markdown",
      "source": [
        "Q11. An educational researcher is interested in whether a new teaching method improves student test\n",
        "scores. They randomly assign 100 students to either the control group (traditional teaching method) or the\n",
        "experimental group (new teaching method) and administer a test at the end of the semester. Conduct a\n",
        "two-sample t-test using Python to determine if there are any significant differences in test scores\n",
        "between the two groups. If the results are significant, follow up with a post-hoc test to determine which\n",
        "group(s) differ significantly from each other."
      ],
      "metadata": {
        "id": "-A57TgSAoUqa"
      }
    },
    {
      "cell_type": "code",
      "source": [
        "import pandas as pd\n",
        "import scipy\n",
        "from statsmodels.stats.multicomp import pairwise_tukeyhsd\n",
        "data = {'Group': ['Control']*50 + ['Experimental']*50,\n",
        "        'TestScores': [75, 80, 85, 78, 82, 79, 83, 81, 77, 80,\n",
        "                       90, 85, 88, 92, 87, 89, 86, 91, 84, 88,\n",
        "                       78, 82, 79, 83, 81, 77, 80, 75, 80, 85,\n",
        "                       88, 92, 87, 89, 86, 91, 84, 88, 90, 85,\n",
        "                       78, 82, 79, 83, 81, 77, 80, 75, 80, 85,\n",
        "                       75, 80, 85, 78, 82, 79, 83, 81, 77, 80,\n",
        "                       90, 85, 88, 92, 87, 89, 86, 91, 84, 88,\n",
        "                       78, 82, 79, 83, 81, 77, 80, 75, 80, 85,\n",
        "                       88, 92, 87, 89, 86, 91, 84, 88, 90, 85,\n",
        "                       78, 82, 79, 83, 81, 77, 80, 75, 80, 85]}\n",
        "\n",
        "df = pd.DataFrame(data)\n",
        "control_score = df['TestScores'][df['Group']=='Control']\n",
        "experimental_score = df['TestScores'][df['Group']=='Experimental']\n",
        "\n",
        "t_stats,p_value = scipy.stats.ttest_ind(control_score,experimental_score)\n",
        "\n",
        "if p_value < 0.05:\n",
        "  posthoc =  pairwise_tukeyhsd(df['TestScores'],df['Group'])\n",
        "  print(posthoc)\n",
        "else:\n",
        "  print(\"No significant differences observed.\")"
      ],
      "metadata": {
        "colab": {
          "base_uri": "https://localhost:8080/"
        },
        "id": "xQj5rGZUWzI8",
        "outputId": "c08395cb-3e7e-47db-bdd2-3de8dbccd704"
      },
      "execution_count": 38,
      "outputs": [
        {
          "output_type": "stream",
          "name": "stdout",
          "text": [
            "No significant differences observed.\n"
          ]
        }
      ]
    },
    {
      "cell_type": "markdown",
      "source": [
        "Q12. A researcher wants to know if there are any significant differences in the average daily sales of three\n",
        "retail stores: Store A, Store B, and Store C. They randomly select 30 days and record the sales for each store\n",
        "on those days. Conduct a repeated measures ANOVA using Python to determine if there are any\n",
        "significant differences in sales between the three stores. If the results are significant, follow up with a post-\n",
        "hoc test to determine which store(s) differ significantly from each other."
      ],
      "metadata": {
        "id": "P6aA-ImtsGba"
      }
    },
    {
      "cell_type": "code",
      "source": [
        "import pandas as pd\n",
        "from statsmodels.stats.anova import AnovaRM\n",
        "from statsmodels.stats.multicomp import pairwise_tukeyhsd\n",
        "\n",
        "data = {'Day': list(range(30))*3,\n",
        "        'Store': ['Store A']*30 + ['Store B']*30 + ['Store C']*30,\n",
        "        'Sales': [50, 55, 48, 52, 54, 53, 56, 50, 58, 52,\n",
        "                  60, 55, 52, 57, 59, 56, 54, 58, 51, 53,\n",
        "                  49, 50, 55, 48, 52, 54, 53, 56, 50, 58,\n",
        "                  60, 55, 52, 57, 59, 56, 54, 58, 51, 53,\n",
        "                  49, 50, 55, 48, 52, 54, 53, 56, 50, 58,\n",
        "                  60, 55, 52, 57, 59, 56, 54, 58, 51, 53,\n",
        "                  49, 50, 55, 48, 52, 54, 53, 56, 50, 58,\n",
        "                  60, 55, 52, 57, 59, 56, 54, 58, 51, 53,\n",
        "                  49, 50, 55, 48, 52, 54, 53, 56, 50, 58]}\n",
        "\n",
        "df = pd.DataFrame(data)\n",
        "\n",
        "rmanova = AnovaRM(df,'Sales','Day',['Store'])\n",
        "result = rmanova.fit()\n",
        "\n",
        "if result.anova_table[\"Pr > F\"][\"Store\"] < 0.05:\n",
        "  posthoc = pairwise_tukeyhsd(df['Sales'], df['Store'])\n",
        "  print(posthoc)\n",
        "else:\n",
        "    print(\"No significant differences observed.\")"
      ],
      "metadata": {
        "colab": {
          "base_uri": "https://localhost:8080/"
        },
        "id": "G1SKApRRsG4W",
        "outputId": "37b712e2-5c18-4387-889a-87a063d83dc9"
      },
      "execution_count": 59,
      "outputs": [
        {
          "output_type": "stream",
          "name": "stdout",
          "text": [
            "No significant differences observed.\n"
          ]
        }
      ]
    },
    {
      "cell_type": "code",
      "source": [],
      "metadata": {
        "id": "4QCYNj10vJtF"
      },
      "execution_count": null,
      "outputs": []
    }
  ]
}