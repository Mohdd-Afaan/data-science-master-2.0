{
  "nbformat": 4,
  "nbformat_minor": 0,
  "metadata": {
    "colab": {
      "provenance": [],
      "authorship_tag": "ABX9TyMlBcteij7DUIrlI1a+VcIG",
      "include_colab_link": true
    },
    "kernelspec": {
      "name": "python3",
      "display_name": "Python 3"
    },
    "language_info": {
      "name": "python"
    },
    "accelerator": "TPU"
  },
  "cells": [
    {
      "cell_type": "markdown",
      "metadata": {
        "id": "view-in-github",
        "colab_type": "text"
      },
      "source": [
        "<a href=\"https://colab.research.google.com/github/Mohdd-Afaan/data-science-master-2.0/blob/main/OOPS_task.ipynb\" target=\"_parent\"><img src=\"https://colab.research.google.com/assets/colab-badge.svg\" alt=\"Open In Colab\"/></a>"
      ]
    },
    {
      "cell_type": "markdown",
      "source": [
        "Q1, Create a vehicle class with an init method having instance variables as name_of_vehicle, max_speed\n",
        "and average_of_vehicle."
      ],
      "metadata": {
        "id": "oaI_rLcrO7TQ"
      }
    },
    {
      "cell_type": "code",
      "execution_count": 26,
      "metadata": {
        "id": "z-q-REZLOysT"
      },
      "outputs": [],
      "source": [
        "class vehicle:\n",
        "  def __init__(self, name_of_vehicle, max_speed, average_of_vehicle):\n",
        "    self.name_of_vehicle = name_of_vehicle\n",
        "    self.max_speed = max_speed\n",
        "    self.average_of_vehicle = average_of_vehicle"
      ]
    },
    {
      "cell_type": "markdown",
      "source": [
        "Q2. Create a child class car from the vehicle class created in Que 1, which will inherit the vehicle class.\n",
        "Create a method named seating_capacity which takes capacity as an argument and returns the name of\n",
        "the vehicle and its seating capacity."
      ],
      "metadata": {
        "id": "cxTSyKpRQ176"
      }
    },
    {
      "cell_type": "code",
      "source": [
        "class car(vehicle):\n",
        "    def __init__(self, name_of_vehicle, max_speed, average_of_vehicle, seating_capacity):\n",
        "      super().__init__(name_of_vehicle, max_speed, average_of_vehicle)\n",
        "      self.seating_capacity = seating_capacity\n",
        "    def cap(self,seating_capacity):\n",
        "      return self.name_of_vehicle,self.seating_capacity"
      ],
      "metadata": {
        "id": "d-I13lIgQEgz"
      },
      "execution_count": 27,
      "outputs": []
    },
    {
      "cell_type": "code",
      "source": [
        "car_obj = car(\"Toyota LC 300\",212,12,5)"
      ],
      "metadata": {
        "id": "cPipiwnEQkqO"
      },
      "execution_count": 28,
      "outputs": []
    },
    {
      "cell_type": "code",
      "source": [
        "car_obj.cap(5)"
      ],
      "metadata": {
        "colab": {
          "base_uri": "https://localhost:8080/"
        },
        "id": "h8dyRFcBRYXt",
        "outputId": "f916172b-f37f-4f66-d32b-870fec6c76dd"
      },
      "execution_count": 29,
      "outputs": [
        {
          "output_type": "execute_result",
          "data": {
            "text/plain": [
              "('Toyota LC 300', 5)"
            ]
          },
          "metadata": {},
          "execution_count": 29
        }
      ]
    },
    {
      "cell_type": "markdown",
      "source": [
        "Q3. What is multiple inheritance? Write a python code to demonstrate multiple inheritance."
      ],
      "metadata": {
        "id": "dr26paDT8ECy"
      }
    },
    {
      "cell_type": "markdown",
      "source": [
        "Ans: It can be described as a process where a class inherits properties methods from more than one class."
      ],
      "metadata": {
        "id": "3ttnV1aZ8YX7"
      }
    },
    {
      "cell_type": "code",
      "source": [
        "class one:\n",
        "  def testclass(self):\n",
        "    print(\"this is class one\")\n",
        "class two:\n",
        "  def testclass2(self):\n",
        "    print(\"this is class two\")\n",
        "class three(one,two):\n",
        "  def testclass3(self):\n",
        "    print(\"this is class three\")"
      ],
      "metadata": {
        "id": "RAm4Od2SdS4G"
      },
      "execution_count": 30,
      "outputs": []
    },
    {
      "cell_type": "code",
      "source": [
        "obj_3 = three()"
      ],
      "metadata": {
        "id": "NBOnUfL3dR4e"
      },
      "execution_count": 31,
      "outputs": []
    },
    {
      "cell_type": "code",
      "source": [
        "obj_3.testclass(),obj_3.testclass2(),obj_3.testclass3()"
      ],
      "metadata": {
        "colab": {
          "base_uri": "https://localhost:8080/"
        },
        "id": "dZwdiTRC-fZe",
        "outputId": "0bf70c5a-ba21-4058-db30-e3a741d7f17a"
      },
      "execution_count": 32,
      "outputs": [
        {
          "output_type": "stream",
          "name": "stdout",
          "text": [
            "this is class one\n",
            "this is class two\n",
            "this is class three\n"
          ]
        },
        {
          "output_type": "execute_result",
          "data": {
            "text/plain": [
              "(None, None, None)"
            ]
          },
          "metadata": {},
          "execution_count": 32
        }
      ]
    },
    {
      "cell_type": "markdown",
      "source": [
        "Q4. What are getter and setter in python? Create a class and create a getter and a setter method in this\n",
        "class."
      ],
      "metadata": {
        "id": "P9R6C38JLH8I"
      }
    },
    {
      "cell_type": "markdown",
      "source": [
        "Ans: A getter is used to get the value of the property. In OOPS it helps in accessing the private attribute from a class. A setter is used to set the values of an attribute. In OOPS it helps in setting the value to a private attribute from a class."
      ],
      "metadata": {
        "id": "ajkHXLgjLJHo"
      }
    },
    {
      "cell_type": "code",
      "source": [
        "class course:\n",
        "  def __init__(self,course_name,course_price,course_rating):\n",
        "    self.__course_name = course_name\n",
        "    self.__course_price = course_price\n",
        "    self.__course_rating = course_rating\n",
        "  @property\n",
        "  def get_course_name(self):\n",
        "    return self.__course_name\n",
        "  @property\n",
        "  def get_course_price(self):\n",
        "    return self.__course_price\n",
        "  @property\n",
        "  def get_course_rating(self):\n",
        "    return self.__course_rating\n",
        "  @get_course_rating.setter\n",
        "  def set_rating(self,course_rating):\n",
        "    if course_rating <= 0:\n",
        "      print(\"cannot set negative rating\")\n",
        "    else:\n",
        "      self.__course_rating = course_rating"
      ],
      "metadata": {
        "id": "9oOYhAmIAlh2"
      },
      "execution_count": 33,
      "outputs": []
    },
    {
      "cell_type": "code",
      "source": [
        "obj = course(\"data\",2999,4.5)"
      ],
      "metadata": {
        "id": "L9Z59J05axHZ"
      },
      "execution_count": 34,
      "outputs": []
    },
    {
      "cell_type": "code",
      "source": [
        "obj.set_rating = -1\n"
      ],
      "metadata": {
        "colab": {
          "base_uri": "https://localhost:8080/"
        },
        "id": "OUaadjNja64q",
        "outputId": "749c7a1f-510d-43a0-c659-531c3a057d4c"
      },
      "execution_count": 35,
      "outputs": [
        {
          "output_type": "stream",
          "name": "stdout",
          "text": [
            "cannot set negative rating\n"
          ]
        }
      ]
    },
    {
      "cell_type": "code",
      "source": [
        "obj.get_course_rating"
      ],
      "metadata": {
        "colab": {
          "base_uri": "https://localhost:8080/"
        },
        "id": "F7roJZg3a_mS",
        "outputId": "0cbb2a59-4191-4faa-8416-5a531cad2f61"
      },
      "execution_count": 36,
      "outputs": [
        {
          "output_type": "execute_result",
          "data": {
            "text/plain": [
              "4.5"
            ]
          },
          "metadata": {},
          "execution_count": 36
        }
      ]
    },
    {
      "cell_type": "markdown",
      "source": [
        "Q5.What is method overriding in python? Write a python code to demonstrate method overriding"
      ],
      "metadata": {
        "id": "21VukgDAoaNN"
      }
    },
    {
      "cell_type": "markdown",
      "source": [
        "Ans: Method overiding ia an ability of OOP that allows a sub-class/child-class to re-write the methods that a sub-class/child-class has inherited from parent-class."
      ],
      "metadata": {
        "id": "kFfHUkH9odob"
      }
    },
    {
      "cell_type": "code",
      "source": [
        "#parent class\n",
        "class classone:\n",
        "  def show(self):\n",
        "    print(\"classical\")\n",
        "#child class\n",
        "class classtwo(classone):\n",
        "  def show(self):\n",
        "    print(\"rock\")"
      ],
      "metadata": {
        "id": "qwJePevBedIG"
      },
      "execution_count": 50,
      "outputs": []
    },
    {
      "cell_type": "code",
      "source": [
        "obj1 = classone()\n",
        "obj2 = classtwo()"
      ],
      "metadata": {
        "id": "JDrikAh-pyuJ"
      },
      "execution_count": 51,
      "outputs": []
    },
    {
      "cell_type": "code",
      "source": [
        "obj1.show(),obj2.show()"
      ],
      "metadata": {
        "colab": {
          "base_uri": "https://localhost:8080/"
        },
        "id": "RBMg4QB4p4C4",
        "outputId": "ae01bf0a-c961-496c-96d5-0dc6c64cec37"
      },
      "execution_count": 54,
      "outputs": [
        {
          "output_type": "stream",
          "name": "stdout",
          "text": [
            "classical\n",
            "rock\n"
          ]
        },
        {
          "output_type": "execute_result",
          "data": {
            "text/plain": [
              "(None, None)"
            ]
          },
          "metadata": {},
          "execution_count": 54
        }
      ]
    },
    {
      "cell_type": "code",
      "source": [],
      "metadata": {
        "id": "HSQ0W106p8v5"
      },
      "execution_count": null,
      "outputs": []
    }
  ]
}