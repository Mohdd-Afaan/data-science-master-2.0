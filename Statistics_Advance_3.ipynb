{
  "nbformat": 4,
  "nbformat_minor": 0,
  "metadata": {
    "colab": {
      "provenance": [],
      "authorship_tag": "ABX9TyM4iNWgHT9mkXrgdjFUkDLU",
      "include_colab_link": true
    },
    "kernelspec": {
      "name": "python3",
      "display_name": "Python 3"
    },
    "language_info": {
      "name": "python"
    },
    "accelerator": "TPU"
  },
  "cells": [
    {
      "cell_type": "markdown",
      "metadata": {
        "id": "view-in-github",
        "colab_type": "text"
      },
      "source": [
        "<a href=\"https://colab.research.google.com/github/Mohdd-Afaan/data-science-master-2.0/blob/main/Statistics_Advance_3.ipynb\" target=\"_parent\"><img src=\"https://colab.research.google.com/assets/colab-badge.svg\" alt=\"Open In Colab\"/></a>"
      ]
    },
    {
      "cell_type": "markdown",
      "source": [
        "Q1: What is Estimation Statistics? Explain point estimate and interval estimate."
      ],
      "metadata": {
        "id": "zPyYWvJuezmK"
      }
    },
    {
      "cell_type": "markdown",
      "source": [
        "Ans: Estimation in statistics involves making inferences about population parameters based on sample data. Estimation is used when it's impractical or impossible to collect data from an entire population, so we rely on samples to make predictions or estimates about the population. There are two main types of estimation: point estimation and interval estimation.\n",
        "Point Estimate:\n",
        "A point estimate is a single value that is used to approximate an unknown population parameter. It is derived from sample data and provides a \"best guess\" or most plausible value for the parameter.\n",
        "For example, if you calculate the sample mean from a set of data, the sample mean serves as a point estimate for the population mean.\n",
        "Interval Estimate:\n",
        "An interval estimate provides a range of values within which the true population parameter is likely to fall. It recognizes the uncertainty inherent in making estimates from sample data.\n",
        "Confidence intervals are a common form of interval estimation. For instance, you might construct a 95% confidence interval for the population mean, which provides a range of values that is believed to contain the true mean with 95% confidence."
      ],
      "metadata": {
        "id": "368PyFKEfJZK"
      }
    },
    {
      "cell_type": "markdown",
      "source": [
        "Q2. Write a Python function to estimate the population mean using a sample mean and standard\n",
        "deviation."
      ],
      "metadata": {
        "id": "I2wn7Du64F1D"
      }
    },
    {
      "cell_type": "code",
      "source": [
        "import scipy.stats as stats\n",
        "import math"
      ],
      "metadata": {
        "id": "uRUbCs6qMsPZ"
      },
      "execution_count": null,
      "outputs": []
    },
    {
      "cell_type": "code",
      "source": [
        "# Specify sample mean (x_bar), sample standard deviation (s), sample size (n) and confidence level\n",
        "x_bar = 62\n",
        "s = 10\n",
        "confidence_level =.95\n",
        "n = 30\n",
        "\n",
        "# Calculate alpha, degrees of freedom (df), the critical t-value, and the margin of error\n",
        "alpha = 1 - confidence_level\n",
        "df = n - 1\n",
        "critical_t_value = stats.t.ppf(1-alpha/2, df)\n",
        "standard_error  =  s/math.sqrt(n)\n",
        "margin_of_error = critical_t_value * standard_error\n",
        "\n",
        "# Calculate the lower and upper bound of the confidence interval\n",
        "lower_bound = x_bar - margin_of_error\n",
        "upper_bound = x_bar + margin_of_error\n",
        "\n",
        "\n",
        "print(f\"Critical t-value: {critical_t_value.round(3)}\")\n",
        "print(f\"Margin of Error: {margin_of_error.round(3)}\")\n",
        "print(f\"Confidence Interval: [{lower_bound.round(3)},{lower_bound.round(3)}]\")\n",
        "print(f\"The {confidence_level} confidence interval for the population mean is:\")\n",
        "print(f\"between {lower_bound.round(3)} and {upper_bound.round(3)}\")"
      ],
      "metadata": {
        "colab": {
          "base_uri": "https://localhost:8080/"
        },
        "id": "B3paSP004FcH",
        "outputId": "79151dc7-ee29-42fa-fb0a-88bf25574362"
      },
      "execution_count": null,
      "outputs": [
        {
          "output_type": "stream",
          "name": "stdout",
          "text": [
            "Critical t-value: 2.045\n",
            "Margin of Error: 3.734\n",
            "Confidence Interval: [58.266,58.266]\n",
            "The 0.95 confidence interval for the population mean is:\n",
            "between 58.266 and 65.734\n"
          ]
        }
      ]
    },
    {
      "cell_type": "markdown",
      "source": [
        "Q3: What is Hypothesis testing? Why is it used? State the importance of Hypothesis testing."
      ],
      "metadata": {
        "id": "6fnIlvqMpaPa"
      }
    },
    {
      "cell_type": "markdown",
      "source": [
        "Ans:\n",
        "Hypothesis testing is a statistical method used to make inferences about a population based on a sample of data drawn from that population. It involves formulating a hypothesis, collecting and analyzing data, and drawing conclusions about the population based on the sample.\n",
        "Hypothesis testing is used for several important reasons in various fields:\n",
        "1)Hypothesis testing allows researchers to make inferences about population parameters based on a sample of data. It helps generalize findings from the sample to the entire population.\n",
        "2)It is a fundamental component of the scientific method. Researchers formulate hypotheses, collect data, and use hypothesis testing to draw conclusions about the validity of their hypotheses.\n",
        "3)Businesses use hypothesis testing to make informed decisions. For example, it can be used to test the effectiveness of a new marketing strategy, compare product versions, or assess the impact of changes in operations.\n",
        "4)In manufacturing and industry, hypothesis testing is used for quality control. It helps determine whether a production process is operating within specified parameters or if adjustments are needed.\n",
        "Importance of Hypothesis Testing:\n",
        "1)Hypothesis testing is a fundamental part of the scientific method. It allows researchers to make objective decisions about their hypotheses.\n",
        "2)It provides a systematic way to make inferences about population parameters based on sample data.\n",
        "3)It assists in making informed decisions in various fields, including business, healthcare, education, and social sciences.\n",
        "4)It helps determine whether observed effects or differences are statistically significant or if they could have occurred by chance."
      ],
      "metadata": {
        "id": "im2MRmQepbzy"
      }
    },
    {
      "cell_type": "markdown",
      "source": [
        "Q4: Create a hypothesis that states whether the average weight of male college students is greater than\n",
        "the average weight of female college students."
      ],
      "metadata": {
        "id": "mug1xTtvvRwp"
      }
    },
    {
      "cell_type": "markdown",
      "source": [
        "Ans: Null hypothesis: The average weight of male college student is greater than the avaverage weight of female college students.\n",
        "Alternate hypothesis: The average weight of male college student is less than or equall to the avaverage weight of female college students."
      ],
      "metadata": {
        "id": "YkiW-mMTvUxf"
      }
    },
    {
      "cell_type": "markdown",
      "source": [
        "Q5. Write a Python script to conduct a hypothesis test on the difference between two population means,\n",
        "given a sample from each population."
      ],
      "metadata": {
        "id": "BOksqgQWyynI"
      }
    },
    {
      "cell_type": "code",
      "source": [
        "import numpy as np\n",
        "import scipy.stats as stats\n",
        "np.random.seed(42)\n",
        "sample_1 = np.random.normal(loc=50,scale=10,size=30)\n",
        "sample_2 = np.random.normal(loc=47,scale=7,size=30)\n",
        "alpha = 0.05\n",
        "t_statistic, p_value = stats.ttest_ind(sample_1,sample_2,equal_var=False)\n",
        "if p_value < alpha:\n",
        "  print (\"Reject the null hypothesis.\")\n",
        "else:\n",
        "  print(\"Fail to reject the null hypothesis.\")"
      ],
      "metadata": {
        "colab": {
          "base_uri": "https://localhost:8080/"
        },
        "id": "mbLoyVduzotp",
        "outputId": "bf23e10f-ab09-48b0-b3a3-88c3457bce50"
      },
      "execution_count": null,
      "outputs": [
        {
          "output_type": "stream",
          "name": "stdout",
          "text": [
            "Fail to reject the null hypothesis.\n"
          ]
        }
      ]
    },
    {
      "cell_type": "markdown",
      "source": [
        "Q6: What is a null and alternative hypothesis? Give some examples."
      ],
      "metadata": {
        "id": "AUdQO5Ob4TcM"
      }
    },
    {
      "cell_type": "markdown",
      "source": [
        "Ans: Null Hypothesis (H0): The null hypothesis is a statement of no effect, no difference, or no relationship. It represents a baseline assumption that there is no significant change or no effect of an intervention.\n",
        "Alternative Hypothesis (H1): The alternative hypothesis is a statement that contradicts the null hypothesis\n",
        "Example - Drug Efficacy:\n",
        "Null Hypothesis (H0): The mean blood pressure of patients who took the new drug is equal to the mean blood pressure of patients who took a regular one.\n",
        "Alternative Hypothesis (H1): The mean blood pressure of patients who took the new drug is different from the mean blood pressure of patients who took a regular one.\n",
        "Example - Gender and Job Performance:\n",
        "Null Hypothesis (H0): There is no significant difference in the job performance scores between male and female employees.\n",
        "Alternative Hypothesis (H1): There is a significant difference in the job performance scores between male and female employees."
      ],
      "metadata": {
        "id": "CNFXsk5j4usC"
      }
    },
    {
      "cell_type": "markdown",
      "source": [
        "Q7: Write down the steps involved in hypothesis testing."
      ],
      "metadata": {
        "id": "hyO2GRcJ7QlH"
      }
    },
    {
      "cell_type": "markdown",
      "source": [
        "Ans: Step1:\n",
        "Null hypothesis: The assumption you're beginning with\n",
        "Step 2:\n",
        "Alternate hypothesis: The statement that contradicts the null hypothesis\n",
        "Step 3:\n",
        "Experiment: Statistical analysis / Collection of proof\n",
        "Step 4:\n",
        "Conclusion: Rejected the null hypothesis or failed to rejected the null hypothesis"
      ],
      "metadata": {
        "id": "xPvvCapX7R1s"
      }
    },
    {
      "cell_type": "markdown",
      "source": [
        "Q8. Define p-value and explain its significance in hypothesis testing."
      ],
      "metadata": {
        "id": "fhJNO1ZL8tT6"
      }
    },
    {
      "cell_type": "markdown",
      "source": [
        "Ans: The p-value, or probability value, is a measure that helps assess the strength of evidence against a null hypothesis in hypothesis testing. The p-value indicates how probable it is to see the observed results if the null hypothesis is correct.\n",
        "Significance in Hypothesis Testing:\n",
        "The p-value plays a crucial role in hypothesis testing, and its interpretation is key to making decisions about the null hypothesis. Here's how to interpret the p-value:\n",
        "Small p-value: Evidence against the null hypothesis; suggests the presence of an effect or difference.\n",
        "Large p-value: Lack of evidence against the null hypothesis; suggests that observed results are consistent with the null hypothesis.\n",
        "Researchers choose a significance level (alpha, often set at 0.05) to determine the threshold for statistical significance. If the p-value is less than or equal to the chosen significance level, the result is considered statistically significant, and the null hypothesis is rejected. If the p-value is greater than the significance level, there is insufficient evidence to reject the null hypothesis.\n",
        "It's important to note that the p-value does not provide the probability that either hypothesis is true; it only indicates the strength of evidence against the null hypothesis based on the observed data."
      ],
      "metadata": {
        "id": "6Wu4RHNr8tRO"
      }
    },
    {
      "cell_type": "markdown",
      "source": [
        "Q9. Generate a Student's t-distribution plot using Python's matplotlib library, with the degrees of freedom\n",
        "parameter set to 10."
      ],
      "metadata": {
        "id": "1UD6GawV9rf6"
      }
    },
    {
      "cell_type": "code",
      "source": [
        "import numpy as np\n",
        "import matplotlib.pyplot as plt\n",
        "from scipy.stats import t\n",
        "\n",
        "# Set degrees of freedom\n",
        "degrees_of_freedom = 10\n",
        "x_space = np.linspace(-4,4,1000)\n",
        "pdf_values = t.pdf(x_space,df=degrees_of_freedom)\n",
        "plt.plot(x_space, pdf_values, label=f'Student\\'s t-distribution (df={degrees_of_freedom})')\n",
        "\n",
        "\n"
      ],
      "metadata": {
        "colab": {
          "base_uri": "https://localhost:8080/",
          "height": 448
        },
        "id": "KZKs1EQp-IJX",
        "outputId": "c5fa8790-012d-43fc-cbf6-0df4e88c3226"
      },
      "execution_count": null,
      "outputs": [
        {
          "output_type": "execute_result",
          "data": {
            "text/plain": [
              "[<matplotlib.lines.Line2D at 0x77fc48e3ea10>]"
            ]
          },
          "metadata": {},
          "execution_count": 104
        },
        {
          "output_type": "display_data",
          "data": {
            "text/plain": [
              "<Figure size 640x480 with 1 Axes>"
            ],
            "image/png": "[encoded data removed]"
          },
          "metadata": {}
        }
      ]
    },
    {
      "cell_type": "markdown",
      "source": [
        "Q10. Write a Python program to calculate the two-sample t-test for independent samples, given two\n",
        "random samples of equal size and a null hypothesis that the population means are equal."
      ],
      "metadata": {
        "id": "Zc1K7N63bZNh"
      }
    },
    {
      "cell_type": "code",
      "source": [
        "import numpy as np\n",
        "import scipy.stats as stats\n",
        "np.random.seed(42)\n",
        "sample_1 = np.random.normal(loc=50,scale=10,size=30)\n",
        "sample_2 = np.random.normal(loc=47,scale=7,size=30)\n",
        "alpha = 0.05\n",
        "null_hypothesis = \"The population means are equal.\"\n",
        "t_statistic, p_value = stats.ttest_ind(sample_1,sample_2,equal_var=False)\n",
        "if p_value < alpha:\n",
        "  print (\"Reject the null hypothesis. There is evidence of a significant difference.\")\n",
        "else:\n",
        "  print(\"Fail to reject the null hypothesis. There is no significant difference.\")"
      ],
      "metadata": {
        "colab": {
          "base_uri": "https://localhost:8080/"
        },
        "id": "UUP_5p-Z7Rpk",
        "outputId": "a8a39835-2e5e-4220-d0f5-868986aa4498"
      },
      "execution_count": null,
      "outputs": [
        {
          "output_type": "stream",
          "name": "stdout",
          "text": [
            "Fail to reject the null hypothesis. There is no significant difference.\n"
          ]
        }
      ]
    },
    {
      "cell_type": "markdown",
      "source": [
        "Q11: What is Student’s t distribution? When to use the t-Distribution."
      ],
      "metadata": {
        "id": "wYDN34VhIje6"
      }
    },
    {
      "cell_type": "markdown",
      "source": [
        "Ans: Student's t-distribution (or simply the t-distribution) is a probability distribution that is used in statistical inference for estimating population parameters and hypothesis testing. The t-distribution is similar to the normal distribution but has heavier tails, making it more suitable for small sample sizes.\n",
        "The probability density function (PDF) of the t-distribution is characterized by its degrees of freedom (df). The t-distribution becomes closer to the standard normal distribution as the degrees of freedom increase.\n",
        "When to use the t-Distribution:\n",
        "1)When the population standard deviation is unknown and has to be estimated from the sample data, the t-distribution is used instead of the normal distribution.\n",
        "2)The t-distribution is commonly used for constructing confidence intervals for population parameters, such as the mean.\n",
        "3)In hypothesis testing, when the sample size is small and the population standard deviation is unknown, the t-distribution is used for testing hypotheses about population means.\n",
        "4)When comparing the means of two independent samples (e.g., using a t-test for independent samples), the t-distribution is used."
      ],
      "metadata": {
        "id": "Af2l3QXUIz7-"
      }
    },
    {
      "cell_type": "markdown",
      "source": [
        "Q12: What is t-statistic? State the formula for t-statistic."
      ],
      "metadata": {
        "id": "WiRzLSU9JZao"
      }
    },
    {
      "cell_type": "markdown",
      "source": [
        "Ans: The t-statistic is a measure used in statistical hypothesis testing to assess the difference between sample means and determine if it is statistically significant. It is particularly applicable when working with small sample sizes or when the population standard deviation is unknown.\n",
        "The formula for the t-statistic depends on the context in which it is used. Below are two common scenarios: one-sample t-test and two-sample t-test.\n",
        "The one-sample t-test is used to determine if the mean of a single sample is significantly different from a known or hypothesized population mean.\n",
        "The formula for the t-statistic in a one-sample t-test is:\n",
        "sample mean - hypothesized population mean / (s/root n)\n",
        "The two-sample t-test is used to assess whether the means of two independent samples are significantly different.\n",
        "The formula for the t-statistic in a two-sample t-test is:\n",
        "sample mean1 - smaple mean2 / root((sample variance1 / sample size1) + (sample variance2 / sample size2))\n"
      ],
      "metadata": {
        "id": "vrS9Tr9_Jaba"
      }
    },
    {
      "cell_type": "markdown",
      "source": [
        "Q13. A coffee shop owner wants to estimate the average daily revenue for their shop. They take a random\n",
        "sample of 50 days and find the sample mean revenue to be $500 with a standard deviation of $50.\n",
        "Estimate the population mean revenue with a 95% confidence interval."
      ],
      "metadata": {
        "id": "5yzq5ofrMHRr"
      }
    },
    {
      "cell_type": "code",
      "source": [
        "# Specify sample mean (x_bar), sample standard deviation (s), sample size (n) and confidence level\n",
        "x_bar = 500\n",
        "s = 50\n",
        "confidence_level =.95\n",
        "n = 50\n",
        "\n",
        "# Calculate alpha, degrees of freedom (df), the critical t-value, and the margin of error\n",
        "alpha = 1 - confidence_level\n",
        "df = n - 1\n",
        "critical_t_value1 = stats.t.ppf(1 - alpha/2, df)\n",
        "standard_error1  =  s/math.sqrt(n)\n",
        "margin_of_error1 = critical_t_value * standard_error\n",
        "\n",
        "# Calculate the lower and upper bound of the confidence interval\n",
        "lower_bound1 = x_bar - margin_of_error1\n",
        "upper_bound1 = x_bar + margin_of_error1\n",
        "\n",
        "\n",
        "print(f\"Critical t-value: {critical_t_value1.round(3)}\")\n",
        "print(f\"Margin of Error: {margin_of_error1.round(3)}\")\n",
        "print(f\"Confidence Interval: [{lower_bound1.round(3)},{upper_bound1.round(3)}]\")\n",
        "print(f\"The {confidence_level} confidence interval for the population mean is:\")\n",
        "print(f\"between {lower_bound1.round(3)} and {upper_bound1.round(3)}\")"
      ],
      "metadata": {
        "colab": {
          "base_uri": "https://localhost:8080/"
        },
        "id": "5kBx6aXc6Kid",
        "outputId": "3a2f20c3-bdfb-4ff3-e64c-8b60ca101aaf"
      },
      "execution_count": 119,
      "outputs": [
        {
          "output_type": "stream",
          "name": "stdout",
          "text": [
            "Critical t-value: 2.01\n",
            "Margin of Error: 14.21\n",
            "Confidence Interval: [485.79,514.21]\n",
            "The 0.95 confidence interval for the population mean is:\n",
            "between 485.79 and 514.21\n"
          ]
        }
      ]
    },
    {
      "cell_type": "markdown",
      "source": [
        "Q14. A researcher hypothesizes that a new drug will decrease blood pressure by 10 mmHg. They conduct a\n",
        "clinical trial with 100 patients and find that the sample mean decrease in blood pressure is 8 mmHg with a\n",
        "standard deviation of 3 mmHg. Test the hypothesis with a significance level of 0.05."
      ],
      "metadata": {
        "id": "QVH_Q_sSM10W"
      }
    },
    {
      "cell_type": "code",
      "source": [
        "sample_mean = 8\n",
        "hypothesized_mean = 10\n",
        "sample_std = 3\n",
        "sample_size = 100\n",
        "significance_level = 0.05\n",
        "\n",
        "t_statistic = ( sample_mean - hypothesized_mean ) / (sample_std / math.sqrt(sample_size))\n",
        "\n",
        "degree_of_freedom = sample_size - 1\n",
        "\n",
        "critical_t_value_left = stats.t.ppf(significance_level/2, degree_of_freedom)\n",
        "critical_t_value_right = stats.t.ppf(1-significance_level/2, degree_of_freedom)\n",
        "\n",
        "p_value = 2 * (1 - stats.t.cdf(np.abs(t_statistic), degrees_of_freedom))\n",
        "\n",
        "print(f\"t-statistic: {t_statistic:.4f}\")\n",
        "print(f\"Critical t-value: {critical_t_value:.4f}\")\n",
        "print(f\"P-value: {p_value:.4f}\")\n",
        "\n",
        "\n",
        "if t_statistic < critical_t_value_left or t_statistic > critical_t_value_right or p_value < significance_level:\n",
        "    print(\"Reject the null hypothesis at the 0.05 significance level.\")\n",
        "else:\n",
        "    print(\"Fail to reject the null hypothesis at the 0.05 significance level.\")\n"
      ],
      "metadata": {
        "colab": {
          "base_uri": "https://localhost:8080/"
        },
        "id": "4yH5p6-BkLio",
        "outputId": "dc651444-c02c-4c38-c6d8-874b36c22b75"
      },
      "execution_count": null,
      "outputs": [
        {
          "output_type": "stream",
          "name": "stdout",
          "text": [
            "t-statistic: -6.6667\n",
            "Critical t-value: 2.7195\n",
            "P-value: 0.0001\n",
            "Reject the null hypothesis at the 0.05 significance level.\n"
          ]
        }
      ]
    },
    {
      "cell_type": "markdown",
      "source": [
        "Q15. An electronics company produces a certain type of product with a mean weight of 5 pounds and a\n",
        "standard deviation of 0.5 pounds. A random sample of 25 products is taken, and the sample mean weight\n",
        "is found to be 4.8 pounds. Test the hypothesis that the true mean weight of the products is less than 5\n",
        "pounds with a significance level of 0.01."
      ],
      "metadata": {
        "id": "AgUUMBFay3ld"
      }
    },
    {
      "cell_type": "code",
      "source": [
        "import scipy.stats as stats\n",
        "import numpy as np\n",
        "import math\n",
        "sample_mean = 4.8\n",
        "sample_standard_deviation = .5\n",
        "hypothesized_mean = 5\n",
        "sample_size = 25\n",
        "significance_level = .01\n",
        "\n",
        "t_statistic = (sample_mean - hypothesized_mean) / (sample_standard_deviation / math.sqrt(sample_size))\n",
        "\n",
        "degree_of_freedom = sample_size - 1\n",
        "\n",
        "critical_t_value = stats.t.ppf(significance_level / 2 , degree_of_freedom)\n",
        "\n",
        "p_value = stats.t.cdf(t_statistic, degree_of_freedom)\n",
        "\n",
        "print(f\"t-statistic: {t_statistic:.4f}\")\n",
        "print(f\"Critical t-value: {critical_t_value:.4f}\")\n",
        "print(f\"P-value: {p_value:.4f}\")\n",
        "\n",
        "\n",
        "if t_statistic < critical_t_value or p_value < significance_level:\n",
        "    print(\"Reject the null hypothesis at the 0.01 significance level.\")\n",
        "else:\n",
        "    print(\"Fail to reject the null hypothesis at the 0.01 significance level.\")"
      ],
      "metadata": {
        "id": "yj62wuKtpTel",
        "colab": {
          "base_uri": "https://localhost:8080/"
        },
        "outputId": "36a21fc5-a3a8-4606-b3f8-45708231723b"
      },
      "execution_count": null,
      "outputs": [
        {
          "output_type": "stream",
          "name": "stdout",
          "text": [
            "t-statistic: -2.0000\n",
            "Critical t-value: -2.7969\n",
            "P-value: 0.0285\n",
            "Fail to reject the null hypothesis at the 0.01 significance level.\n"
          ]
        }
      ]
    },
    {
      "cell_type": "markdown",
      "source": [
        "Q16. Two groups of students are given different study materials to prepare for a test. The first group (n1 =\n",
        "30) has a mean score of 80 with a standard deviation of 10, and the second group (n2 = 40) has a mean\n",
        "score of 75 with a standard deviation of 8. Test the hypothesis that the population means for the two\n",
        "groups are equal with a significance level of 0.01."
      ],
      "metadata": {
        "id": "13bcl2X4y47L"
      }
    },
    {
      "cell_type": "code",
      "source": [
        "import scipy.stats as stats\n",
        "import numpy as np\n",
        "\n",
        "# group 1\n",
        "mean1 = 80\n",
        "sample1 = 30\n",
        "standard_deviation1 = 10\n",
        "\n",
        "# group 2\n",
        "mean2 = 75\n",
        "sample2 = 8\n",
        "standard_deviation2 = 40\n",
        "\n",
        "significance_level = .01\n",
        "\n",
        "t_statistic = (mean1 - mean2) / (math.sqrt((standard_deviation1**2/sample1) + (standard_deviation2**2/sample2)))\n",
        "\n",
        "degree_of_freedom = sample1 + sample2 -2\n",
        "\n",
        "critical_t_value = stats.t.ppf(1 - significance_level / 2 ,degree_of_freedom)\n",
        "\n",
        "p_value = 2 * (1 - stats.t.cdf(np.abs(t_statistic), degree_of_freedom))\n",
        "\n",
        "print(f\"t-statistic: {t_statistic:.4f}\")\n",
        "print(f\"Critical t-value: {critical_t_value:.4f}\")\n",
        "print(f\"P-value: {p_value:.4f}\")\n",
        "\n",
        "\n",
        "if p_value < significance_level:\n",
        "    print(\"Reject the null hypothesis at the 0.01 significance level.\")\n",
        "else:\n",
        "    print(\"Fail to reject the null hypothesis at the 0.01 significance level.\")"
      ],
      "metadata": {
        "colab": {
          "base_uri": "https://localhost:8080/"
        },
        "id": "Qd6V1GQkzPzF",
        "outputId": "7141462b-140e-4e6d-8f75-e6c1cd954761"
      },
      "execution_count": null,
      "outputs": [
        {
          "output_type": "stream",
          "name": "stdout",
          "text": [
            "t-statistic: 0.3506\n",
            "Critical t-value: 2.7195\n",
            "P-value: 0.7279\n",
            "Fail to reject the null hypothesis at the 0.01 significance level.\n"
          ]
        }
      ]
    },
    {
      "cell_type": "markdown",
      "source": [
        "Q17. A marketing company wants to estimate the average number of ads watched by viewers during a TV\n",
        "program. They take a random sample of 50 viewers and find that the sample mean is 4 with a standard\n",
        "deviation of 1.5. Estimate the population mean with a 99% confidence interval."
      ],
      "metadata": {
        "id": "6JBOug4j5FAH"
      }
    },
    {
      "cell_type": "code",
      "source": [
        "import scipy.stats as stats\n",
        "import numpy as np\n",
        "\n",
        "sample_size = 50\n",
        "sample_mean = 4\n",
        "sample_standard_deviation = 1.5\n",
        "confidence_level = .99\n",
        "significance_level = 1- confidence_level\n",
        "degree_of_freedom = sample_size - 1\n",
        "critical_t_value = stats.t.ppf( 1 - significance_level / 2 , degree_of_freedom)\n",
        "standard_error = sample_standard_deviation/math.sqrt(sample_size)\n",
        "margin_of_error =  critical_t_value*standard_error\n",
        "lower_bound = sample_mean - margin_of_error\n",
        "upper_bound = sample_mean + margin_of_error\n",
        "print(f\"Critical t-value: {critical_t_value.round(3)}\")\n",
        "print(f\"Margin of Error: {margin_of_error.round(3)}\")\n",
        "print(f\"Confidence Interval: [{lower_bound.round(3)},{upper_bound.round(3)}]\")\n",
        "print(f\"The {confidence_level} confidence interval for the population mean is:\")\n",
        "print(f\"between {lower_bound.round(3)} and {upper_bound.round(3)}\")"
      ],
      "metadata": {
        "id": "pOVwXplj5G2_",
        "colab": {
          "base_uri": "https://localhost:8080/"
        },
        "outputId": "273e8b91-18c6-41f2-d981-69461dbe03e9"
      },
      "execution_count": 120,
      "outputs": [
        {
          "output_type": "stream",
          "name": "stdout",
          "text": [
            "Critical t-value: 2.68\n",
            "Margin of Error: 0.569\n",
            "Confidence Interval: [3.431,4.569]\n",
            "The 0.99 confidence interval for the population mean is:\n",
            "between 3.431 and 4.569\n"
          ]
        }
      ]
    }
  ]
}