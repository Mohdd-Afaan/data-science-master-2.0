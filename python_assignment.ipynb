{
  "nbformat": 4,
  "nbformat_minor": 0,
  "metadata": {
    "colab": {
      "provenance": [],
      "authorship_tag": "ABX9TyOGEOP9YmvV5VQKPgmDTNBe",
      "include_colab_link": true
    },
    "kernelspec": {
      "name": "python3",
      "display_name": "Python 3"
    },
    "language_info": {
      "name": "python"
    },
    "accelerator": "TPU"
  },
  "cells": [
    {
      "cell_type": "markdown",
      "metadata": {
        "id": "view-in-github",
        "colab_type": "text"
      },
      "source": [
        "<a href=\"https://colab.research.google.com/github/Mohdd-Afaan/data-science-master-2.0/blob/main/python_assignment.ipynb\" target=\"_parent\"><img src=\"https://colab.research.google.com/assets/colab-badge.svg\" alt=\"Open In Colab\"/></a>"
      ]
    },
    {
      "cell_type": "markdown",
      "source": [
        "Q1. Explain Class and Object with respect to Object-Oriented Programming. Give a suitable example."
      ],
      "metadata": {
        "id": "4JRzifZ1SzbN"
      }
    },
    {
      "cell_type": "markdown",
      "source": [
        "Ans: Classes can be defined as user-defined data types the acts as a framework for individual objects,attributes and methods. The user-defined data types are created ueing \"class\" keyword. Objects can be defined as instances of class created wit specifically defined data."
      ],
      "metadata": {
        "id": "QYWFMvAoS4XH"
      }
    },
    {
      "cell_type": "code",
      "execution_count": 5,
      "metadata": {
        "id": "9z9BP-88RvHl"
      },
      "outputs": [],
      "source": [
        "class students:\n",
        "  def __init__(self, student_name, student_id, mobile_number, email_id):\n",
        "    self.__student_name = student_name\n",
        "    self.__student_id = student_id\n",
        "    self.mobile_number = mobile_number\n",
        "    self.email_id = email_id\n",
        "  @property\n",
        "  def student_access(self):\n",
        "    return self.__student_name, self.__student_id"
      ]
    },
    {
      "cell_type": "code",
      "source": [
        "student_1 = students(\"Michal\", 101, 9194345261, \"michal@xyz.com\")"
      ],
      "metadata": {
        "id": "_AV-ntWc4Iid"
      },
      "execution_count": 6,
      "outputs": []
    },
    {
      "cell_type": "code",
      "source": [
        "student_1.email_id,student_1.mobile_number,student_1.student_access"
      ],
      "metadata": {
        "colab": {
          "base_uri": "https://localhost:8080/"
        },
        "id": "S4BqGxm-4i4h",
        "outputId": "4a92813b-00c2-4ae6-db6c-a5b77df2e2b0"
      },
      "execution_count": 8,
      "outputs": [
        {
          "output_type": "execute_result",
          "data": {
            "text/plain": [
              "('michal@xyz.com', 9194345261, ('Michal', 101))"
            ]
          },
          "metadata": {},
          "execution_count": 8
        }
      ]
    },
    {
      "cell_type": "markdown",
      "source": [
        "Q2. Name the four pillars of OOPs."
      ],
      "metadata": {
        "id": "CMZxPNYM53Td"
      }
    },
    {
      "cell_type": "markdown",
      "source": [
        "Ans: The four pillars of OOPs are\n",
        "      1) Abstraction\n",
        "      2) Polymorphism\n",
        "      3) Encapsulation\n",
        "      4) Inheritance\n"
      ],
      "metadata": {
        "id": "0klNWoP6567U"
      }
    },
    {
      "cell_type": "markdown",
      "source": [
        "Q3. Explain why the __init__() function is used. Give a suitable example."
      ],
      "metadata": {
        "id": "TEr906bD6aIt"
      }
    },
    {
      "cell_type": "markdown",
      "source": [
        "Ans: The \"__init__\" function is a constructor in python object oriented approach. This method is called when an object is created from a class and it allows the class to initialize the attributes of the class"
      ],
      "metadata": {
        "id": "8ziHKkdK6bDA"
      }
    },
    {
      "cell_type": "code",
      "source": [
        "class student_skills:\n",
        "  def __init__(self, student_name, student_id, skills_opted):\n",
        "    self.student_name = student_name\n",
        "    self.student_id = student_id\n",
        "    self.skills_opted = skills_opted"
      ],
      "metadata": {
        "id": "O8yJHoqN4sz6"
      },
      "execution_count": 9,
      "outputs": []
    },
    {
      "cell_type": "code",
      "source": [
        "student_s_1 = student_skills(\"Michal\", 101, [\"python\",\"sql\"])"
      ],
      "metadata": {
        "id": "cHjdQdw08IMI"
      },
      "execution_count": 10,
      "outputs": []
    },
    {
      "cell_type": "markdown",
      "source": [
        "Q4. Why self is used in OOPs?"
      ],
      "metadata": {
        "id": "o_2Blcil8idU"
      }
    },
    {
      "cell_type": "markdown",
      "source": [
        "Ans: \"Self\" is used in python to access the atributes, methods of the class in python. The \"self\" keyword is used to represent an instance(object) of a given class."
      ],
      "metadata": {
        "id": "xztiE4LM8kEd"
      }
    },
    {
      "cell_type": "markdown",
      "source": [
        "Q5. What is inheritance? Give an example for each type of inheritance."
      ],
      "metadata": {
        "id": "HWi2RVOm9lyw"
      }
    },
    {
      "cell_type": "markdown",
      "source": [
        "Ans: It is the concept in oops in which one class inherits the attributes, methods of another class. The class that inherits the attributes, methods is known as child class. The class whose attributes, methods are inherited is known as parent class.\n",
        "The two types of inheritance are:\n",
        "1) Multi-label inheritance\n",
        "2) Multiple inheritance"
      ],
      "metadata": {
        "id": "iKUU0shn9rli"
      }
    },
    {
      "cell_type": "code",
      "source": [
        "# Multi-label inheritance\n",
        "class class1:\n",
        "  def test_class_1(self):\n",
        "    print(\"this is class 1\")\n",
        "class class2(class1):\n",
        "  def test_class_2(self):\n",
        "    print(\"this is class 2\")\n",
        "class class3(class2):\n",
        "  def test_class_3(self):\n",
        "    print(\"this is class 3\")"
      ],
      "metadata": {
        "id": "3m5Ek0B_8Y94"
      },
      "execution_count": 16,
      "outputs": []
    },
    {
      "cell_type": "code",
      "source": [
        "class_3_obj = class3()"
      ],
      "metadata": {
        "id": "X3lT8l0B8dPa"
      },
      "execution_count": 17,
      "outputs": []
    },
    {
      "cell_type": "code",
      "source": [
        "class_3_obj.test_class_1(),class_3_obj.test_class_2(),class_3_obj.test_class_3()"
      ],
      "metadata": {
        "colab": {
          "base_uri": "https://localhost:8080/"
        },
        "id": "Kq6KqXRtATK8",
        "outputId": "7aa94eb3-605a-45e6-d68f-dcb100e6a078"
      },
      "execution_count": 23,
      "outputs": [
        {
          "output_type": "stream",
          "name": "stdout",
          "text": [
            "this is class 1\n",
            "this is class 2\n",
            "this is class 3\n"
          ]
        },
        {
          "output_type": "execute_result",
          "data": {
            "text/plain": [
              "(None, None, None)"
            ]
          },
          "metadata": {},
          "execution_count": 23
        }
      ]
    },
    {
      "cell_type": "code",
      "source": [
        "# Multiple inheritance\n",
        "class class11:\n",
        "  def test_class_1(self):\n",
        "    print(\"this is class 1\")\n",
        "class class22:\n",
        "  def test_class_2(self):\n",
        "    print(\"this is class 2\")\n",
        "class class33(class11, class22):\n",
        "  pass"
      ],
      "metadata": {
        "id": "0E7FzpJmAn5M"
      },
      "execution_count": 27,
      "outputs": []
    },
    {
      "cell_type": "code",
      "source": [
        "obj_class_3 = class33()"
      ],
      "metadata": {
        "id": "HcCjuM2hBzvj"
      },
      "execution_count": 28,
      "outputs": []
    },
    {
      "cell_type": "code",
      "source": [
        "obj_class_3.test_class_1(),obj_class_3.test_class_2()"
      ],
      "metadata": {
        "colab": {
          "base_uri": "https://localhost:8080/"
        },
        "id": "3uHXVhhFCmOZ",
        "outputId": "af0dcb7a-06c8-4849-9dfc-84bbc604edfc"
      },
      "execution_count": 30,
      "outputs": [
        {
          "output_type": "stream",
          "name": "stdout",
          "text": [
            "this is class 1\n",
            "this is class 2\n"
          ]
        },
        {
          "output_type": "execute_result",
          "data": {
            "text/plain": [
              "(None, None)"
            ]
          },
          "metadata": {},
          "execution_count": 30
        }
      ]
    }
  ]
}