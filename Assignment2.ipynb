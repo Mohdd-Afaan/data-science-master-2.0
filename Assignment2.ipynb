{
  "nbformat": 4,
  "nbformat_minor": 0,
  "metadata": {
    "colab": {
      "provenance": [],
      "authorship_tag": "ABX9TyMMRx1WqL1lK2TIRsE6E+Za",
      "include_colab_link": true
    },
    "kernelspec": {
      "name": "python3",
      "display_name": "Python 3"
    },
    "language_info": {
      "name": "python"
    }
  },
  "cells": [
    {
      "cell_type": "markdown",
      "metadata": {
        "id": "view-in-github",
        "colab_type": "text"
      },
      "source": [
        "<a href=\"https://colab.research.google.com/github/Mohdd-Afaan/data-science-master-2.0/blob/main/Assignment2.ipynb\" target=\"_parent\"><img src=\"https://colab.research.google.com/assets/colab-badge.svg\" alt=\"Open In Colab\"/></a>"
      ]
    },
    {
      "cell_type": "markdown",
      "source": [
        "Q1: How do you comment code in Python? What are the different types of comments?\n",
        "\n"
      ],
      "metadata": {
        "id": "Iyq0zQtr7w5F"
      }
    },
    {
      "cell_type": "markdown",
      "source": [
        "Ans: Comment are used in code cell texts thats enables a user to understand the code. The different types of comment code are single-line, a sindle line comment starts with #. Multi-line comment, since python doesnt have the feature of multiline comment by this can be overcommed by useing # before every line, the another way is to make it wrap the text/code you want to comment useing '(your comment)' or '''(your comment)'''."
      ],
      "metadata": {
        "id": "ZY1W_bA4IUCv"
      }
    },
    {
      "cell_type": "markdown",
      "source": [
        "Q2. What are variables in Python? How do you declare and assign values to variables?"
      ],
      "metadata": {
        "id": "O5r5sftoBFzO"
      }
    },
    {
      "cell_type": "markdown",
      "source": [
        "Ans: Python variables are simply containers for storing data values. Unlike other programming language you do not need to declare variable so you create one the moment you first assign a value to it. The value is assigned to a variable useing = . It also means that the space incomputer memory assosiated with the variable holds the value."
      ],
      "metadata": {
        "id": "JUSOwe1JIYbn"
      }
    },
    {
      "cell_type": "markdown",
      "source": [
        "Q3. How do you convert one data type to another in Python?"
      ],
      "metadata": {
        "id": "KdM-t_3hCyIZ"
      }
    },
    {
      "cell_type": "markdown",
      "source": [
        "Ans: We can convert one data type to another useing type coversion useing tuple(), list(), set() etc."
      ],
      "metadata": {
        "id": "I8kxFKedIeLC"
      }
    },
    {
      "cell_type": "markdown",
      "source": [],
      "metadata": {
        "id": "GMmFDdCbIvVN"
      }
    },
    {
      "cell_type": "markdown",
      "source": [
        "Q4. How do you write and execute a Python script from the command line?  "
      ],
      "metadata": {
        "id": "Mk3PJLC-Db2A"
      }
    },
    {
      "cell_type": "markdown",
      "source": [
        "Ans: The basic and easy way to execute a python script is by useing python command. Open the command line and type the word python followed by the path to your script file like: python test_script.py and then hit enter key."
      ],
      "metadata": {
        "id": "lHuRMPWbIzOu"
      }
    },
    {
      "cell_type": "markdown",
      "source": [
        "Q5. Given a list my_list = [1, 2, 3, 4, 5], write the code to slice the list and obtain the sub-list [2, 3]."
      ],
      "metadata": {
        "id": "Ce-tY5EvFFxV"
      }
    },
    {
      "cell_type": "code",
      "execution_count": 11,
      "metadata": {
        "colab": {
          "base_uri": "https://localhost:8080/"
        },
        "id": "hei0yb627kph",
        "outputId": "cdd60d98-fdda-4f0b-88da-71d99b136813"
      },
      "outputs": [
        {
          "output_type": "execute_result",
          "data": {
            "text/plain": [
              "[2, 3]"
            ]
          },
          "metadata": {},
          "execution_count": 11
        }
      ],
      "source": [
        "my_list = [1, 2, 3, 4, 5]\n",
        "sub_list = my_list[1:3]\n",
        "sub_list"
      ]
    },
    {
      "cell_type": "markdown",
      "source": [
        "Q6. What is a complex number in mathematics, and how is it represented in Python?"
      ],
      "metadata": {
        "id": "7_Xi9ucTF86Q"
      }
    },
    {
      "cell_type": "markdown",
      "source": [
        "Ans: Complex numbers are the numbers that can be represented in the form of (a+bi) where a and b are real numbers and i is an imaginary number called as iota. In python it can be written in the form (a+bj) where a and b are real numbers and i is an imaginary number  "
      ],
      "metadata": {
        "id": "Nmut6_7yI-RV"
      }
    },
    {
      "cell_type": "markdown",
      "source": [
        "Q7. What is the correct way to declare a variable named age and assign the value 25 to it? Ans: Python has no commmand to declare variable. Simply just age = 25"
      ],
      "metadata": {
        "id": "-VArzoV5HHuV"
      }
    },
    {
      "cell_type": "code",
      "source": [
        "age = 25\n",
        "age"
      ],
      "metadata": {
        "colab": {
          "base_uri": "https://localhost:8080/"
        },
        "id": "B5N8CCFGHrry",
        "outputId": "01828426-cfe3-4357-9d5c-07bd787ec5dd"
      },
      "execution_count": 12,
      "outputs": [
        {
          "output_type": "execute_result",
          "data": {
            "text/plain": [
              "25"
            ]
          },
          "metadata": {},
          "execution_count": 12
        }
      ]
    },
    {
      "cell_type": "markdown",
      "source": [
        "Q8. Declare a variable named price and assign the value 9.99 to it. What data type does this variable\n",
        "belong to? Ans: The variable type of it will be float"
      ],
      "metadata": {
        "id": "ZrpIiEErH3If"
      }
    },
    {
      "cell_type": "code",
      "source": [
        "price = 9.99\n",
        "type(price)"
      ],
      "metadata": {
        "colab": {
          "base_uri": "https://localhost:8080/"
        },
        "id": "P6JM-nHAH_Kd",
        "outputId": "6b2c92f1-6da9-44e1-eee1-046155bf9435"
      },
      "execution_count": 13,
      "outputs": [
        {
          "output_type": "execute_result",
          "data": {
            "text/plain": [
              "float"
            ]
          },
          "metadata": {},
          "execution_count": 13
        }
      ]
    },
    {
      "cell_type": "markdown",
      "source": [
        "Q9. Create a variable named name and assign your full name to it as a string. How would you print the\n",
        "value of this variable?"
      ],
      "metadata": {
        "id": "QYw05ZJnINrn"
      }
    },
    {
      "cell_type": "code",
      "source": [
        "name = \"Mohammad Afaan Khan\"\n",
        "print(name)"
      ],
      "metadata": {
        "colab": {
          "base_uri": "https://localhost:8080/"
        },
        "id": "3gYFSUatIQQG",
        "outputId": "9a23fc84-597e-4aa1-f32c-3c584ab6c8cf"
      },
      "execution_count": 14,
      "outputs": [
        {
          "output_type": "stream",
          "name": "stdout",
          "text": [
            "Mohammad Afaan Khan\n"
          ]
        }
      ]
    },
    {
      "cell_type": "markdown",
      "source": [
        "Q10. Given the string \"Hello, World!\", extract the substring \"World\"."
      ],
      "metadata": {
        "id": "Gts7IC_KJQpt"
      }
    },
    {
      "cell_type": "code",
      "source": [
        "string = \"Hello, World!\"\n",
        "string[7:12]"
      ],
      "metadata": {
        "colab": {
          "base_uri": "https://localhost:8080/",
          "height": 35
        },
        "id": "2v5r7P1oJUR5",
        "outputId": "96940ed0-1055-4fdf-8a9f-f0be851ff304"
      },
      "execution_count": 17,
      "outputs": [
        {
          "output_type": "execute_result",
          "data": {
            "text/plain": [
              "'World'"
            ],
            "application/vnd.google.colaboratory.intrinsic+json": {
              "type": "string"
            }
          },
          "metadata": {},
          "execution_count": 17
        }
      ]
    },
    {
      "cell_type": "markdown",
      "source": [
        "Q11. Create a variable named \"is_student\" and assign it a boolean value indicating whether you are\n",
        "currently a student or not."
      ],
      "metadata": {
        "id": "2LCRVVm9JomX"
      }
    },
    {
      "cell_type": "code",
      "source": [
        "is_student = True"
      ],
      "metadata": {
        "id": "PvtijWN9JxS0"
      },
      "execution_count": 18,
      "outputs": []
    }
  ]
}